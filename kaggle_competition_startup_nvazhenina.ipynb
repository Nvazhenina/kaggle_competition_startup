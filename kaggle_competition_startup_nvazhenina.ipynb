{
 "cells": [
  {
   "cell_type": "markdown",
   "metadata": {},
   "source": [
    "# Startups operations/close predictions"
   ]
  },
  {
   "cell_type": "markdown",
   "metadata": {},
   "source": [
    "**Цель проекта:**\n",
    "- разработать модель для предсказания успешности стартапа (закроется или нет). "
   ]
  },
  {
   "cell_type": "markdown",
   "metadata": {},
   "source": [
    "**Описание данных:**<br>\n",
    "Датасет состоит из двух файлов: тренировочный набор (около 53к записей) и тестовый набор (около 13к записей). Тренировочный набор содержит целевой признак status, указывающий на то, закрылся стартап или продолжает действовать. Временной период - '1970-01-01' по '2018-01-01'. Дата формирования выгрузки - '2018-01-01'"
   ]
  },
  {
   "cell_type": "markdown",
   "metadata": {},
   "source": [
    "**План работ:**<br>\n",
    "- загрузка и ознакомление с данными\n",
    "- предварительная обработка\n",
    "- полноценный разведочный анализ\n",
    "- разработка новых синтетических признаков\n",
    "- проверка на мультиколлинеарность\n",
    "- отбор финального набора обучающих признаков\n",
    "- выбор и обучение моделей\n",
    "- итоговая оценка качества предсказания лучшей модели\n",
    "- анализ важности ее признаков"
   ]
  },
  {
   "cell_type": "code",
   "execution_count": 1,
   "metadata": {},
   "outputs": [],
   "source": [
    "import sys\n",
    "sys.path.append(r'C:\\Users\\Наташа\\AppData\\Roaming\\Python\\Python39\\Scripts')\n",
    "!pip install --user phik -q\n",
    "!pip install --upgrade --user catboost -q\n",
    "!pip install --user shap -q"
   ]
  },
  {
   "cell_type": "code",
   "execution_count": 2,
   "metadata": {},
   "outputs": [],
   "source": [
    "!pip install --user --upgrade  scipy phik -q"
   ]
  },
  {
   "cell_type": "code",
   "execution_count": 3,
   "metadata": {},
   "outputs": [],
   "source": [
    "!pip install --user --upgrade scikit-learn -q"
   ]
  },
  {
   "cell_type": "code",
   "execution_count": 4,
   "metadata": {},
   "outputs": [
    {
     "name": "stderr",
     "output_type": "stream",
     "text": [
      "C:\\Users\\Наташа\\AppData\\Roaming\\Python\\Python39\\site-packages\\pandas\\core\\computation\\expressions.py:21: UserWarning: Pandas requires version '2.8.4' or newer of 'numexpr' (version '2.7.3' currently installed).\n",
      "  from pandas.core.computation.check import NUMEXPR_INSTALLED\n",
      "C:\\Users\\Наташа\\AppData\\Roaming\\Python\\Python39\\site-packages\\pandas\\core\\arrays\\masked.py:60: UserWarning: Pandas requires version '1.3.6' or newer of 'bottleneck' (version '1.3.2' currently installed).\n",
      "  from pandas.core import (\n"
     ]
    }
   ],
   "source": [
    "#импорт библиотек\n",
    "import pandas as pd\n",
    "import matplotlib.pyplot as plt\n",
    "import numpy as np\n",
    "from IPython.display import display\n",
    "import seaborn as sns\n",
    "import phik\n",
    "from sklearn.model_selection import train_test_split\n",
    "\n",
    "# загружаем класс pipeline\n",
    "from sklearn.pipeline import Pipeline\n",
    "\n",
    "# загружаем классы для подготовки данных\n",
    "from sklearn.preprocessing import OneHotEncoder, OrdinalEncoder, StandardScaler, MinMaxScaler, RobustScaler, LabelEncoder\n",
    "from sklearn.compose import ColumnTransformer\n",
    "\n",
    "# загружаем класс для работы с пропусками\n",
    "from sklearn.impute import SimpleImputer\n",
    "\n",
    "# загружаем функцию для работы с метриками\n",
    "from sklearn.metrics import f1_score\n",
    "\n",
    "# импортируем класс RandomizedSearchCV\n",
    "from sklearn.model_selection import RandomizedSearchCV, StratifiedKFold\n",
    "from sklearn.feature_selection import SelectKBest, f_classif\n",
    "from sklearn.base import BaseEstimator, TransformerMixin\n",
    "\n",
    "# загружаем нужные модели\n",
    "from sklearn.linear_model import LogisticRegression\n",
    "from sklearn.neighbors import KNeighborsClassifier\n",
    "from sklearn.tree import DecisionTreeClassifier\n",
    "from sklearn.svm import SVC\n",
    "\n",
    "\n",
    "#import shap\n",
    "\n",
    "from warnings import simplefilter\n",
    "from catboost import Pool, CatBoostClassifier, cv"
   ]
  },
  {
   "cell_type": "code",
   "execution_count": 5,
   "metadata": {},
   "outputs": [],
   "source": [
    "pd.set_option('chained_assignment', None)\n",
    "\n",
    "# ignore all future warnings\n",
    "simplefilter(action='ignore', category=FutureWarning)"
   ]
  },
  {
   "cell_type": "code",
   "execution_count": 6,
   "metadata": {},
   "outputs": [],
   "source": [
    "import shap"
   ]
  },
  {
   "cell_type": "markdown",
   "metadata": {},
   "source": [
    "## Загрузка данных"
   ]
  },
  {
   "cell_type": "code",
   "execution_count": 7,
   "metadata": {},
   "outputs": [],
   "source": [
    "try:\n",
    "    data_train = pd.read_csv('datasets/kaggle_startups_train_27042024.csv', sep = ',', parse_dates=['founded_at', 'first_funding_at', 'last_funding_at', 'closed_at'])\n",
    "    data_test = pd.read_csv('datasets/kaggle_startups_test_27042024.csv', sep = ',', parse_dates=['founded_at', 'first_funding_at',  'last_funding_at'])\n",
    "except FileNotFoundError:\n",
    "    print('Файл не найден. Необходимо проверить путь к файлу')\n",
    "except Exception:\n",
    "    print('Файл не загрузился')"
   ]
  },
  {
   "cell_type": "code",
   "execution_count": 8,
   "metadata": {},
   "outputs": [
    {
     "data": {
      "text/html": [
       "<div>\n",
       "<style scoped>\n",
       "    .dataframe tbody tr th:only-of-type {\n",
       "        vertical-align: middle;\n",
       "    }\n",
       "\n",
       "    .dataframe tbody tr th {\n",
       "        vertical-align: top;\n",
       "    }\n",
       "\n",
       "    .dataframe thead th {\n",
       "        text-align: right;\n",
       "    }\n",
       "</style>\n",
       "<table border=\"1\" class=\"dataframe\">\n",
       "  <thead>\n",
       "    <tr style=\"text-align: right;\">\n",
       "      <th></th>\n",
       "      <th>name</th>\n",
       "      <th>category_list</th>\n",
       "      <th>funding_total_usd</th>\n",
       "      <th>status</th>\n",
       "      <th>country_code</th>\n",
       "      <th>state_code</th>\n",
       "      <th>region</th>\n",
       "      <th>city</th>\n",
       "      <th>funding_rounds</th>\n",
       "      <th>founded_at</th>\n",
       "      <th>first_funding_at</th>\n",
       "      <th>last_funding_at</th>\n",
       "      <th>closed_at</th>\n",
       "    </tr>\n",
       "  </thead>\n",
       "  <tbody>\n",
       "    <tr>\n",
       "      <th>0</th>\n",
       "      <td>Lunchgate</td>\n",
       "      <td>Online Reservations|Restaurants</td>\n",
       "      <td>828626.0</td>\n",
       "      <td>operating</td>\n",
       "      <td>CHE</td>\n",
       "      <td>25</td>\n",
       "      <td>Zurich</td>\n",
       "      <td>Zürich</td>\n",
       "      <td>2</td>\n",
       "      <td>2009-12-31</td>\n",
       "      <td>2011-05-01</td>\n",
       "      <td>2014-12-01</td>\n",
       "      <td>NaT</td>\n",
       "    </tr>\n",
       "    <tr>\n",
       "      <th>1</th>\n",
       "      <td>EarLens</td>\n",
       "      <td>Manufacturing|Medical|Medical Devices</td>\n",
       "      <td>42935019.0</td>\n",
       "      <td>operating</td>\n",
       "      <td>USA</td>\n",
       "      <td>CA</td>\n",
       "      <td>SF Bay Area</td>\n",
       "      <td>Redwood City</td>\n",
       "      <td>4</td>\n",
       "      <td>2005-01-01</td>\n",
       "      <td>2010-05-04</td>\n",
       "      <td>2014-02-25</td>\n",
       "      <td>NaT</td>\n",
       "    </tr>\n",
       "    <tr>\n",
       "      <th>2</th>\n",
       "      <td>Reviva Pharmaceuticals</td>\n",
       "      <td>Biotechnology</td>\n",
       "      <td>35456381.0</td>\n",
       "      <td>operating</td>\n",
       "      <td>USA</td>\n",
       "      <td>CA</td>\n",
       "      <td>SF Bay Area</td>\n",
       "      <td>San Jose</td>\n",
       "      <td>3</td>\n",
       "      <td>2006-01-01</td>\n",
       "      <td>2012-08-20</td>\n",
       "      <td>2014-07-02</td>\n",
       "      <td>NaT</td>\n",
       "    </tr>\n",
       "    <tr>\n",
       "      <th>3</th>\n",
       "      <td>Sancilio and Company</td>\n",
       "      <td>Health Care</td>\n",
       "      <td>22250000.0</td>\n",
       "      <td>operating</td>\n",
       "      <td>NaN</td>\n",
       "      <td>NaN</td>\n",
       "      <td>NaN</td>\n",
       "      <td>NaN</td>\n",
       "      <td>3</td>\n",
       "      <td>2004-01-01</td>\n",
       "      <td>2011-09-01</td>\n",
       "      <td>2014-07-18</td>\n",
       "      <td>NaT</td>\n",
       "    </tr>\n",
       "    <tr>\n",
       "      <th>4</th>\n",
       "      <td>WireTough Cylinders</td>\n",
       "      <td>Manufacturing</td>\n",
       "      <td>NaN</td>\n",
       "      <td>operating</td>\n",
       "      <td>USA</td>\n",
       "      <td>VA</td>\n",
       "      <td>VA - Other</td>\n",
       "      <td>Bristol</td>\n",
       "      <td>1</td>\n",
       "      <td>2010-09-30</td>\n",
       "      <td>2012-02-01</td>\n",
       "      <td>2012-02-01</td>\n",
       "      <td>NaT</td>\n",
       "    </tr>\n",
       "  </tbody>\n",
       "</table>\n",
       "</div>"
      ],
      "text/plain": [
       "                     name                          category_list  \\\n",
       "0               Lunchgate        Online Reservations|Restaurants   \n",
       "1                 EarLens  Manufacturing|Medical|Medical Devices   \n",
       "2  Reviva Pharmaceuticals                          Biotechnology   \n",
       "3    Sancilio and Company                            Health Care   \n",
       "4     WireTough Cylinders                          Manufacturing   \n",
       "\n",
       "   funding_total_usd     status country_code state_code       region  \\\n",
       "0           828626.0  operating          CHE         25       Zurich   \n",
       "1         42935019.0  operating          USA         CA  SF Bay Area   \n",
       "2         35456381.0  operating          USA         CA  SF Bay Area   \n",
       "3         22250000.0  operating          NaN        NaN          NaN   \n",
       "4                NaN  operating          USA         VA   VA - Other   \n",
       "\n",
       "           city  funding_rounds founded_at first_funding_at last_funding_at  \\\n",
       "0        Zürich               2 2009-12-31       2011-05-01      2014-12-01   \n",
       "1  Redwood City               4 2005-01-01       2010-05-04      2014-02-25   \n",
       "2      San Jose               3 2006-01-01       2012-08-20      2014-07-02   \n",
       "3           NaN               3 2004-01-01       2011-09-01      2014-07-18   \n",
       "4       Bristol               1 2010-09-30       2012-02-01      2012-02-01   \n",
       "\n",
       "  closed_at  \n",
       "0       NaT  \n",
       "1       NaT  \n",
       "2       NaT  \n",
       "3       NaT  \n",
       "4       NaT  "
      ]
     },
     "execution_count": 8,
     "metadata": {},
     "output_type": "execute_result"
    }
   ],
   "source": [
    "data_train.head()"
   ]
  },
  {
   "cell_type": "code",
   "execution_count": 9,
   "metadata": {},
   "outputs": [
    {
     "name": "stdout",
     "output_type": "stream",
     "text": [
      "<class 'pandas.core.frame.DataFrame'>\n",
      "RangeIndex: 52514 entries, 0 to 52513\n",
      "Data columns (total 13 columns):\n",
      " #   Column             Non-Null Count  Dtype         \n",
      "---  ------             --------------  -----         \n",
      " 0   name               52513 non-null  object        \n",
      " 1   category_list      50049 non-null  object        \n",
      " 2   funding_total_usd  42445 non-null  float64       \n",
      " 3   status             52514 non-null  object        \n",
      " 4   country_code       47013 non-null  object        \n",
      " 5   state_code         45752 non-null  object        \n",
      " 6   region             46156 non-null  object        \n",
      " 7   city               46156 non-null  object        \n",
      " 8   funding_rounds     52514 non-null  int64         \n",
      " 9   founded_at         52514 non-null  datetime64[ns]\n",
      " 10  first_funding_at   52514 non-null  datetime64[ns]\n",
      " 11  last_funding_at    52514 non-null  datetime64[ns]\n",
      " 12  closed_at          4915 non-null   datetime64[ns]\n",
      "dtypes: datetime64[ns](4), float64(1), int64(1), object(7)\n",
      "memory usage: 5.2+ MB\n"
     ]
    }
   ],
   "source": [
    "data_train.info()"
   ]
  },
  {
   "cell_type": "code",
   "execution_count": 10,
   "metadata": {},
   "outputs": [
    {
     "data": {
      "text/html": [
       "<div>\n",
       "<style scoped>\n",
       "    .dataframe tbody tr th:only-of-type {\n",
       "        vertical-align: middle;\n",
       "    }\n",
       "\n",
       "    .dataframe tbody tr th {\n",
       "        vertical-align: top;\n",
       "    }\n",
       "\n",
       "    .dataframe thead th {\n",
       "        text-align: right;\n",
       "    }\n",
       "</style>\n",
       "<table border=\"1\" class=\"dataframe\">\n",
       "  <thead>\n",
       "    <tr style=\"text-align: right;\">\n",
       "      <th></th>\n",
       "      <th>name</th>\n",
       "      <th>category_list</th>\n",
       "      <th>funding_total_usd</th>\n",
       "      <th>country_code</th>\n",
       "      <th>state_code</th>\n",
       "      <th>region</th>\n",
       "      <th>city</th>\n",
       "      <th>funding_rounds</th>\n",
       "      <th>founded_at</th>\n",
       "      <th>first_funding_at</th>\n",
       "      <th>last_funding_at</th>\n",
       "      <th>lifetime</th>\n",
       "    </tr>\n",
       "  </thead>\n",
       "  <tbody>\n",
       "    <tr>\n",
       "      <th>0</th>\n",
       "      <td>Crystalsol</td>\n",
       "      <td>Clean Technology</td>\n",
       "      <td>2819200.0</td>\n",
       "      <td>NIC</td>\n",
       "      <td>17</td>\n",
       "      <td>NaN</td>\n",
       "      <td>NaN</td>\n",
       "      <td>1</td>\n",
       "      <td>2008-06-01</td>\n",
       "      <td>2009-07-01</td>\n",
       "      <td>2009-07-01</td>\n",
       "      <td>3501</td>\n",
       "    </tr>\n",
       "    <tr>\n",
       "      <th>1</th>\n",
       "      <td>JBI Fish &amp; Wings</td>\n",
       "      <td>Hospitality</td>\n",
       "      <td>NaN</td>\n",
       "      <td>USA</td>\n",
       "      <td>TN</td>\n",
       "      <td>TN - Other</td>\n",
       "      <td>Humboldt</td>\n",
       "      <td>1</td>\n",
       "      <td>2010-07-25</td>\n",
       "      <td>2010-07-28</td>\n",
       "      <td>2010-07-28</td>\n",
       "      <td>2717</td>\n",
       "    </tr>\n",
       "    <tr>\n",
       "      <th>2</th>\n",
       "      <td>COINPLUS</td>\n",
       "      <td>Finance</td>\n",
       "      <td>428257.0</td>\n",
       "      <td>LUX</td>\n",
       "      <td>3</td>\n",
       "      <td>Esch-sur-alzette</td>\n",
       "      <td>Esch-sur-alzette</td>\n",
       "      <td>2</td>\n",
       "      <td>2014-06-16</td>\n",
       "      <td>2014-05-15</td>\n",
       "      <td>2014-09-18</td>\n",
       "      <td>1295</td>\n",
       "    </tr>\n",
       "    <tr>\n",
       "      <th>3</th>\n",
       "      <td>Imagine Communications</td>\n",
       "      <td>Software|Video|Video Streaming</td>\n",
       "      <td>34700000.0</td>\n",
       "      <td>USA</td>\n",
       "      <td>CA</td>\n",
       "      <td>San Diego</td>\n",
       "      <td>San Diego</td>\n",
       "      <td>4</td>\n",
       "      <td>2005-01-01</td>\n",
       "      <td>2005-01-01</td>\n",
       "      <td>2010-04-20</td>\n",
       "      <td>4748</td>\n",
       "    </tr>\n",
       "    <tr>\n",
       "      <th>4</th>\n",
       "      <td>DNA13</td>\n",
       "      <td>Software</td>\n",
       "      <td>4530000.0</td>\n",
       "      <td>CAN</td>\n",
       "      <td>ON</td>\n",
       "      <td>Ottawa</td>\n",
       "      <td>Ottawa</td>\n",
       "      <td>1</td>\n",
       "      <td>2001-01-01</td>\n",
       "      <td>2007-05-08</td>\n",
       "      <td>2007-05-08</td>\n",
       "      <td>6209</td>\n",
       "    </tr>\n",
       "  </tbody>\n",
       "</table>\n",
       "</div>"
      ],
      "text/plain": [
       "                     name                   category_list  funding_total_usd  \\\n",
       "0              Crystalsol                Clean Technology          2819200.0   \n",
       "1        JBI Fish & Wings                     Hospitality                NaN   \n",
       "2                COINPLUS                         Finance           428257.0   \n",
       "3  Imagine Communications  Software|Video|Video Streaming         34700000.0   \n",
       "4                   DNA13                        Software          4530000.0   \n",
       "\n",
       "  country_code state_code            region              city  funding_rounds  \\\n",
       "0          NIC         17               NaN               NaN               1   \n",
       "1          USA         TN        TN - Other          Humboldt               1   \n",
       "2          LUX          3  Esch-sur-alzette  Esch-sur-alzette               2   \n",
       "3          USA         CA         San Diego         San Diego               4   \n",
       "4          CAN         ON            Ottawa            Ottawa               1   \n",
       "\n",
       "  founded_at first_funding_at last_funding_at  lifetime  \n",
       "0 2008-06-01       2009-07-01      2009-07-01      3501  \n",
       "1 2010-07-25       2010-07-28      2010-07-28      2717  \n",
       "2 2014-06-16       2014-05-15      2014-09-18      1295  \n",
       "3 2005-01-01       2005-01-01      2010-04-20      4748  \n",
       "4 2001-01-01       2007-05-08      2007-05-08      6209  "
      ]
     },
     "execution_count": 10,
     "metadata": {},
     "output_type": "execute_result"
    }
   ],
   "source": [
    "data_test.head()"
   ]
  },
  {
   "cell_type": "markdown",
   "metadata": {},
   "source": [
    "Загрузили данные из двух источников.<br>\n",
    "В таблице **data_train** 52514 строк, есть пропуски. Типы данных после преобразования соответствуют. Таблица содержит данные о названии и категории стартапа, сумме финансирования, географии стартапа, количестве раундов финансирования, датах основания и финансирования, дате закрытия, а также целевой признак: статус стартапа (закрыт или действующий). <br>\n",
    "В таблице **data_test** 13125 строк строк, пропуски есть, типы данных соответствуют. Нет целевого признака, при этом есть продолжительность существования стартапа в днях."
   ]
  },
  {
   "cell_type": "markdown",
   "metadata": {},
   "source": [
    "##  Предобработка данных и исследовательский анализ"
   ]
  },
  {
   "cell_type": "markdown",
   "metadata": {},
   "source": [
    "### Исследование таблицы data_train"
   ]
  },
  {
   "cell_type": "code",
   "execution_count": 11,
   "metadata": {},
   "outputs": [
    {
     "data": {
      "text/plain": [
       "name                     1\n",
       "category_list         2465\n",
       "funding_total_usd    10069\n",
       "status                   0\n",
       "country_code          5501\n",
       "state_code            6762\n",
       "region                6358\n",
       "city                  6358\n",
       "funding_rounds           0\n",
       "founded_at               0\n",
       "first_funding_at         0\n",
       "last_funding_at          0\n",
       "closed_at            47599\n",
       "dtype: int64"
      ]
     },
     "execution_count": 11,
     "metadata": {},
     "output_type": "execute_result"
    }
   ],
   "source": [
    "#Проверка на пропуски в данных\n",
    "data_train.isna().sum()"
   ]
  },
  {
   "cell_type": "markdown",
   "metadata": {},
   "source": [
    "Пропуски есть, особенно много их в числовом поле funding_total_usd, их нужно будет заполнить."
   ]
  },
  {
   "cell_type": "code",
   "execution_count": 12,
   "metadata": {},
   "outputs": [
    {
     "data": {
      "text/plain": [
       "0"
      ]
     },
     "execution_count": 12,
     "metadata": {},
     "output_type": "execute_result"
    }
   ],
   "source": [
    "# проверка на явные дубликаты\n",
    "data_train.duplicated().sum()"
   ]
  },
  {
   "cell_type": "markdown",
   "metadata": {},
   "source": [
    "Дубликатов в таблице data_train нет.<br>"
   ]
  },
  {
   "cell_type": "code",
   "execution_count": 13,
   "metadata": {},
   "outputs": [
    {
     "data": {
      "text/plain": [
       "0"
      ]
     },
     "execution_count": 13,
     "metadata": {},
     "output_type": "execute_result"
    }
   ],
   "source": [
    "# проверка на неявные дубликаты\n",
    "data_train['name'].duplicated().sum()"
   ]
  },
  {
   "cell_type": "code",
   "execution_count": 14,
   "metadata": {},
   "outputs": [
    {
     "data": {
      "text/plain": [
       "status\n",
       "operating    47599\n",
       "closed        4915\n",
       "Name: count, dtype: int64"
      ]
     },
     "execution_count": 14,
     "metadata": {},
     "output_type": "execute_result"
    }
   ],
   "source": [
    "data_train['status'].value_counts()"
   ]
  },
  {
   "cell_type": "markdown",
   "metadata": {},
   "source": [
    "Есть дисбаланс классов. Стартапов со статусом closed гораздо меньше, чем со статусом operating. Нужно будет учесть при построении модели."
   ]
  },
  {
   "cell_type": "code",
   "execution_count": 15,
   "metadata": {},
   "outputs": [
    {
     "data": {
      "text/plain": [
       "country_code\n",
       "USA    29701\n",
       "GBR     2925\n",
       "CAN     1540\n",
       "IND     1276\n",
       "CHN     1240\n",
       "       ...  \n",
       "PSE        1\n",
       "SEN        1\n",
       "UZB        1\n",
       "GRD        1\n",
       "ZMB        1\n",
       "Name: count, Length: 134, dtype: int64"
      ]
     },
     "execution_count": 15,
     "metadata": {},
     "output_type": "execute_result"
    }
   ],
   "source": [
    "data_train['country_code'].value_counts()"
   ]
  },
  {
   "cell_type": "markdown",
   "metadata": {},
   "source": [
    "В столбцах неявных дубликатов обнаружено не было."
   ]
  },
  {
   "cell_type": "markdown",
   "metadata": {},
   "source": [
    "### Анализ количественных признаков"
   ]
  },
  {
   "cell_type": "code",
   "execution_count": 16,
   "metadata": {},
   "outputs": [
    {
     "data": {
      "image/png": "[encoded data removed]",
      "text/plain": [
       "<Figure size 720x504 with 1 Axes>"
      ]
     },
     "metadata": {
      "needs_background": "light"
     },
     "output_type": "display_data"
    },
    {
     "data": {
      "image/png": "[encoded data removed]",
      "text/plain": [
       "<Figure size 720x504 with 1 Axes>"
      ]
     },
     "metadata": {
      "needs_background": "light"
     },
     "output_type": "display_data"
    }
   ],
   "source": [
    "data_train.plot(y='funding_total_usd',title='Общая сумма финансирования в USD', kind='hist' ,bins=100, figsize = (10,7), legend = False)\n",
    "plt.ylabel(\"Частота\");\n",
    "data_train.plot(y='funding_total_usd', kind='box' , figsize = (10,7), legend = False);"
   ]
  },
  {
   "cell_type": "markdown",
   "metadata": {},
   "source": [
    "По признаку \"Общая сумма финансирования в USD\" распределение далеко от нормального, много пропусков, много выбросов.<br>\n",
    "Рассмотрим внимательнее на стартапы с меньшей суммой финансирования: до 10000000."
   ]
  },
  {
   "cell_type": "code",
   "execution_count": 17,
   "metadata": {},
   "outputs": [
    {
     "data": {
      "image/png": "[encoded data removed]",
      "text/plain": [
       "<Figure size 720x504 with 1 Axes>"
      ]
     },
     "metadata": {
      "needs_background": "light"
     },
     "output_type": "display_data"
    },
    {
     "data": {
      "image/png": "[encoded data removed]",
      "text/plain": [
       "<Figure size 720x504 with 1 Axes>"
      ]
     },
     "metadata": {
      "needs_background": "light"
     },
     "output_type": "display_data"
    }
   ],
   "source": [
    "data_train.query('funding_total_usd <= 10000000').plot(y='funding_total_usd',title='Общая сумма финансирования в USD', kind='hist' ,bins=100, figsize = (10,7), legend = False)\n",
    "plt.ylabel(\"Частота\");\n",
    "data_train.query('funding_total_usd <= 10000000').plot(y='funding_total_usd', kind='box' , figsize = (10,7), legend = False);"
   ]
  },
  {
   "cell_type": "code",
   "execution_count": 18,
   "metadata": {},
   "outputs": [
    {
     "data": {
      "text/html": [
       "<div>\n",
       "<style scoped>\n",
       "    .dataframe tbody tr th:only-of-type {\n",
       "        vertical-align: middle;\n",
       "    }\n",
       "\n",
       "    .dataframe tbody tr th {\n",
       "        vertical-align: top;\n",
       "    }\n",
       "\n",
       "    .dataframe thead th {\n",
       "        text-align: right;\n",
       "    }\n",
       "</style>\n",
       "<table border=\"1\" class=\"dataframe\">\n",
       "  <thead>\n",
       "    <tr style=\"text-align: right;\">\n",
       "      <th></th>\n",
       "      <th>funding_total_usd</th>\n",
       "      <th>funding_rounds</th>\n",
       "      <th>founded_at</th>\n",
       "      <th>first_funding_at</th>\n",
       "      <th>last_funding_at</th>\n",
       "      <th>closed_at</th>\n",
       "    </tr>\n",
       "  </thead>\n",
       "  <tbody>\n",
       "    <tr>\n",
       "      <th>count</th>\n",
       "      <td>4.244500e+04</td>\n",
       "      <td>52514.000000</td>\n",
       "      <td>52514</td>\n",
       "      <td>52514</td>\n",
       "      <td>52514</td>\n",
       "      <td>4915</td>\n",
       "    </tr>\n",
       "    <tr>\n",
       "      <th>mean</th>\n",
       "      <td>1.824826e+07</td>\n",
       "      <td>1.740679</td>\n",
       "      <td>2008-11-04 08:35:44.342460928</td>\n",
       "      <td>2011-07-17 04:55:32.779830016</td>\n",
       "      <td>2012-06-27 16:46:47.936931072</td>\n",
       "      <td>2012-01-17 17:10:42.360121856</td>\n",
       "    </tr>\n",
       "    <tr>\n",
       "      <th>min</th>\n",
       "      <td>1.000000e+00</td>\n",
       "      <td>1.000000</td>\n",
       "      <td>1970-02-05 00:00:00</td>\n",
       "      <td>1977-05-15 00:00:00</td>\n",
       "      <td>1977-05-15 00:00:00</td>\n",
       "      <td>1983-12-19 00:00:00</td>\n",
       "    </tr>\n",
       "    <tr>\n",
       "      <th>25%</th>\n",
       "      <td>3.360000e+05</td>\n",
       "      <td>1.000000</td>\n",
       "      <td>2006-09-28 00:00:00</td>\n",
       "      <td>2009-10-12 00:00:00</td>\n",
       "      <td>2011-02-01 00:00:00</td>\n",
       "      <td>2009-10-01 12:00:00</td>\n",
       "    </tr>\n",
       "    <tr>\n",
       "      <th>50%</th>\n",
       "      <td>2.000000e+06</td>\n",
       "      <td>1.000000</td>\n",
       "      <td>2010-10-01 00:00:00</td>\n",
       "      <td>2012-07-23 00:00:00</td>\n",
       "      <td>2013-08-30 00:00:00</td>\n",
       "      <td>2012-10-01 00:00:00</td>\n",
       "    </tr>\n",
       "    <tr>\n",
       "      <th>75%</th>\n",
       "      <td>1.000000e+07</td>\n",
       "      <td>2.000000</td>\n",
       "      <td>2013-01-01 00:00:00</td>\n",
       "      <td>2014-04-01 00:00:00</td>\n",
       "      <td>2014-11-17 00:00:00</td>\n",
       "      <td>2015-04-30 12:00:00</td>\n",
       "    </tr>\n",
       "    <tr>\n",
       "      <th>max</th>\n",
       "      <td>3.007950e+10</td>\n",
       "      <td>19.000000</td>\n",
       "      <td>2016-04-02 00:00:00</td>\n",
       "      <td>2015-12-05 00:00:00</td>\n",
       "      <td>2015-12-07 00:00:00</td>\n",
       "      <td>2017-11-12 00:00:00</td>\n",
       "    </tr>\n",
       "    <tr>\n",
       "      <th>std</th>\n",
       "      <td>1.871217e+08</td>\n",
       "      <td>1.374544</td>\n",
       "      <td>NaN</td>\n",
       "      <td>NaN</td>\n",
       "      <td>NaN</td>\n",
       "      <td>NaN</td>\n",
       "    </tr>\n",
       "  </tbody>\n",
       "</table>\n",
       "</div>"
      ],
      "text/plain": [
       "       funding_total_usd  funding_rounds                     founded_at  \\\n",
       "count       4.244500e+04    52514.000000                          52514   \n",
       "mean        1.824826e+07        1.740679  2008-11-04 08:35:44.342460928   \n",
       "min         1.000000e+00        1.000000            1970-02-05 00:00:00   \n",
       "25%         3.360000e+05        1.000000            2006-09-28 00:00:00   \n",
       "50%         2.000000e+06        1.000000            2010-10-01 00:00:00   \n",
       "75%         1.000000e+07        2.000000            2013-01-01 00:00:00   \n",
       "max         3.007950e+10       19.000000            2016-04-02 00:00:00   \n",
       "std         1.871217e+08        1.374544                            NaN   \n",
       "\n",
       "                    first_funding_at                last_funding_at  \\\n",
       "count                          52514                          52514   \n",
       "mean   2011-07-17 04:55:32.779830016  2012-06-27 16:46:47.936931072   \n",
       "min              1977-05-15 00:00:00            1977-05-15 00:00:00   \n",
       "25%              2009-10-12 00:00:00            2011-02-01 00:00:00   \n",
       "50%              2012-07-23 00:00:00            2013-08-30 00:00:00   \n",
       "75%              2014-04-01 00:00:00            2014-11-17 00:00:00   \n",
       "max              2015-12-05 00:00:00            2015-12-07 00:00:00   \n",
       "std                              NaN                            NaN   \n",
       "\n",
       "                           closed_at  \n",
       "count                           4915  \n",
       "mean   2012-01-17 17:10:42.360121856  \n",
       "min              1983-12-19 00:00:00  \n",
       "25%              2009-10-01 12:00:00  \n",
       "50%              2012-10-01 00:00:00  \n",
       "75%              2015-04-30 12:00:00  \n",
       "max              2017-11-12 00:00:00  \n",
       "std                              NaN  "
      ]
     },
     "execution_count": 18,
     "metadata": {},
     "output_type": "execute_result"
    }
   ],
   "source": [
    "data_train.describe()"
   ]
  },
  {
   "cell_type": "code",
   "execution_count": 19,
   "metadata": {},
   "outputs": [
    {
     "data": {
      "image/png": "[encoded data removed]",
      "text/plain": [
       "<Figure size 720x504 with 1 Axes>"
      ]
     },
     "metadata": {
      "needs_background": "light"
     },
     "output_type": "display_data"
    },
    {
     "data": {
      "image/png": "[encoded data removed]",
      "text/plain": [
       "<Figure size 720x504 with 1 Axes>"
      ]
     },
     "metadata": {
      "needs_background": "light"
     },
     "output_type": "display_data"
    }
   ],
   "source": [
    "data_train.plot(y='funding_rounds',title='Количество раундов финансирования', kind='hist' ,bins=10, figsize = (10,7), legend = False)\n",
    "plt.ylabel(\"Частота\");\n",
    "data_train.plot(y='funding_rounds', kind='box' , figsize = (10,7), legend = False);"
   ]
  },
  {
   "cell_type": "markdown",
   "metadata": {},
   "source": [
    "Распределение \"Количество раундов финансирования\" не очень похоже на нормальное. Есть выбросы.<br>\n",
    "В основном есть 1-2 раунда финансирования, максимально 19.<br>"
   ]
  },
  {
   "cell_type": "code",
   "execution_count": 20,
   "metadata": {},
   "outputs": [
    {
     "data": {
      "text/plain": [
       "funding_rounds\n",
       "1     33488\n",
       "2      9815\n",
       "3      4450\n",
       "4      2189\n",
       "5      1168\n",
       "6       616\n",
       "7       341\n",
       "8       175\n",
       "9       109\n",
       "10       63\n",
       "11       46\n",
       "12       22\n",
       "13        9\n",
       "16        6\n",
       "15        5\n",
       "14        5\n",
       "17        3\n",
       "18        3\n",
       "19        1\n",
       "Name: count, dtype: int64"
      ]
     },
     "execution_count": 20,
     "metadata": {},
     "output_type": "execute_result"
    }
   ],
   "source": [
    "data_train['funding_rounds'].value_counts()"
   ]
  },
  {
   "cell_type": "markdown",
   "metadata": {},
   "source": [
    "### Анализ категориальных переменных"
   ]
  },
  {
   "cell_type": "code",
   "execution_count": 21,
   "metadata": {},
   "outputs": [
    {
     "data": {
      "text/html": [
       "<div>\n",
       "<style scoped>\n",
       "    .dataframe tbody tr th:only-of-type {\n",
       "        vertical-align: middle;\n",
       "    }\n",
       "\n",
       "    .dataframe tbody tr th {\n",
       "        vertical-align: top;\n",
       "    }\n",
       "\n",
       "    .dataframe thead th {\n",
       "        text-align: right;\n",
       "    }\n",
       "</style>\n",
       "<table border=\"1\" class=\"dataframe\">\n",
       "  <thead>\n",
       "    <tr style=\"text-align: right;\">\n",
       "      <th></th>\n",
       "      <th>name</th>\n",
       "      <th>category_list</th>\n",
       "      <th>funding_total_usd</th>\n",
       "      <th>status</th>\n",
       "      <th>country_code</th>\n",
       "      <th>state_code</th>\n",
       "      <th>region</th>\n",
       "      <th>city</th>\n",
       "      <th>funding_rounds</th>\n",
       "      <th>founded_at</th>\n",
       "      <th>first_funding_at</th>\n",
       "      <th>last_funding_at</th>\n",
       "      <th>closed_at</th>\n",
       "    </tr>\n",
       "  </thead>\n",
       "  <tbody>\n",
       "    <tr>\n",
       "      <th>0</th>\n",
       "      <td>Lunchgate</td>\n",
       "      <td>Online Reservations|Restaurants</td>\n",
       "      <td>828626.0</td>\n",
       "      <td>operating</td>\n",
       "      <td>CHE</td>\n",
       "      <td>25</td>\n",
       "      <td>Zurich</td>\n",
       "      <td>Zürich</td>\n",
       "      <td>2</td>\n",
       "      <td>2009-12-31</td>\n",
       "      <td>2011-05-01</td>\n",
       "      <td>2014-12-01</td>\n",
       "      <td>NaT</td>\n",
       "    </tr>\n",
       "    <tr>\n",
       "      <th>1</th>\n",
       "      <td>EarLens</td>\n",
       "      <td>Manufacturing|Medical|Medical Devices</td>\n",
       "      <td>42935019.0</td>\n",
       "      <td>operating</td>\n",
       "      <td>USA</td>\n",
       "      <td>CA</td>\n",
       "      <td>SF Bay Area</td>\n",
       "      <td>Redwood City</td>\n",
       "      <td>4</td>\n",
       "      <td>2005-01-01</td>\n",
       "      <td>2010-05-04</td>\n",
       "      <td>2014-02-25</td>\n",
       "      <td>NaT</td>\n",
       "    </tr>\n",
       "    <tr>\n",
       "      <th>2</th>\n",
       "      <td>Reviva Pharmaceuticals</td>\n",
       "      <td>Biotechnology</td>\n",
       "      <td>35456381.0</td>\n",
       "      <td>operating</td>\n",
       "      <td>USA</td>\n",
       "      <td>CA</td>\n",
       "      <td>SF Bay Area</td>\n",
       "      <td>San Jose</td>\n",
       "      <td>3</td>\n",
       "      <td>2006-01-01</td>\n",
       "      <td>2012-08-20</td>\n",
       "      <td>2014-07-02</td>\n",
       "      <td>NaT</td>\n",
       "    </tr>\n",
       "    <tr>\n",
       "      <th>3</th>\n",
       "      <td>Sancilio and Company</td>\n",
       "      <td>Health Care</td>\n",
       "      <td>22250000.0</td>\n",
       "      <td>operating</td>\n",
       "      <td>NaN</td>\n",
       "      <td>NaN</td>\n",
       "      <td>NaN</td>\n",
       "      <td>NaN</td>\n",
       "      <td>3</td>\n",
       "      <td>2004-01-01</td>\n",
       "      <td>2011-09-01</td>\n",
       "      <td>2014-07-18</td>\n",
       "      <td>NaT</td>\n",
       "    </tr>\n",
       "    <tr>\n",
       "      <th>4</th>\n",
       "      <td>WireTough Cylinders</td>\n",
       "      <td>Manufacturing</td>\n",
       "      <td>NaN</td>\n",
       "      <td>operating</td>\n",
       "      <td>USA</td>\n",
       "      <td>VA</td>\n",
       "      <td>VA - Other</td>\n",
       "      <td>Bristol</td>\n",
       "      <td>1</td>\n",
       "      <td>2010-09-30</td>\n",
       "      <td>2012-02-01</td>\n",
       "      <td>2012-02-01</td>\n",
       "      <td>NaT</td>\n",
       "    </tr>\n",
       "  </tbody>\n",
       "</table>\n",
       "</div>"
      ],
      "text/plain": [
       "                     name                          category_list  \\\n",
       "0               Lunchgate        Online Reservations|Restaurants   \n",
       "1                 EarLens  Manufacturing|Medical|Medical Devices   \n",
       "2  Reviva Pharmaceuticals                          Biotechnology   \n",
       "3    Sancilio and Company                            Health Care   \n",
       "4     WireTough Cylinders                          Manufacturing   \n",
       "\n",
       "   funding_total_usd     status country_code state_code       region  \\\n",
       "0           828626.0  operating          CHE         25       Zurich   \n",
       "1         42935019.0  operating          USA         CA  SF Bay Area   \n",
       "2         35456381.0  operating          USA         CA  SF Bay Area   \n",
       "3         22250000.0  operating          NaN        NaN          NaN   \n",
       "4                NaN  operating          USA         VA   VA - Other   \n",
       "\n",
       "           city  funding_rounds founded_at first_funding_at last_funding_at  \\\n",
       "0        Zürich               2 2009-12-31       2011-05-01      2014-12-01   \n",
       "1  Redwood City               4 2005-01-01       2010-05-04      2014-02-25   \n",
       "2      San Jose               3 2006-01-01       2012-08-20      2014-07-02   \n",
       "3           NaN               3 2004-01-01       2011-09-01      2014-07-18   \n",
       "4       Bristol               1 2010-09-30       2012-02-01      2012-02-01   \n",
       "\n",
       "  closed_at  \n",
       "0       NaT  \n",
       "1       NaT  \n",
       "2       NaT  \n",
       "3       NaT  \n",
       "4       NaT  "
      ]
     },
     "execution_count": 21,
     "metadata": {},
     "output_type": "execute_result"
    }
   ],
   "source": [
    "data_train.head()"
   ]
  },
  {
   "cell_type": "code",
   "execution_count": 22,
   "metadata": {},
   "outputs": [
    {
     "data": {
      "text/plain": [
       "array(['Online Reservations|Restaurants',\n",
       "       'Manufacturing|Medical|Medical Devices', 'Biotechnology', ...,\n",
       "       'Gambling|Games|Online Gaming|Sports',\n",
       "       'Aerospace|Mobile|Transportation|Travel',\n",
       "       'Online Rental|Parking|Price Comparison'], dtype=object)"
      ]
     },
     "execution_count": 22,
     "metadata": {},
     "output_type": "execute_result"
    }
   ],
   "source": [
    "data_train['category_list'].unique()"
   ]
  },
  {
   "cell_type": "markdown",
   "metadata": {},
   "source": [
    "Категорий в столбце category_list очень много, в т.ч. в каждой строке наблюдается деление на подкатегории. Укрупним до первой/главной категории."
   ]
  },
  {
   "cell_type": "code",
   "execution_count": 23,
   "metadata": {},
   "outputs": [],
   "source": [
    "data_train['category_first']=data_train['category_list'].str.split('|').str[0]\n",
    "data_test['category_first']=data_test['category_list'].str.split('|').str[0]"
   ]
  },
  {
   "cell_type": "code",
   "execution_count": 24,
   "metadata": {},
   "outputs": [
    {
     "data": {
      "text/plain": [
       "707"
      ]
     },
     "execution_count": 24,
     "metadata": {},
     "output_type": "execute_result"
    }
   ],
   "source": [
    "data_train['category_first'].nunique()"
   ]
  },
  {
   "cell_type": "code",
   "execution_count": 25,
   "metadata": {},
   "outputs": [
    {
     "data": {
      "text/html": [
       "<div>\n",
       "<style scoped>\n",
       "    .dataframe tbody tr th:only-of-type {\n",
       "        vertical-align: middle;\n",
       "    }\n",
       "\n",
       "    .dataframe tbody tr th {\n",
       "        vertical-align: top;\n",
       "    }\n",
       "\n",
       "    .dataframe thead th {\n",
       "        text-align: right;\n",
       "    }\n",
       "</style>\n",
       "<table border=\"1\" class=\"dataframe\">\n",
       "  <thead>\n",
       "    <tr style=\"text-align: right;\">\n",
       "      <th></th>\n",
       "      <th>name</th>\n",
       "      <th>category_list</th>\n",
       "      <th>funding_total_usd</th>\n",
       "      <th>status</th>\n",
       "      <th>country_code</th>\n",
       "      <th>state_code</th>\n",
       "      <th>region</th>\n",
       "      <th>city</th>\n",
       "      <th>funding_rounds</th>\n",
       "      <th>founded_at</th>\n",
       "      <th>first_funding_at</th>\n",
       "      <th>last_funding_at</th>\n",
       "      <th>closed_at</th>\n",
       "      <th>category_first</th>\n",
       "    </tr>\n",
       "  </thead>\n",
       "  <tbody>\n",
       "    <tr>\n",
       "      <th>0</th>\n",
       "      <td>Lunchgate</td>\n",
       "      <td>Online Reservations|Restaurants</td>\n",
       "      <td>828626.0</td>\n",
       "      <td>operating</td>\n",
       "      <td>CHE</td>\n",
       "      <td>25</td>\n",
       "      <td>Zurich</td>\n",
       "      <td>Zürich</td>\n",
       "      <td>2</td>\n",
       "      <td>2009-12-31</td>\n",
       "      <td>2011-05-01</td>\n",
       "      <td>2014-12-01</td>\n",
       "      <td>NaT</td>\n",
       "      <td>Online Reservations</td>\n",
       "    </tr>\n",
       "    <tr>\n",
       "      <th>1</th>\n",
       "      <td>EarLens</td>\n",
       "      <td>Manufacturing|Medical|Medical Devices</td>\n",
       "      <td>42935019.0</td>\n",
       "      <td>operating</td>\n",
       "      <td>USA</td>\n",
       "      <td>CA</td>\n",
       "      <td>SF Bay Area</td>\n",
       "      <td>Redwood City</td>\n",
       "      <td>4</td>\n",
       "      <td>2005-01-01</td>\n",
       "      <td>2010-05-04</td>\n",
       "      <td>2014-02-25</td>\n",
       "      <td>NaT</td>\n",
       "      <td>Manufacturing</td>\n",
       "    </tr>\n",
       "    <tr>\n",
       "      <th>2</th>\n",
       "      <td>Reviva Pharmaceuticals</td>\n",
       "      <td>Biotechnology</td>\n",
       "      <td>35456381.0</td>\n",
       "      <td>operating</td>\n",
       "      <td>USA</td>\n",
       "      <td>CA</td>\n",
       "      <td>SF Bay Area</td>\n",
       "      <td>San Jose</td>\n",
       "      <td>3</td>\n",
       "      <td>2006-01-01</td>\n",
       "      <td>2012-08-20</td>\n",
       "      <td>2014-07-02</td>\n",
       "      <td>NaT</td>\n",
       "      <td>Biotechnology</td>\n",
       "    </tr>\n",
       "    <tr>\n",
       "      <th>3</th>\n",
       "      <td>Sancilio and Company</td>\n",
       "      <td>Health Care</td>\n",
       "      <td>22250000.0</td>\n",
       "      <td>operating</td>\n",
       "      <td>NaN</td>\n",
       "      <td>NaN</td>\n",
       "      <td>NaN</td>\n",
       "      <td>NaN</td>\n",
       "      <td>3</td>\n",
       "      <td>2004-01-01</td>\n",
       "      <td>2011-09-01</td>\n",
       "      <td>2014-07-18</td>\n",
       "      <td>NaT</td>\n",
       "      <td>Health Care</td>\n",
       "    </tr>\n",
       "    <tr>\n",
       "      <th>4</th>\n",
       "      <td>WireTough Cylinders</td>\n",
       "      <td>Manufacturing</td>\n",
       "      <td>NaN</td>\n",
       "      <td>operating</td>\n",
       "      <td>USA</td>\n",
       "      <td>VA</td>\n",
       "      <td>VA - Other</td>\n",
       "      <td>Bristol</td>\n",
       "      <td>1</td>\n",
       "      <td>2010-09-30</td>\n",
       "      <td>2012-02-01</td>\n",
       "      <td>2012-02-01</td>\n",
       "      <td>NaT</td>\n",
       "      <td>Manufacturing</td>\n",
       "    </tr>\n",
       "  </tbody>\n",
       "</table>\n",
       "</div>"
      ],
      "text/plain": [
       "                     name                          category_list  \\\n",
       "0               Lunchgate        Online Reservations|Restaurants   \n",
       "1                 EarLens  Manufacturing|Medical|Medical Devices   \n",
       "2  Reviva Pharmaceuticals                          Biotechnology   \n",
       "3    Sancilio and Company                            Health Care   \n",
       "4     WireTough Cylinders                          Manufacturing   \n",
       "\n",
       "   funding_total_usd     status country_code state_code       region  \\\n",
       "0           828626.0  operating          CHE         25       Zurich   \n",
       "1         42935019.0  operating          USA         CA  SF Bay Area   \n",
       "2         35456381.0  operating          USA         CA  SF Bay Area   \n",
       "3         22250000.0  operating          NaN        NaN          NaN   \n",
       "4                NaN  operating          USA         VA   VA - Other   \n",
       "\n",
       "           city  funding_rounds founded_at first_funding_at last_funding_at  \\\n",
       "0        Zürich               2 2009-12-31       2011-05-01      2014-12-01   \n",
       "1  Redwood City               4 2005-01-01       2010-05-04      2014-02-25   \n",
       "2      San Jose               3 2006-01-01       2012-08-20      2014-07-02   \n",
       "3           NaN               3 2004-01-01       2011-09-01      2014-07-18   \n",
       "4       Bristol               1 2010-09-30       2012-02-01      2012-02-01   \n",
       "\n",
       "  closed_at       category_first  \n",
       "0       NaT  Online Reservations  \n",
       "1       NaT        Manufacturing  \n",
       "2       NaT        Biotechnology  \n",
       "3       NaT          Health Care  \n",
       "4       NaT        Manufacturing  "
      ]
     },
     "execution_count": 25,
     "metadata": {},
     "output_type": "execute_result"
    }
   ],
   "source": [
    "data_train.head()"
   ]
  },
  {
   "cell_type": "code",
   "execution_count": 26,
   "metadata": {},
   "outputs": [
    {
     "data": {
      "text/plain": [
       "category_first\n",
       "Biotechnology             3592\n",
       "Software                  3322\n",
       "E-Commerce                2172\n",
       "Advertising               1925\n",
       "Curated Web               1746\n",
       "Mobile                    1396\n",
       "Analytics                 1314\n",
       "Apps                      1184\n",
       "Health Care               1134\n",
       "Enterprise Software       1110\n",
       "Clean Technology          1106\n",
       "Games                     1014\n",
       "Health and Wellness        956\n",
       "Hardware + Software        876\n",
       "Finance                    873\n",
       "Education                  800\n",
       "Manufacturing              688\n",
       "Consulting                 566\n",
       "Internet                   505\n",
       "Cloud Computing            495\n",
       "Entertainment              449\n",
       "Semiconductors             427\n",
       "Android                    404\n",
       "Social Media               404\n",
       "Hospitality                384\n",
       "Real Estate                383\n",
       "Fashion                    374\n",
       "Automotive                 369\n",
       "Security                   362\n",
       "Big Data                   334\n",
       "Design                     312\n",
       "Business Services          305\n",
       "Information Technology     298\n",
       "Web Hosting                278\n",
       "Consumer Electronics       267\n",
       "B2B                        259\n",
       "Medical                    253\n",
       "Financial Services         247\n",
       "Consumer Goods             247\n",
       "Collaboration              242\n",
       "EdTech                     236\n",
       "Technology                 231\n",
       "Content                    224\n",
       "Messaging                  214\n",
       "News                       213\n",
       "Music                      207\n",
       "Travel                     199\n",
       "Digital Media              197\n",
       "Big Data Analytics         192\n",
       "Media                      191\n",
       "Name: count, dtype: int64"
      ]
     },
     "execution_count": 26,
     "metadata": {},
     "output_type": "execute_result"
    }
   ],
   "source": [
    "data_train['category_first'].value_counts().head(50)"
   ]
  },
  {
   "cell_type": "code",
   "execution_count": 27,
   "metadata": {},
   "outputs": [
    {
     "data": {
      "image/png": "[encoded data removed]",
      "text/plain": [
       "<Figure size 2160x720 with 1 Axes>"
      ]
     },
     "metadata": {
      "needs_background": "light"
     },
     "output_type": "display_data"
    }
   ],
   "source": [
    "data_train.pivot_table(index = 'category_first', aggfunc = 'count')['name'].sort_values().tail(25).plot(y='Количество компаний',title='Топ 25 главных категорий, к которым относится стартап', kind='barh' , figsize = (30,10), legend = False)\n",
    "plt.ylabel(\"Категория стартапа\");\n",
    "plt.xlabel(\"Количество компаний\");"
   ]
  },
  {
   "cell_type": "code",
   "execution_count": 28,
   "metadata": {},
   "outputs": [
    {
     "data": {
      "image/png": "[encoded data removed]",
      "text/plain": [
       "<Figure size 720x288 with 1 Axes>"
      ]
     },
     "metadata": {
      "needs_background": "light"
     },
     "output_type": "display_data"
    }
   ],
   "source": [
    "data_train.pivot_table(index = 'country_code', aggfunc = 'count')['name'].sort_values().tail(25).plot(y='Количество компаний',title = 'Код страны', kind='barh' , figsize = (10,4), legend = False)\n",
    "plt.ylabel(\"Код страны\");\n",
    "plt.xlabel(\"Количество компаний\");"
   ]
  },
  {
   "cell_type": "code",
   "execution_count": 29,
   "metadata": {},
   "outputs": [
    {
     "data": {
      "text/plain": [
       "array(['CHE', 'USA', nan, 'GBR', 'RUS', 'ESP', 'FRA', 'SWE', 'IND', 'KOR',\n",
       "       'AUS', 'TWN', 'CHN', 'HUN', 'CAN', 'FIN', 'BRA', 'EGY', 'PRT',\n",
       "       'ISR', 'CHL', 'SVK', 'NLD', 'ARG', 'ARE', 'JPN', 'IRL', 'DEU',\n",
       "       'LBN', 'EST', 'IDN', 'BEL', 'MEX', 'DNK', 'ITA', 'GRC', 'ROM',\n",
       "       'TUR', 'SGP', 'SAU', 'MYS', 'NGA', 'QAT', 'VNM', 'BGR', 'GHA',\n",
       "       'UGA', 'JOR', 'AUT', 'PAK', 'NZL', 'HKG', 'ZAF', 'LVA', 'NOR',\n",
       "       'HRV', 'VEN', 'PER', 'LUX', 'SVN', 'POL', 'PHL', 'NIC', 'CZE',\n",
       "       'ISL', 'PAN', 'URY', 'BGD', 'MCO', 'GTM', 'THA', 'TTO', 'UKR',\n",
       "       'KEN', 'CRI', 'DZA', 'LTU', 'CYM', 'MUS', 'BLR', 'SLV', 'COL',\n",
       "       'MLT', 'PSE', 'BLZ', 'CYP', 'MMR', 'MKD', 'KHM', 'GIB', 'SRB',\n",
       "       'DOM', 'BWA', 'BLM', 'PRY', 'BMU', 'TAN', 'LIE', 'GRD', 'UZB',\n",
       "       'GEO', 'SEN', 'ALB', 'ECU', 'MOZ', 'LKA', 'LAO', 'TUN', 'HND',\n",
       "       'ZWE', 'BAH', 'MDA', 'MAF', 'BHR', 'AZE', 'MAR', 'KWT', 'IRN',\n",
       "       'GGY', 'KNA', 'PRI', 'OMN', 'KAZ', 'JAM', 'NPL', 'ARM', 'TGO',\n",
       "       'RWA', 'BRN', 'JEY', 'SOM', 'CMR', 'MNE', 'SYC', 'ZMB'],\n",
       "      dtype=object)"
      ]
     },
     "execution_count": 29,
     "metadata": {},
     "output_type": "execute_result"
    }
   ],
   "source": [
    "data_train['country_code'].unique()"
   ]
  },
  {
   "cell_type": "markdown",
   "metadata": {},
   "source": [
    "Неявных дубликатов не обнаружено. Кодов страны не так много, в связи с этим можно включить их в модель классификации."
   ]
  },
  {
   "cell_type": "code",
   "execution_count": 30,
   "metadata": {},
   "outputs": [
    {
     "data": {
      "image/png": "[encoded data removed]",
      "text/plain": [
       "<Figure size 720x288 with 1 Axes>"
      ]
     },
     "metadata": {
      "needs_background": "light"
     },
     "output_type": "display_data"
    }
   ],
   "source": [
    "data_train.pivot_table(index =['country_code', 'state_code'], aggfunc = 'count')['name'].sort_values().tail(25).plot(y='Количество компаний',title = 'Топ 25 - количество компаний в разрезе штатов', kind='barh' , figsize = (10,4), legend = False)\n",
    "plt.ylabel(\"Код штата\");\n",
    "plt.xlabel(\"Количество компаний\");"
   ]
  },
  {
   "cell_type": "markdown",
   "metadata": {},
   "source": [
    "Большинство компаний-стартапов запущено в США."
   ]
  },
  {
   "cell_type": "markdown",
   "metadata": {},
   "source": [
    "### Обработка данных и синтез новых признаков"
   ]
  },
  {
   "cell_type": "code",
   "execution_count": 31,
   "metadata": {},
   "outputs": [
    {
     "data": {
      "image/png": "[encoded data removed]",
      "text/plain": [
       "<Figure size 720x504 with 1 Axes>"
      ]
     },
     "metadata": {
      "needs_background": "light"
     },
     "output_type": "display_data"
    }
   ],
   "source": [
    "plt.figure(figsize = (10, 7))\n",
    "\n",
    "p1 = plt.scatter(x = data_train['status'], y = data_train['funding_total_usd'])\n",
    "plt.title('Соотношение статуса стартапа и финансирования')\n",
    "\n",
    "plt.show();"
   ]
  },
  {
   "cell_type": "markdown",
   "metadata": {},
   "source": [
    "С какого-то значения 'funding_total_usd' все стартапы относятся к категории operating. Т.е. чем больше финансирование, тем меньше риск быть закрытым. Найдем максимальный объем финансирования для закрытых стартапов и введем новый признак **большой объем финансирования** high_funding_total."
   ]
  },
  {
   "cell_type": "code",
   "execution_count": 32,
   "metadata": {},
   "outputs": [],
   "source": [
    "data_train['high_funding_total'] = data_train['funding_total_usd'].apply(lambda x:1 if x>=1570000000 else 0)"
   ]
  },
  {
   "cell_type": "code",
   "execution_count": 33,
   "metadata": {},
   "outputs": [],
   "source": [
    "data_test['high_funding_total'] = data_test['funding_total_usd'].apply(lambda x:1 if x>=1570000000 else 0)"
   ]
  },
  {
   "cell_type": "code",
   "execution_count": 34,
   "metadata": {},
   "outputs": [
    {
     "data": {
      "text/plain": [
       "high_funding_total\n",
       "0    52494\n",
       "1       20\n",
       "Name: count, dtype: int64"
      ]
     },
     "execution_count": 34,
     "metadata": {},
     "output_type": "execute_result"
    }
   ],
   "source": [
    "data_train['high_funding_total'].value_counts()"
   ]
  },
  {
   "cell_type": "code",
   "execution_count": 35,
   "metadata": {},
   "outputs": [
    {
     "data": {
      "text/plain": [
       "1567504319.0"
      ]
     },
     "execution_count": 35,
     "metadata": {},
     "output_type": "execute_result"
    }
   ],
   "source": [
    "data_train[data_train['status']=='closed']['funding_total_usd'].max()"
   ]
  },
  {
   "cell_type": "code",
   "execution_count": 36,
   "metadata": {},
   "outputs": [
    {
     "data": {
      "image/png": "[encoded data removed]",
      "text/plain": [
       "<Figure size 720x504 with 1 Axes>"
      ]
     },
     "metadata": {
      "needs_background": "light"
     },
     "output_type": "display_data"
    }
   ],
   "source": [
    "plt.figure(figsize = (10, 7))\n",
    "\n",
    "p1 = plt.scatter(x = data_train['status'], y = data_train['funding_rounds'])\n",
    "plt.title('Соотношение статуса стартапа и количества раундов финансирования')\n",
    "\n",
    "plt.show();"
   ]
  },
  {
   "cell_type": "markdown",
   "metadata": {},
   "source": [
    "Заполним пропуски в столбце 'funding_total_usd' медианным значением."
   ]
  },
  {
   "cell_type": "code",
   "execution_count": 37,
   "metadata": {},
   "outputs": [],
   "source": [
    "data_train['funding_total_usd'] = data_train['funding_total_usd'].fillna(data_train['funding_total_usd'].median())\n",
    "data_test['funding_total_usd'] = data_test['funding_total_usd'].fillna(data_test['funding_total_usd'].median())"
   ]
  },
  {
   "cell_type": "code",
   "execution_count": 38,
   "metadata": {},
   "outputs": [
    {
     "name": "stdout",
     "output_type": "stream",
     "text": [
      "<class 'pandas.core.frame.DataFrame'>\n",
      "RangeIndex: 52514 entries, 0 to 52513\n",
      "Data columns (total 15 columns):\n",
      " #   Column              Non-Null Count  Dtype         \n",
      "---  ------              --------------  -----         \n",
      " 0   name                52513 non-null  object        \n",
      " 1   category_list       50049 non-null  object        \n",
      " 2   funding_total_usd   52514 non-null  float64       \n",
      " 3   status              52514 non-null  object        \n",
      " 4   country_code        47013 non-null  object        \n",
      " 5   state_code          45752 non-null  object        \n",
      " 6   region              46156 non-null  object        \n",
      " 7   city                46156 non-null  object        \n",
      " 8   funding_rounds      52514 non-null  int64         \n",
      " 9   founded_at          52514 non-null  datetime64[ns]\n",
      " 10  first_funding_at    52514 non-null  datetime64[ns]\n",
      " 11  last_funding_at     52514 non-null  datetime64[ns]\n",
      " 12  closed_at           4915 non-null   datetime64[ns]\n",
      " 13  category_first      50049 non-null  object        \n",
      " 14  high_funding_total  52514 non-null  int64         \n",
      "dtypes: datetime64[ns](4), float64(1), int64(2), object(8)\n",
      "memory usage: 6.0+ MB\n"
     ]
    }
   ],
   "source": [
    "data_train.info()"
   ]
  },
  {
   "cell_type": "markdown",
   "metadata": {},
   "source": [
    "Пропуски заполнены."
   ]
  },
  {
   "cell_type": "markdown",
   "metadata": {},
   "source": [
    "Заполним пропуски  в столбце **'closed_at'** датой выгрузки 2018-01-01 и рассчитаем **lifetime** для тренировочных данных."
   ]
  },
  {
   "cell_type": "code",
   "execution_count": 39,
   "metadata": {},
   "outputs": [],
   "source": [
    "data_train['closed_at'] = data_train['closed_at'].fillna(pd.to_datetime('2018-01-01'))"
   ]
  },
  {
   "cell_type": "code",
   "execution_count": 40,
   "metadata": {},
   "outputs": [],
   "source": [
    "data_train['lifetime'] =  (data_train['closed_at'] - data_train['founded_at']).dt.days"
   ]
  },
  {
   "cell_type": "code",
   "execution_count": 41,
   "metadata": {},
   "outputs": [
    {
     "data": {
      "image/png": "[encoded data removed]",
      "text/plain": [
       "<Figure size 720x504 with 1 Axes>"
      ]
     },
     "metadata": {
      "needs_background": "light"
     },
     "output_type": "display_data"
    }
   ],
   "source": [
    "plt.figure(figsize = (10, 7))\n",
    "\n",
    "p1 = plt.scatter(x = data_train['status'], y = data_train['lifetime'])\n",
    "plt.title('Соотношение статуса стартапа и продолжительности жизни стартапа')\n",
    "\n",
    "plt.show();"
   ]
  },
  {
   "cell_type": "code",
   "execution_count": 42,
   "metadata": {},
   "outputs": [
    {
     "data": {
      "text/plain": [
       "731"
      ]
     },
     "execution_count": 42,
     "metadata": {},
     "output_type": "execute_result"
    }
   ],
   "source": [
    "data_train[data_train['status']=='operating']['lifetime'].min()"
   ]
  },
  {
   "cell_type": "code",
   "execution_count": 43,
   "metadata": {},
   "outputs": [
    {
     "data": {
      "text/html": [
       "<div>\n",
       "<style scoped>\n",
       "    .dataframe tbody tr th:only-of-type {\n",
       "        vertical-align: middle;\n",
       "    }\n",
       "\n",
       "    .dataframe tbody tr th {\n",
       "        vertical-align: top;\n",
       "    }\n",
       "\n",
       "    .dataframe thead th {\n",
       "        text-align: right;\n",
       "    }\n",
       "</style>\n",
       "<table border=\"1\" class=\"dataframe\">\n",
       "  <thead>\n",
       "    <tr style=\"text-align: right;\">\n",
       "      <th></th>\n",
       "      <th>name</th>\n",
       "      <th>category_list</th>\n",
       "      <th>funding_total_usd</th>\n",
       "      <th>status</th>\n",
       "      <th>country_code</th>\n",
       "      <th>state_code</th>\n",
       "      <th>region</th>\n",
       "      <th>city</th>\n",
       "      <th>funding_rounds</th>\n",
       "      <th>founded_at</th>\n",
       "      <th>first_funding_at</th>\n",
       "      <th>last_funding_at</th>\n",
       "      <th>closed_at</th>\n",
       "      <th>category_first</th>\n",
       "      <th>high_funding_total</th>\n",
       "      <th>lifetime</th>\n",
       "    </tr>\n",
       "  </thead>\n",
       "  <tbody>\n",
       "    <tr>\n",
       "      <th>9204</th>\n",
       "      <td>AEA</td>\n",
       "      <td>NaN</td>\n",
       "      <td>100000.0</td>\n",
       "      <td>closed</td>\n",
       "      <td>NaN</td>\n",
       "      <td>NaN</td>\n",
       "      <td>NaN</td>\n",
       "      <td>NaN</td>\n",
       "      <td>1</td>\n",
       "      <td>1970-02-05</td>\n",
       "      <td>2014-10-05</td>\n",
       "      <td>2014-10-05</td>\n",
       "      <td>2016-07-04</td>\n",
       "      <td>NaN</td>\n",
       "      <td>0</td>\n",
       "      <td>16951</td>\n",
       "    </tr>\n",
       "    <tr>\n",
       "      <th>9488</th>\n",
       "      <td>EvergreenHealth</td>\n",
       "      <td>Health Care</td>\n",
       "      <td>5850000.0</td>\n",
       "      <td>closed</td>\n",
       "      <td>USA</td>\n",
       "      <td>WA</td>\n",
       "      <td>Seattle</td>\n",
       "      <td>Kirkland</td>\n",
       "      <td>1</td>\n",
       "      <td>1972-01-01</td>\n",
       "      <td>2014-04-01</td>\n",
       "      <td>2014-04-01</td>\n",
       "      <td>2016-02-26</td>\n",
       "      <td>Health Care</td>\n",
       "      <td>0</td>\n",
       "      <td>16127</td>\n",
       "    </tr>\n",
       "    <tr>\n",
       "      <th>33890</th>\n",
       "      <td>Harper Love Adhesive</td>\n",
       "      <td>NaN</td>\n",
       "      <td>2000000.0</td>\n",
       "      <td>closed</td>\n",
       "      <td>USA</td>\n",
       "      <td>NC</td>\n",
       "      <td>Charlotte</td>\n",
       "      <td>Charlotte</td>\n",
       "      <td>1</td>\n",
       "      <td>1978-01-01</td>\n",
       "      <td>2014-04-28</td>\n",
       "      <td>2014-04-28</td>\n",
       "      <td>2015-09-20</td>\n",
       "      <td>NaN</td>\n",
       "      <td>0</td>\n",
       "      <td>13776</td>\n",
       "    </tr>\n",
       "  </tbody>\n",
       "</table>\n",
       "</div>"
      ],
      "text/plain": [
       "                       name category_list  funding_total_usd  status  \\\n",
       "9204                    AEA           NaN           100000.0  closed   \n",
       "9488        EvergreenHealth   Health Care          5850000.0  closed   \n",
       "33890  Harper Love Adhesive           NaN          2000000.0  closed   \n",
       "\n",
       "      country_code state_code     region       city  funding_rounds  \\\n",
       "9204           NaN        NaN        NaN        NaN               1   \n",
       "9488           USA         WA    Seattle   Kirkland               1   \n",
       "33890          USA         NC  Charlotte  Charlotte               1   \n",
       "\n",
       "      founded_at first_funding_at last_funding_at  closed_at category_first  \\\n",
       "9204  1970-02-05       2014-10-05      2014-10-05 2016-07-04            NaN   \n",
       "9488  1972-01-01       2014-04-01      2014-04-01 2016-02-26    Health Care   \n",
       "33890 1978-01-01       2014-04-28      2014-04-28 2015-09-20            NaN   \n",
       "\n",
       "       high_funding_total  lifetime  \n",
       "9204                    0     16951  \n",
       "9488                    0     16127  \n",
       "33890                   0     13776  "
      ]
     },
     "execution_count": 43,
     "metadata": {},
     "output_type": "execute_result"
    }
   ],
   "source": [
    "data_train[(data_train['status']=='closed')&(data_train['lifetime']>13500)]"
   ]
  },
  {
   "cell_type": "code",
   "execution_count": 44,
   "metadata": {},
   "outputs": [
    {
     "data": {
      "text/html": [
       "<div>\n",
       "<style scoped>\n",
       "    .dataframe tbody tr th:only-of-type {\n",
       "        vertical-align: middle;\n",
       "    }\n",
       "\n",
       "    .dataframe tbody tr th {\n",
       "        vertical-align: top;\n",
       "    }\n",
       "\n",
       "    .dataframe thead th {\n",
       "        text-align: right;\n",
       "    }\n",
       "</style>\n",
       "<table border=\"1\" class=\"dataframe\">\n",
       "  <thead>\n",
       "    <tr style=\"text-align: right;\">\n",
       "      <th></th>\n",
       "      <th>name</th>\n",
       "      <th>category_list</th>\n",
       "      <th>funding_total_usd</th>\n",
       "      <th>status</th>\n",
       "      <th>country_code</th>\n",
       "      <th>state_code</th>\n",
       "      <th>region</th>\n",
       "      <th>city</th>\n",
       "      <th>funding_rounds</th>\n",
       "      <th>founded_at</th>\n",
       "      <th>first_funding_at</th>\n",
       "      <th>last_funding_at</th>\n",
       "      <th>closed_at</th>\n",
       "      <th>category_first</th>\n",
       "      <th>high_funding_total</th>\n",
       "      <th>lifetime</th>\n",
       "    </tr>\n",
       "  </thead>\n",
       "  <tbody>\n",
       "    <tr>\n",
       "      <th>16</th>\n",
       "      <td>Salesjob</td>\n",
       "      <td>NaN</td>\n",
       "      <td>2000000.0</td>\n",
       "      <td>closed</td>\n",
       "      <td>NaN</td>\n",
       "      <td>NaN</td>\n",
       "      <td>NaN</td>\n",
       "      <td>NaN</td>\n",
       "      <td>1</td>\n",
       "      <td>2013-01-01</td>\n",
       "      <td>2013-10-22</td>\n",
       "      <td>2013-10-22</td>\n",
       "      <td>2014-11-02</td>\n",
       "      <td>NaN</td>\n",
       "      <td>0</td>\n",
       "      <td>670</td>\n",
       "    </tr>\n",
       "    <tr>\n",
       "      <th>24</th>\n",
       "      <td>Savasti</td>\n",
       "      <td>NaN</td>\n",
       "      <td>2000000.0</td>\n",
       "      <td>closed</td>\n",
       "      <td>NaN</td>\n",
       "      <td>NaN</td>\n",
       "      <td>NaN</td>\n",
       "      <td>NaN</td>\n",
       "      <td>1</td>\n",
       "      <td>2015-01-01</td>\n",
       "      <td>2015-01-01</td>\n",
       "      <td>2015-01-01</td>\n",
       "      <td>2016-02-27</td>\n",
       "      <td>NaN</td>\n",
       "      <td>0</td>\n",
       "      <td>422</td>\n",
       "    </tr>\n",
       "    <tr>\n",
       "      <th>78</th>\n",
       "      <td>Efficient Photon</td>\n",
       "      <td>NaN</td>\n",
       "      <td>2000000.0</td>\n",
       "      <td>closed</td>\n",
       "      <td>NaN</td>\n",
       "      <td>NaN</td>\n",
       "      <td>NaN</td>\n",
       "      <td>NaN</td>\n",
       "      <td>1</td>\n",
       "      <td>2011-03-10</td>\n",
       "      <td>2011-09-22</td>\n",
       "      <td>2011-09-22</td>\n",
       "      <td>2012-10-22</td>\n",
       "      <td>NaN</td>\n",
       "      <td>0</td>\n",
       "      <td>592</td>\n",
       "    </tr>\n",
       "    <tr>\n",
       "      <th>98</th>\n",
       "      <td>WhipCar</td>\n",
       "      <td>Automotive|Online Rental</td>\n",
       "      <td>2000000.0</td>\n",
       "      <td>closed</td>\n",
       "      <td>GBR</td>\n",
       "      <td>H9</td>\n",
       "      <td>London</td>\n",
       "      <td>London</td>\n",
       "      <td>1</td>\n",
       "      <td>2009-01-01</td>\n",
       "      <td>2009-01-01</td>\n",
       "      <td>2009-01-01</td>\n",
       "      <td>2010-09-17</td>\n",
       "      <td>Automotive</td>\n",
       "      <td>0</td>\n",
       "      <td>624</td>\n",
       "    </tr>\n",
       "    <tr>\n",
       "      <th>142</th>\n",
       "      <td>Culhanimal Productions</td>\n",
       "      <td>NaN</td>\n",
       "      <td>25000.0</td>\n",
       "      <td>closed</td>\n",
       "      <td>NaN</td>\n",
       "      <td>NaN</td>\n",
       "      <td>NaN</td>\n",
       "      <td>NaN</td>\n",
       "      <td>1</td>\n",
       "      <td>2014-11-10</td>\n",
       "      <td>2015-01-12</td>\n",
       "      <td>2015-01-12</td>\n",
       "      <td>2016-06-22</td>\n",
       "      <td>NaN</td>\n",
       "      <td>0</td>\n",
       "      <td>590</td>\n",
       "    </tr>\n",
       "    <tr>\n",
       "      <th>...</th>\n",
       "      <td>...</td>\n",
       "      <td>...</td>\n",
       "      <td>...</td>\n",
       "      <td>...</td>\n",
       "      <td>...</td>\n",
       "      <td>...</td>\n",
       "      <td>...</td>\n",
       "      <td>...</td>\n",
       "      <td>...</td>\n",
       "      <td>...</td>\n",
       "      <td>...</td>\n",
       "      <td>...</td>\n",
       "      <td>...</td>\n",
       "      <td>...</td>\n",
       "      <td>...</td>\n",
       "      <td>...</td>\n",
       "    </tr>\n",
       "    <tr>\n",
       "      <th>52348</th>\n",
       "      <td>Smallaa</td>\n",
       "      <td>Facebook Applications|Interest Graph|Networkin...</td>\n",
       "      <td>3000000.0</td>\n",
       "      <td>closed</td>\n",
       "      <td>USA</td>\n",
       "      <td>CA</td>\n",
       "      <td>SF Bay Area</td>\n",
       "      <td>San Jose</td>\n",
       "      <td>1</td>\n",
       "      <td>2008-01-01</td>\n",
       "      <td>2008-03-01</td>\n",
       "      <td>2008-03-01</td>\n",
       "      <td>2009-05-11</td>\n",
       "      <td>Facebook Applications</td>\n",
       "      <td>0</td>\n",
       "      <td>496</td>\n",
       "    </tr>\n",
       "    <tr>\n",
       "      <th>52349</th>\n",
       "      <td>Localmind</td>\n",
       "      <td>Curated Web|Facebook Applications|Local Based ...</td>\n",
       "      <td>650206.0</td>\n",
       "      <td>closed</td>\n",
       "      <td>USA</td>\n",
       "      <td>CA</td>\n",
       "      <td>SF Bay Area</td>\n",
       "      <td>San Francisco</td>\n",
       "      <td>2</td>\n",
       "      <td>2010-12-12</td>\n",
       "      <td>2011-01-10</td>\n",
       "      <td>2011-07-13</td>\n",
       "      <td>2012-07-12</td>\n",
       "      <td>Curated Web</td>\n",
       "      <td>0</td>\n",
       "      <td>578</td>\n",
       "    </tr>\n",
       "    <tr>\n",
       "      <th>52363</th>\n",
       "      <td>Spotplex</td>\n",
       "      <td>Curated Web</td>\n",
       "      <td>450000.0</td>\n",
       "      <td>closed</td>\n",
       "      <td>USA</td>\n",
       "      <td>CA</td>\n",
       "      <td>SF Bay Area</td>\n",
       "      <td>Santa Clara</td>\n",
       "      <td>1</td>\n",
       "      <td>2007-02-01</td>\n",
       "      <td>2007-01-01</td>\n",
       "      <td>2007-01-01</td>\n",
       "      <td>2008-04-27</td>\n",
       "      <td>Curated Web</td>\n",
       "      <td>0</td>\n",
       "      <td>451</td>\n",
       "    </tr>\n",
       "    <tr>\n",
       "      <th>52403</th>\n",
       "      <td>LeftStuff</td>\n",
       "      <td>Software|Technology|Video</td>\n",
       "      <td>86120.0</td>\n",
       "      <td>closed</td>\n",
       "      <td>NaN</td>\n",
       "      <td>NaN</td>\n",
       "      <td>NaN</td>\n",
       "      <td>NaN</td>\n",
       "      <td>1</td>\n",
       "      <td>2014-12-17</td>\n",
       "      <td>2014-12-22</td>\n",
       "      <td>2014-12-22</td>\n",
       "      <td>2016-05-16</td>\n",
       "      <td>Software</td>\n",
       "      <td>0</td>\n",
       "      <td>516</td>\n",
       "    </tr>\n",
       "    <tr>\n",
       "      <th>52431</th>\n",
       "      <td>Somatix</td>\n",
       "      <td>Analytics|Health Care|Wearables</td>\n",
       "      <td>750000.0</td>\n",
       "      <td>closed</td>\n",
       "      <td>ISR</td>\n",
       "      <td>5</td>\n",
       "      <td>Tel Aviv</td>\n",
       "      <td>Herzliya</td>\n",
       "      <td>1</td>\n",
       "      <td>2015-02-01</td>\n",
       "      <td>2015-04-22</td>\n",
       "      <td>2015-04-22</td>\n",
       "      <td>2016-06-14</td>\n",
       "      <td>Analytics</td>\n",
       "      <td>0</td>\n",
       "      <td>499</td>\n",
       "    </tr>\n",
       "  </tbody>\n",
       "</table>\n",
       "<p>1203 rows × 16 columns</p>\n",
       "</div>"
      ],
      "text/plain": [
       "                         name  \\\n",
       "16                   Salesjob   \n",
       "24                    Savasti   \n",
       "78           Efficient Photon   \n",
       "98                    WhipCar   \n",
       "142    Culhanimal Productions   \n",
       "...                       ...   \n",
       "52348                 Smallaa   \n",
       "52349               Localmind   \n",
       "52363                Spotplex   \n",
       "52403               LeftStuff   \n",
       "52431                 Somatix   \n",
       "\n",
       "                                           category_list  funding_total_usd  \\\n",
       "16                                                   NaN          2000000.0   \n",
       "24                                                   NaN          2000000.0   \n",
       "78                                                   NaN          2000000.0   \n",
       "98                              Automotive|Online Rental          2000000.0   \n",
       "142                                                  NaN            25000.0   \n",
       "...                                                  ...                ...   \n",
       "52348  Facebook Applications|Interest Graph|Networkin...          3000000.0   \n",
       "52349  Curated Web|Facebook Applications|Local Based ...           650206.0   \n",
       "52363                                        Curated Web           450000.0   \n",
       "52403                          Software|Technology|Video            86120.0   \n",
       "52431                    Analytics|Health Care|Wearables           750000.0   \n",
       "\n",
       "       status country_code state_code       region           city  \\\n",
       "16     closed          NaN        NaN          NaN            NaN   \n",
       "24     closed          NaN        NaN          NaN            NaN   \n",
       "78     closed          NaN        NaN          NaN            NaN   \n",
       "98     closed          GBR         H9       London         London   \n",
       "142    closed          NaN        NaN          NaN            NaN   \n",
       "...       ...          ...        ...          ...            ...   \n",
       "52348  closed          USA         CA  SF Bay Area       San Jose   \n",
       "52349  closed          USA         CA  SF Bay Area  San Francisco   \n",
       "52363  closed          USA         CA  SF Bay Area    Santa Clara   \n",
       "52403  closed          NaN        NaN          NaN            NaN   \n",
       "52431  closed          ISR          5     Tel Aviv       Herzliya   \n",
       "\n",
       "       funding_rounds founded_at first_funding_at last_funding_at  closed_at  \\\n",
       "16                  1 2013-01-01       2013-10-22      2013-10-22 2014-11-02   \n",
       "24                  1 2015-01-01       2015-01-01      2015-01-01 2016-02-27   \n",
       "78                  1 2011-03-10       2011-09-22      2011-09-22 2012-10-22   \n",
       "98                  1 2009-01-01       2009-01-01      2009-01-01 2010-09-17   \n",
       "142                 1 2014-11-10       2015-01-12      2015-01-12 2016-06-22   \n",
       "...               ...        ...              ...             ...        ...   \n",
       "52348               1 2008-01-01       2008-03-01      2008-03-01 2009-05-11   \n",
       "52349               2 2010-12-12       2011-01-10      2011-07-13 2012-07-12   \n",
       "52363               1 2007-02-01       2007-01-01      2007-01-01 2008-04-27   \n",
       "52403               1 2014-12-17       2014-12-22      2014-12-22 2016-05-16   \n",
       "52431               1 2015-02-01       2015-04-22      2015-04-22 2016-06-14   \n",
       "\n",
       "              category_first  high_funding_total  lifetime  \n",
       "16                       NaN                   0       670  \n",
       "24                       NaN                   0       422  \n",
       "78                       NaN                   0       592  \n",
       "98                Automotive                   0       624  \n",
       "142                      NaN                   0       590  \n",
       "...                      ...                 ...       ...  \n",
       "52348  Facebook Applications                   0       496  \n",
       "52349            Curated Web                   0       578  \n",
       "52363            Curated Web                   0       451  \n",
       "52403               Software                   0       516  \n",
       "52431              Analytics                   0       499  \n",
       "\n",
       "[1203 rows x 16 columns]"
      ]
     },
     "execution_count": 44,
     "metadata": {},
     "output_type": "execute_result"
    }
   ],
   "source": [
    "data_train[(data_train['status']=='closed')&(data_train['lifetime']<730)]"
   ]
  },
  {
   "cell_type": "markdown",
   "metadata": {},
   "source": [
    "Введем новый признак: **минимальная продолжительность жизни стартапа lifetime_min**\n",
    "Если рассмотреть соотношение открытых/закрытых стартапов, то увидим, что менее 730 дней, т.е. 2 лет открытых стартапов нет. В связи с этим разделим продолжительность: до 730 и после 730 дней."
   ]
  },
  {
   "cell_type": "code",
   "execution_count": 45,
   "metadata": {},
   "outputs": [],
   "source": [
    "data_train['lifetime_min'] = data_train['lifetime'].apply(lambda x:1 if x<=730 else 0)\n",
    "data_test['lifetime_min'] = data_test['lifetime'].apply(lambda x:1 if x<=730 else 0)"
   ]
  },
  {
   "cell_type": "markdown",
   "metadata": {},
   "source": [
    "Введем признак **разница между первым финансированием и основанием delta_first_funding**."
   ]
  },
  {
   "cell_type": "code",
   "execution_count": 46,
   "metadata": {},
   "outputs": [],
   "source": [
    "data_train['delta_first_funding'] = (data_train['first_funding_at'] - data_train['founded_at']).dt.days\n",
    "data_test['delta_first_funding'] = (data_test['first_funding_at'] - data_test['founded_at']).dt.days"
   ]
  },
  {
   "cell_type": "markdown",
   "metadata": {},
   "source": [
    "Введем еще один признак **разница между последним и первым финансированием delta_funding**"
   ]
  },
  {
   "cell_type": "code",
   "execution_count": 47,
   "metadata": {},
   "outputs": [],
   "source": [
    "data_train['delta_funding'] = (data_train['last_funding_at'] - data_train['first_funding_at']).dt.days\n",
    "data_test['delta_funding'] = (data_test['last_funding_at'] - data_test['first_funding_at']).dt.days"
   ]
  },
  {
   "cell_type": "code",
   "execution_count": 48,
   "metadata": {},
   "outputs": [
    {
     "data": {
      "image/png": "[encoded data removed]",
      "text/plain": [
       "<Figure size 720x504 with 1 Axes>"
      ]
     },
     "metadata": {
      "needs_background": "light"
     },
     "output_type": "display_data"
    }
   ],
   "source": [
    "plt.figure(figsize = (10, 7))\n",
    "\n",
    "p1 = plt.scatter(x = data_train['status'], y = data_train['delta_first_funding'])\n",
    "plt.title = 'Соотношение между статусом и разницей между первым финансированием и датой основания стартапа'\n",
    "\n",
    "plt.show();"
   ]
  },
  {
   "cell_type": "markdown",
   "metadata": {},
   "source": [
    "## Корреляционный анализ"
   ]
  },
  {
   "cell_type": "markdown",
   "metadata": {},
   "source": [
    "Признаков и строк в исходном датасете много, в связи с этим выберем произвольно 1000 и посмотрим корреляцию."
   ]
  },
  {
   "cell_type": "code",
   "execution_count": 49,
   "metadata": {
    "scrolled": true
   },
   "outputs": [
    {
     "name": "stderr",
     "output_type": "stream",
     "text": [
      "C:\\anaconda3\\lib\\site-packages\\phik\\data_quality.py:72: UserWarning: Not enough unique value for variable high_funding_total for analysis 1. Dropping this column\n",
      "  warnings.warn(\n"
     ]
    }
   ],
   "source": [
    "# sample(1000) используем для ограничения строк\n",
    "phik_train = data_train.sample(1000).phik_matrix(interval_cols = ['funding_total_usd', 'funding_rounds','high_funding_total','lifetime','delta_first_funding','delta_funding'])"
   ]
  },
  {
   "cell_type": "code",
   "execution_count": 50,
   "metadata": {},
   "outputs": [
    {
     "data": {
      "image/png": "[encoded data removed]",
      "text/plain": [
       "<Figure size 1080x648 with 2 Axes>"
      ]
     },
     "metadata": {
      "needs_background": "light"
     },
     "output_type": "display_data"
    }
   ],
   "source": [
    "fig, ax = plt.subplots(figsize=(15,9));\n",
    "sns.heatmap(phik_train, annot=True, cmap='cividis', ax = ax);"
   ]
  },
  {
   "cell_type": "markdown",
   "metadata": {},
   "source": [
    "Есть столбцы с пропусками, по ним корреляция отображается некорректно.<br>\n",
    "Есть столбцы, где только уникальные значения (name), по ним корреляция 1.<br>\n",
    "По данной таблице видна связь статуса и факторов: категории, даты основания, продолжительности жизни стартапа."
   ]
  },
  {
   "cell_type": "code",
   "execution_count": 51,
   "metadata": {},
   "outputs": [],
   "source": [
    "phik_x_train = data_train[['country_code','funding_rounds','funding_total_usd','lifetime','category_first','lifetime_min','delta_first_funding','delta_funding','status']].phik_matrix(interval_cols = ['funding_total_usd', 'funding_rounds','high_funding_total','high_funding_rounds','lifetime','delta_first_funding','delta_funding'])"
   ]
  },
  {
   "cell_type": "code",
   "execution_count": 52,
   "metadata": {},
   "outputs": [
    {
     "data": {
      "image/png": "[encoded data removed]",
      "text/plain": [
       "<Figure size 1080x648 with 2 Axes>"
      ]
     },
     "metadata": {
      "needs_background": "light"
     },
     "output_type": "display_data"
    }
   ],
   "source": [
    "fig, ax = plt.subplots(figsize=(15,9));\n",
    "sns.heatmap(phik_x_train, annot=True, cmap='cividis', ax = ax);"
   ]
  },
  {
   "cell_type": "markdown",
   "metadata": {},
   "source": [
    "Подробнее рассмотрим столбцы, которые мы собираемся использовать в модели.<br>\n",
    "Между lifetime и delta_first_funding наблюдаем сильную зависимость."
   ]
  },
  {
   "cell_type": "markdown",
   "metadata": {},
   "source": [
    "## Использование пайплайнов"
   ]
  },
  {
   "cell_type": "code",
   "execution_count": 53,
   "metadata": {},
   "outputs": [],
   "source": [
    "RANDOM_STATE = 42\n",
    "TEST_SIZE = 0.25"
   ]
  },
  {
   "cell_type": "code",
   "execution_count": 54,
   "metadata": {},
   "outputs": [
    {
     "name": "stdout",
     "output_type": "stream",
     "text": [
      "<class 'pandas.core.frame.DataFrame'>\n",
      "RangeIndex: 52514 entries, 0 to 52513\n",
      "Data columns (total 19 columns):\n",
      " #   Column               Non-Null Count  Dtype         \n",
      "---  ------               --------------  -----         \n",
      " 0   name                 52513 non-null  object        \n",
      " 1   category_list        50049 non-null  object        \n",
      " 2   funding_total_usd    52514 non-null  float64       \n",
      " 3   status               52514 non-null  object        \n",
      " 4   country_code         47013 non-null  object        \n",
      " 5   state_code           45752 non-null  object        \n",
      " 6   region               46156 non-null  object        \n",
      " 7   city                 46156 non-null  object        \n",
      " 8   funding_rounds       52514 non-null  int64         \n",
      " 9   founded_at           52514 non-null  datetime64[ns]\n",
      " 10  first_funding_at     52514 non-null  datetime64[ns]\n",
      " 11  last_funding_at      52514 non-null  datetime64[ns]\n",
      " 12  closed_at            52514 non-null  datetime64[ns]\n",
      " 13  category_first       50049 non-null  object        \n",
      " 14  high_funding_total   52514 non-null  int64         \n",
      " 15  lifetime             52514 non-null  int64         \n",
      " 16  lifetime_min         52514 non-null  int64         \n",
      " 17  delta_first_funding  52514 non-null  int64         \n",
      " 18  delta_funding        52514 non-null  int64         \n",
      "dtypes: datetime64[ns](4), float64(1), int64(6), object(8)\n",
      "memory usage: 7.6+ MB\n"
     ]
    }
   ],
   "source": [
    "data_train.info()"
   ]
  },
  {
   "cell_type": "code",
   "execution_count": 55,
   "metadata": {},
   "outputs": [
    {
     "data": {
      "text/plain": [
       "((52514, 8), (52514,), (13125, 8))"
      ]
     },
     "execution_count": 55,
     "metadata": {},
     "output_type": "execute_result"
    }
   ],
   "source": [
    "X_train = data_train[['country_code','funding_rounds','funding_total_usd','lifetime','category_first','lifetime_min','delta_first_funding','delta_funding']]#.iloc[0:10000]\n",
    "y_train = data_train['status']#[0:10000]\n",
    "X_test = data_test[['country_code','funding_rounds','funding_total_usd','lifetime','category_first','lifetime_min','delta_first_funding','delta_funding']]\n",
    "X_train.shape, y_train.shape, X_test.shape"
   ]
  },
  {
   "cell_type": "markdown",
   "metadata": {},
   "source": [
    "Будем строить модель по признакам: 'country_code','funding_rounds','funding_total_usd','lifetime','category_first','lifetime_min','delta_first_funding','delta_funding'<br>\n",
    "**Закодируем значения целевого признака** status.\n"
   ]
  },
  {
   "cell_type": "code",
   "execution_count": 56,
   "metadata": {},
   "outputs": [],
   "source": [
    "label_encoder = LabelEncoder()\n",
    "label_encoder.fit(y_train)\n",
    "\n",
    "y_train = label_encoder.transform(y_train)\n",
    "#y_test = label_encoder.transform(y_test)"
   ]
  },
  {
   "cell_type": "code",
   "execution_count": 57,
   "metadata": {},
   "outputs": [
    {
     "name": "stdout",
     "output_type": "stream",
     "text": [
      "[1 1 1 1 1 1 1 1 1 1 1 1 0 1 1 1 0 1 1 1]\n"
     ]
    }
   ],
   "source": [
    "print(y_train[0:20])"
   ]
  },
  {
   "cell_type": "code",
   "execution_count": 58,
   "metadata": {},
   "outputs": [
    {
     "name": "stdout",
     "output_type": "stream",
     "text": [
      "['operating' 'operating' 'operating' ... 'operating' 'operating'\n",
      " 'operating']\n"
     ]
    }
   ],
   "source": [
    "print(label_encoder.inverse_transform(y_train)) "
   ]
  },
  {
   "cell_type": "markdown",
   "metadata": {},
   "source": [
    "1 означает operating, 0 closed."
   ]
  },
  {
   "cell_type": "code",
   "execution_count": 59,
   "metadata": {},
   "outputs": [
    {
     "name": "stdout",
     "output_type": "stream",
     "text": [
      "['closed' 'operating']\n"
     ]
    }
   ],
   "source": [
    "print(label_encoder.classes_)"
   ]
  },
  {
   "cell_type": "code",
   "execution_count": 60,
   "metadata": {},
   "outputs": [
    {
     "data": {
      "text/html": [
       "<div>\n",
       "<style scoped>\n",
       "    .dataframe tbody tr th:only-of-type {\n",
       "        vertical-align: middle;\n",
       "    }\n",
       "\n",
       "    .dataframe tbody tr th {\n",
       "        vertical-align: top;\n",
       "    }\n",
       "\n",
       "    .dataframe thead th {\n",
       "        text-align: right;\n",
       "    }\n",
       "</style>\n",
       "<table border=\"1\" class=\"dataframe\">\n",
       "  <thead>\n",
       "    <tr style=\"text-align: right;\">\n",
       "      <th></th>\n",
       "      <th>name</th>\n",
       "      <th>category_list</th>\n",
       "      <th>funding_total_usd</th>\n",
       "      <th>status</th>\n",
       "      <th>country_code</th>\n",
       "      <th>state_code</th>\n",
       "      <th>region</th>\n",
       "      <th>city</th>\n",
       "      <th>funding_rounds</th>\n",
       "      <th>founded_at</th>\n",
       "      <th>first_funding_at</th>\n",
       "      <th>last_funding_at</th>\n",
       "      <th>closed_at</th>\n",
       "      <th>category_first</th>\n",
       "      <th>high_funding_total</th>\n",
       "      <th>lifetime</th>\n",
       "      <th>lifetime_min</th>\n",
       "      <th>delta_first_funding</th>\n",
       "      <th>delta_funding</th>\n",
       "    </tr>\n",
       "  </thead>\n",
       "  <tbody>\n",
       "    <tr>\n",
       "      <th>0</th>\n",
       "      <td>Lunchgate</td>\n",
       "      <td>Online Reservations|Restaurants</td>\n",
       "      <td>828626.0</td>\n",
       "      <td>operating</td>\n",
       "      <td>CHE</td>\n",
       "      <td>25</td>\n",
       "      <td>Zurich</td>\n",
       "      <td>Zürich</td>\n",
       "      <td>2</td>\n",
       "      <td>2009-12-31</td>\n",
       "      <td>2011-05-01</td>\n",
       "      <td>2014-12-01</td>\n",
       "      <td>2018-01-01</td>\n",
       "      <td>Online Reservations</td>\n",
       "      <td>0</td>\n",
       "      <td>2923</td>\n",
       "      <td>0</td>\n",
       "      <td>486</td>\n",
       "      <td>1310</td>\n",
       "    </tr>\n",
       "    <tr>\n",
       "      <th>1</th>\n",
       "      <td>EarLens</td>\n",
       "      <td>Manufacturing|Medical|Medical Devices</td>\n",
       "      <td>42935019.0</td>\n",
       "      <td>operating</td>\n",
       "      <td>USA</td>\n",
       "      <td>CA</td>\n",
       "      <td>SF Bay Area</td>\n",
       "      <td>Redwood City</td>\n",
       "      <td>4</td>\n",
       "      <td>2005-01-01</td>\n",
       "      <td>2010-05-04</td>\n",
       "      <td>2014-02-25</td>\n",
       "      <td>2018-01-01</td>\n",
       "      <td>Manufacturing</td>\n",
       "      <td>0</td>\n",
       "      <td>4748</td>\n",
       "      <td>0</td>\n",
       "      <td>1949</td>\n",
       "      <td>1393</td>\n",
       "    </tr>\n",
       "    <tr>\n",
       "      <th>2</th>\n",
       "      <td>Reviva Pharmaceuticals</td>\n",
       "      <td>Biotechnology</td>\n",
       "      <td>35456381.0</td>\n",
       "      <td>operating</td>\n",
       "      <td>USA</td>\n",
       "      <td>CA</td>\n",
       "      <td>SF Bay Area</td>\n",
       "      <td>San Jose</td>\n",
       "      <td>3</td>\n",
       "      <td>2006-01-01</td>\n",
       "      <td>2012-08-20</td>\n",
       "      <td>2014-07-02</td>\n",
       "      <td>2018-01-01</td>\n",
       "      <td>Biotechnology</td>\n",
       "      <td>0</td>\n",
       "      <td>4383</td>\n",
       "      <td>0</td>\n",
       "      <td>2423</td>\n",
       "      <td>681</td>\n",
       "    </tr>\n",
       "    <tr>\n",
       "      <th>3</th>\n",
       "      <td>Sancilio and Company</td>\n",
       "      <td>Health Care</td>\n",
       "      <td>22250000.0</td>\n",
       "      <td>operating</td>\n",
       "      <td>NaN</td>\n",
       "      <td>NaN</td>\n",
       "      <td>NaN</td>\n",
       "      <td>NaN</td>\n",
       "      <td>3</td>\n",
       "      <td>2004-01-01</td>\n",
       "      <td>2011-09-01</td>\n",
       "      <td>2014-07-18</td>\n",
       "      <td>2018-01-01</td>\n",
       "      <td>Health Care</td>\n",
       "      <td>0</td>\n",
       "      <td>5114</td>\n",
       "      <td>0</td>\n",
       "      <td>2800</td>\n",
       "      <td>1051</td>\n",
       "    </tr>\n",
       "    <tr>\n",
       "      <th>4</th>\n",
       "      <td>WireTough Cylinders</td>\n",
       "      <td>Manufacturing</td>\n",
       "      <td>2000000.0</td>\n",
       "      <td>operating</td>\n",
       "      <td>USA</td>\n",
       "      <td>VA</td>\n",
       "      <td>VA - Other</td>\n",
       "      <td>Bristol</td>\n",
       "      <td>1</td>\n",
       "      <td>2010-09-30</td>\n",
       "      <td>2012-02-01</td>\n",
       "      <td>2012-02-01</td>\n",
       "      <td>2018-01-01</td>\n",
       "      <td>Manufacturing</td>\n",
       "      <td>0</td>\n",
       "      <td>2650</td>\n",
       "      <td>0</td>\n",
       "      <td>489</td>\n",
       "      <td>0</td>\n",
       "    </tr>\n",
       "  </tbody>\n",
       "</table>\n",
       "</div>"
      ],
      "text/plain": [
       "                     name                          category_list  \\\n",
       "0               Lunchgate        Online Reservations|Restaurants   \n",
       "1                 EarLens  Manufacturing|Medical|Medical Devices   \n",
       "2  Reviva Pharmaceuticals                          Biotechnology   \n",
       "3    Sancilio and Company                            Health Care   \n",
       "4     WireTough Cylinders                          Manufacturing   \n",
       "\n",
       "   funding_total_usd     status country_code state_code       region  \\\n",
       "0           828626.0  operating          CHE         25       Zurich   \n",
       "1         42935019.0  operating          USA         CA  SF Bay Area   \n",
       "2         35456381.0  operating          USA         CA  SF Bay Area   \n",
       "3         22250000.0  operating          NaN        NaN          NaN   \n",
       "4          2000000.0  operating          USA         VA   VA - Other   \n",
       "\n",
       "           city  funding_rounds founded_at first_funding_at last_funding_at  \\\n",
       "0        Zürich               2 2009-12-31       2011-05-01      2014-12-01   \n",
       "1  Redwood City               4 2005-01-01       2010-05-04      2014-02-25   \n",
       "2      San Jose               3 2006-01-01       2012-08-20      2014-07-02   \n",
       "3           NaN               3 2004-01-01       2011-09-01      2014-07-18   \n",
       "4       Bristol               1 2010-09-30       2012-02-01      2012-02-01   \n",
       "\n",
       "   closed_at       category_first  high_funding_total  lifetime  lifetime_min  \\\n",
       "0 2018-01-01  Online Reservations                   0      2923             0   \n",
       "1 2018-01-01        Manufacturing                   0      4748             0   \n",
       "2 2018-01-01        Biotechnology                   0      4383             0   \n",
       "3 2018-01-01          Health Care                   0      5114             0   \n",
       "4 2018-01-01        Manufacturing                   0      2650             0   \n",
       "\n",
       "   delta_first_funding  delta_funding  \n",
       "0                  486           1310  \n",
       "1                 1949           1393  \n",
       "2                 2423            681  \n",
       "3                 2800           1051  \n",
       "4                  489              0  "
      ]
     },
     "execution_count": 60,
     "metadata": {},
     "output_type": "execute_result"
    }
   ],
   "source": [
    "data_train.head()"
   ]
  },
  {
   "cell_type": "code",
   "execution_count": 61,
   "metadata": {},
   "outputs": [],
   "source": [
    "# создаём списки с названиями признаков\n",
    "ohe_columns = ['country_code','category_first']\n",
    "ord_columns = []\n",
    "num_columns = ['funding_total_usd','funding_rounds','lifetime','delta_first_funding', 'delta_funding']\n",
    "bin_columns = ['lifetime_min']\n",
    "all_columns = ohe_columns + ord_columns + num_columns + bin_columns\n",
    "cat_features = [0, 4]"
   ]
  },
  {
   "cell_type": "code",
   "execution_count": 62,
   "metadata": {},
   "outputs": [
    {
     "data": {
      "text/html": [
       "<div>\n",
       "<style scoped>\n",
       "    .dataframe tbody tr th:only-of-type {\n",
       "        vertical-align: middle;\n",
       "    }\n",
       "\n",
       "    .dataframe tbody tr th {\n",
       "        vertical-align: top;\n",
       "    }\n",
       "\n",
       "    .dataframe thead th {\n",
       "        text-align: right;\n",
       "    }\n",
       "</style>\n",
       "<table border=\"1\" class=\"dataframe\">\n",
       "  <thead>\n",
       "    <tr style=\"text-align: right;\">\n",
       "      <th></th>\n",
       "      <th>country_code</th>\n",
       "      <th>funding_rounds</th>\n",
       "      <th>funding_total_usd</th>\n",
       "      <th>lifetime</th>\n",
       "      <th>category_first</th>\n",
       "      <th>lifetime_min</th>\n",
       "      <th>delta_first_funding</th>\n",
       "      <th>delta_funding</th>\n",
       "    </tr>\n",
       "  </thead>\n",
       "  <tbody>\n",
       "    <tr>\n",
       "      <th>0</th>\n",
       "      <td>CHE</td>\n",
       "      <td>2</td>\n",
       "      <td>828626.0</td>\n",
       "      <td>2923</td>\n",
       "      <td>Online Reservations</td>\n",
       "      <td>0</td>\n",
       "      <td>486</td>\n",
       "      <td>1310</td>\n",
       "    </tr>\n",
       "    <tr>\n",
       "      <th>1</th>\n",
       "      <td>USA</td>\n",
       "      <td>4</td>\n",
       "      <td>42935019.0</td>\n",
       "      <td>4748</td>\n",
       "      <td>Manufacturing</td>\n",
       "      <td>0</td>\n",
       "      <td>1949</td>\n",
       "      <td>1393</td>\n",
       "    </tr>\n",
       "    <tr>\n",
       "      <th>2</th>\n",
       "      <td>USA</td>\n",
       "      <td>3</td>\n",
       "      <td>35456381.0</td>\n",
       "      <td>4383</td>\n",
       "      <td>Biotechnology</td>\n",
       "      <td>0</td>\n",
       "      <td>2423</td>\n",
       "      <td>681</td>\n",
       "    </tr>\n",
       "    <tr>\n",
       "      <th>3</th>\n",
       "      <td>NaN</td>\n",
       "      <td>3</td>\n",
       "      <td>22250000.0</td>\n",
       "      <td>5114</td>\n",
       "      <td>Health Care</td>\n",
       "      <td>0</td>\n",
       "      <td>2800</td>\n",
       "      <td>1051</td>\n",
       "    </tr>\n",
       "    <tr>\n",
       "      <th>4</th>\n",
       "      <td>USA</td>\n",
       "      <td>1</td>\n",
       "      <td>2000000.0</td>\n",
       "      <td>2650</td>\n",
       "      <td>Manufacturing</td>\n",
       "      <td>0</td>\n",
       "      <td>489</td>\n",
       "      <td>0</td>\n",
       "    </tr>\n",
       "  </tbody>\n",
       "</table>\n",
       "</div>"
      ],
      "text/plain": [
       "  country_code  funding_rounds  funding_total_usd  lifetime  \\\n",
       "0          CHE               2           828626.0      2923   \n",
       "1          USA               4         42935019.0      4748   \n",
       "2          USA               3         35456381.0      4383   \n",
       "3          NaN               3         22250000.0      5114   \n",
       "4          USA               1          2000000.0      2650   \n",
       "\n",
       "        category_first  lifetime_min  delta_first_funding  delta_funding  \n",
       "0  Online Reservations             0                  486           1310  \n",
       "1        Manufacturing             0                 1949           1393  \n",
       "2        Biotechnology             0                 2423            681  \n",
       "3          Health Care             0                 2800           1051  \n",
       "4        Manufacturing             0                  489              0  "
      ]
     },
     "execution_count": 62,
     "metadata": {},
     "output_type": "execute_result"
    }
   ],
   "source": [
    "X_train.head()"
   ]
  },
  {
   "cell_type": "code",
   "execution_count": 63,
   "metadata": {},
   "outputs": [
    {
     "data": {
      "text/html": [
       "<div>\n",
       "<style scoped>\n",
       "    .dataframe tbody tr th:only-of-type {\n",
       "        vertical-align: middle;\n",
       "    }\n",
       "\n",
       "    .dataframe tbody tr th {\n",
       "        vertical-align: top;\n",
       "    }\n",
       "\n",
       "    .dataframe thead th {\n",
       "        text-align: right;\n",
       "    }\n",
       "</style>\n",
       "<table border=\"1\" class=\"dataframe\">\n",
       "  <thead>\n",
       "    <tr style=\"text-align: right;\">\n",
       "      <th></th>\n",
       "      <th>country_code</th>\n",
       "      <th>funding_rounds</th>\n",
       "      <th>funding_total_usd</th>\n",
       "      <th>lifetime</th>\n",
       "      <th>category_first</th>\n",
       "      <th>lifetime_min</th>\n",
       "      <th>delta_first_funding</th>\n",
       "      <th>delta_funding</th>\n",
       "    </tr>\n",
       "  </thead>\n",
       "  <tbody>\n",
       "    <tr>\n",
       "      <th>0</th>\n",
       "      <td>NIC</td>\n",
       "      <td>1</td>\n",
       "      <td>2819200.0</td>\n",
       "      <td>3501</td>\n",
       "      <td>Clean Technology</td>\n",
       "      <td>0</td>\n",
       "      <td>395</td>\n",
       "      <td>0</td>\n",
       "    </tr>\n",
       "    <tr>\n",
       "      <th>1</th>\n",
       "      <td>USA</td>\n",
       "      <td>1</td>\n",
       "      <td>2000000.0</td>\n",
       "      <td>2717</td>\n",
       "      <td>Hospitality</td>\n",
       "      <td>0</td>\n",
       "      <td>3</td>\n",
       "      <td>0</td>\n",
       "    </tr>\n",
       "    <tr>\n",
       "      <th>2</th>\n",
       "      <td>LUX</td>\n",
       "      <td>2</td>\n",
       "      <td>428257.0</td>\n",
       "      <td>1295</td>\n",
       "      <td>Finance</td>\n",
       "      <td>0</td>\n",
       "      <td>-32</td>\n",
       "      <td>126</td>\n",
       "    </tr>\n",
       "    <tr>\n",
       "      <th>3</th>\n",
       "      <td>USA</td>\n",
       "      <td>4</td>\n",
       "      <td>34700000.0</td>\n",
       "      <td>4748</td>\n",
       "      <td>Software</td>\n",
       "      <td>0</td>\n",
       "      <td>0</td>\n",
       "      <td>1935</td>\n",
       "    </tr>\n",
       "    <tr>\n",
       "      <th>4</th>\n",
       "      <td>CAN</td>\n",
       "      <td>1</td>\n",
       "      <td>4530000.0</td>\n",
       "      <td>6209</td>\n",
       "      <td>Software</td>\n",
       "      <td>0</td>\n",
       "      <td>2318</td>\n",
       "      <td>0</td>\n",
       "    </tr>\n",
       "  </tbody>\n",
       "</table>\n",
       "</div>"
      ],
      "text/plain": [
       "  country_code  funding_rounds  funding_total_usd  lifetime    category_first  \\\n",
       "0          NIC               1          2819200.0      3501  Clean Technology   \n",
       "1          USA               1          2000000.0      2717       Hospitality   \n",
       "2          LUX               2           428257.0      1295           Finance   \n",
       "3          USA               4         34700000.0      4748          Software   \n",
       "4          CAN               1          4530000.0      6209          Software   \n",
       "\n",
       "   lifetime_min  delta_first_funding  delta_funding  \n",
       "0             0                  395              0  \n",
       "1             0                    3              0  \n",
       "2             0                  -32            126  \n",
       "3             0                    0           1935  \n",
       "4             0                 2318              0  "
      ]
     },
     "execution_count": 63,
     "metadata": {},
     "output_type": "execute_result"
    }
   ],
   "source": [
    "X_test.head()"
   ]
  },
  {
   "cell_type": "code",
   "execution_count": 64,
   "metadata": {},
   "outputs": [
    {
     "name": "stdout",
     "output_type": "stream",
     "text": [
      "<class 'pandas.core.frame.DataFrame'>\n",
      "RangeIndex: 13125 entries, 0 to 13124\n",
      "Data columns (total 8 columns):\n",
      " #   Column               Non-Null Count  Dtype  \n",
      "---  ------               --------------  -----  \n",
      " 0   country_code         11743 non-null  object \n",
      " 1   funding_rounds       13125 non-null  int64  \n",
      " 2   funding_total_usd    13125 non-null  float64\n",
      " 3   lifetime             13125 non-null  int64  \n",
      " 4   category_first       12534 non-null  object \n",
      " 5   lifetime_min         13125 non-null  int64  \n",
      " 6   delta_first_funding  13125 non-null  int64  \n",
      " 7   delta_funding        13125 non-null  int64  \n",
      "dtypes: float64(1), int64(5), object(2)\n",
      "memory usage: 820.4+ KB\n"
     ]
    }
   ],
   "source": [
    "X_test.info()"
   ]
  },
  {
   "cell_type": "code",
   "execution_count": 65,
   "metadata": {},
   "outputs": [],
   "source": [
    "# создаём пайплайн для подготовки признаков из списка ohe_columns: заполнение пропусков и OHE-кодирование\n",
    "# SimpleImputer + OHE\n",
    "ohe_pipe = Pipeline(\n",
    "    [('simpleImputer_ohe', SimpleImputer(missing_values=np.nan, strategy='most_frequent')),\n",
    "     #('ohe', OneHotEncoder(handle_unknown='ignore', sparse_output=False))#handle_unknown='ignore', sparse=False\n",
    "    \n",
    "     ('ohe', OneHotEncoder(handle_unknown='infrequent_if_exist', min_frequency = 10, sparse_output=False))#handle_unknown='ignore', sparse=False\n",
    "    ]\n",
    "    )\n",
    "\n",
    "# создаём пайплайн для подготовки признаков из списка ord_columns: заполнение пропусков и Ordinal-кодирование\n",
    "# SimpleImputer + OE\n",
    "ord_pipe = Pipeline(\n",
    "    [('simpleImputer_before_ord', SimpleImputer(missing_values=np.nan, strategy='most_frequent')),\n",
    "     ('ord',  OrdinalEncoder(handle_unknown='use_encoded_value', unknown_value=np.nan\n",
    "            )\n",
    "        ),\n",
    "     ('simpleImputer_after_ord', SimpleImputer(missing_values=np.nan, strategy='most_frequent'))\n",
    "    ]\n",
    ")\n",
    "# пайплайн для подготовки числовых признаков: заполнение пропусков и масштабирование\n",
    "num_pipe = Pipeline(\n",
    "    [('simpleImputer_num', SimpleImputer(missing_values=np.nan, strategy='mean')),\n",
    "    ('scaler', StandardScaler())\n",
    "    ]\n",
    "    )\n",
    "\n",
    "cat_pipe = Pipeline(\n",
    "    [('simpleImputer_before_ord', SimpleImputer(missing_values=np.nan, strategy='most_frequent'))\n",
    "     \n",
    "    ]\n",
    ")\n",
    "# пайплайн для подготовки бинарных признаков: заполнение пропусков\n",
    "bin_pipe = Pipeline([\n",
    "    ('imputer', SimpleImputer(strategy='most_frequent'))\n",
    "])"
   ]
  },
  {
   "cell_type": "markdown",
   "metadata": {},
   "source": [
    "Качество оцениваем метрикой F1."
   ]
  },
  {
   "cell_type": "code",
   "execution_count": 66,
   "metadata": {},
   "outputs": [
    {
     "name": "stderr",
     "output_type": "stream",
     "text": [
      "C:\\anaconda3\\lib\\site-packages\\numpy\\ma\\core.py:2820: RuntimeWarning: invalid value encountered in cast\n",
      "  _data = np.array(data, dtype=dtype, copy=copy,\n"
     ]
    },
    {
     "name": "stdout",
     "output_type": "stream",
     "text": [
      "  country_code  funding_rounds  funding_total_usd  lifetime  \\\n",
      "0          CHE               2           828626.0      2923   \n",
      "1          USA               4         42935019.0      4748   \n",
      "2          USA               3         35456381.0      4383   \n",
      "3          NaN               3         22250000.0      5114   \n",
      "4          USA               1          2000000.0      2650   \n",
      "\n",
      "        category_first  lifetime_min  delta_first_funding  delta_funding  \n",
      "0  Online Reservations             0                  486           1310  \n",
      "1        Manufacturing             0                 1949           1393  \n",
      "2        Biotechnology             0                 2423            681  \n",
      "3          Health Care             0                 2800           1051  \n",
      "4        Manufacturing             0                  489              0  \n",
      "Лучшая модель и её параметры:\n",
      "\n",
      " Pipeline(steps=[('preprocessor',\n",
      "                 ColumnTransformer(remainder='passthrough',\n",
      "                                   transformers=[('ohe',\n",
      "                                                  Pipeline(steps=[('simpleImputer_ohe',\n",
      "                                                                   SimpleImputer(strategy='most_frequent')),\n",
      "                                                                  ('ohe',\n",
      "                                                                   OneHotEncoder(handle_unknown='infrequent_if_exist',\n",
      "                                                                                 min_frequency=10,\n",
      "                                                                                 sparse_output=False))]),\n",
      "                                                  ['country_code',\n",
      "                                                   'category_first']),\n",
      "                                                 ('num',\n",
      "                                                  Pipeline(steps=[('simpleImputer_num',\n",
      "                                                                   SimpleImputer()),\n",
      "                                                                  ('scaler',\n",
      "                                                                   'passthrough')]),\n",
      "                                                  ['funding_total_usd',\n",
      "                                                   'funding_rounds', 'lifetime',\n",
      "                                                   'delta_first_funding',\n",
      "                                                   'delta_funding']),\n",
      "                                                 ('bin',\n",
      "                                                  Pipeline(steps=[('imputer',\n",
      "                                                                   SimpleImputer(strategy='most_frequent'))]),\n",
      "                                                  ['lifetime_min'])])),\n",
      "                ('select_k_best', SelectKBest(k=50)),\n",
      "                ('models',\n",
      "                 <catboost.core.CatBoostClassifier object at 0x000002566BA47F70>)])\n",
      "Метрика лучшей модели на тренировочной выборке: 0.99535571211395\n",
      "[1.         0.99999998 0.99992902 ... 0.99996395 0.99960388 0.9964751 ]\n"
     ]
    }
   ],
   "source": [
    "# создаём общий пайплайн для подготовки данных\n",
    "data_preprocessor = ColumnTransformer(\n",
    "    [('ohe', ohe_pipe, ohe_columns),\n",
    "     #('ord', ord_pipe, ord_columns),\n",
    "     ('num', num_pipe, num_columns),\n",
    "     ('bin', bin_pipe, bin_columns)\n",
    "    ], \n",
    "    remainder='passthrough'\n",
    ")\n",
    "\n",
    "# создаём итоговый пайплайн: подготовка данных и модель, отбор 50 самых значимых признаков\n",
    "pipe_final = Pipeline([\n",
    "    ('preprocessor', data_preprocessor),\n",
    "    ('select_k_best', SelectKBest(score_func=f_classif, k=50)),\n",
    "    ('models', DecisionTreeClassifier(random_state=RANDOM_STATE))\n",
    "])\n",
    "\n",
    "param_grid = [\n",
    "    # словарь для модели DecisionTreeClassifier()\n",
    "    {\n",
    "        'models': [DecisionTreeClassifier(random_state=RANDOM_STATE)],\n",
    "        'models__max_depth': range(2,5),\n",
    "        'models__max_features': range(2,5),\n",
    "        'preprocessor__num': [StandardScaler(), MinMaxScaler(), 'passthrough']  \n",
    "    },\n",
    "    \n",
    "    # словарь для модели KNeighborsClassifier() \n",
    "    {\n",
    "        'models': [KNeighborsClassifier()],\n",
    "        'models__n_neighbors': range(2,5),\n",
    "        'preprocessor__num': [StandardScaler(), MinMaxScaler(), 'passthrough']   \n",
    "    },\n",
    "\n",
    "    # словарь для модели LogisticRegression()\n",
    "    {\n",
    "        'models': [LogisticRegression(\n",
    "            random_state=RANDOM_STATE, \n",
    "            solver='liblinear', \n",
    "            penalty='l1'\n",
    "        )],\n",
    "        'models__C': range(1,5),\n",
    "        'preprocessor__num': [StandardScaler(), MinMaxScaler(), 'passthrough']  \n",
    "    },\n",
    "    \n",
    "    # словарь для модели SVC()\n",
    "    {\n",
    "        'models': [SVC(\n",
    "            random_state=RANDOM_STATE, probability= True\n",
    "        )],\n",
    "        'models__kernel': ['rbf', 'sigmoid', 'poly'],\n",
    "        'preprocessor__num': [StandardScaler(), MinMaxScaler(), 'passthrough']  \n",
    "    },\n",
    "    # словарь для модели CatBoostClassifier\n",
    "    {\n",
    "        'models': [CatBoostClassifier(random_state=RANDOM_STATE, silent=True)],\n",
    "        'models__depth': range(1,8),\n",
    "        'models__learning_rate': [0.01, 0.05, 0.1],\n",
    "        'models__iterations': [100, 200, 300, 500, 1000],\n",
    "        #'models__l2_leaf_reg': [0.1, 0.5, 1.0, 3.0],\n",
    "        'preprocessor__num__scaler': [StandardScaler(), MinMaxScaler(), 'passthrough']\n",
    "    }\n",
    "]\n",
    "#стратифицируем выборку в связи с дисбалансом классов\n",
    "stratified_kfold = StratifiedKFold(n_splits=5, shuffle=True, random_state=RANDOM_STATE)\n",
    "\n",
    "\n",
    "randomized_search = RandomizedSearchCV(\n",
    "    pipe_final, \n",
    "    param_grid, \n",
    "    cv=stratified_kfold,#добавили stratified_kfold для учета дисбаланса классов по признаку status\n",
    "    scoring='f1',\n",
    "    random_state=RANDOM_STATE,\n",
    "    n_jobs=-1\n",
    ")\n",
    "randomized_search.fit(X_train, y_train)\n",
    "print(X_train.head())\n",
    "print('Лучшая модель и её параметры:\\n\\n', randomized_search.best_estimator_)\n",
    "print ('Метрика лучшей модели на тренировочной выборке:', randomized_search.best_score_)\n",
    "\n",
    "# проверьте работу модели на тестовой выборке\n",
    "# рассчитайте прогноз на тестовых данных\n",
    "pred = randomized_search.predict_proba(X_test)\n",
    "pred_one = pred[:,1]\n",
    "print(pred_one)\n",
    "#print(f'Метрика f1 на тестовой выборке: {f1_score(y_test, randomized_search.predict(X_test))}')"
   ]
  },
  {
   "cell_type": "code",
   "execution_count": 67,
   "metadata": {},
   "outputs": [],
   "source": [
    "# ПРИМЕНЕНИЕ МОДЕЛИ CatBoostClassifier НЕ В ПАЙПЛАЙНЕ\n",
    "#cat_features_indices = list(range(len(ohe_columns)))\n",
    "#train_pool = Pool(data=X_train_p, label=y_train, cat_features=cat_features_indices)\n",
    "\n",
    "#stratified_kfold = StratifiedKFold(n_splits=5, shuffle=True, random_state=RANDOM_STATE)\n",
    "\n",
    "#catboost_params = {\n",
    "#    'iterations': 200,\n",
    "#    'depth': 7,\n",
    "#    'learning_rate': 0.1,\n",
    "#    'random_seed': RANDOM_STATE,\n",
    "#    'silent': True,\n",
    "#    'loss_function': 'Logloss'\n",
    "#}\n",
    "\n",
    "\n",
    "#cv_results = cv(\n",
    "#    params=catboost_params,\n",
    "#    pool=train_pool,\n",
    "#    fold_count=5,\n",
    "#    inverted=False,\n",
    "#    partition_random_seed=RANDOM_STATE,\n",
    "#    shuffle=True,\n",
    "#    stratified=True,\n",
    "#    plot=False,\n",
    "    \n",
    "#)\n",
    "# Print cross-validation results\n",
    "#print(cv_results)\n",
    "\n",
    "# Train the final model on the entire training data\n",
    "#catboost_model = CatBoostClassifier(**catboost_params)\n",
    "#catboost_model.fit(train_pool)\n",
    "\n",
    "# Evaluate the model\n",
    "#train_predictions = catboost_model.predict(X_train_p)\n",
    "#train_f1 = f1_score(y_train, train_predictions)\n",
    "#print('Training F1 score:', train_f1)\n",
    "\n",
    "# Predict probabilities on the test set\n",
    "#pred = catboost_model.predict_proba(X_test_p)\n",
    "#pred_one = pred[:, 1]\n",
    "#print(pred_one)"
   ]
  },
  {
   "cell_type": "code",
   "execution_count": 68,
   "metadata": {},
   "outputs": [],
   "source": [
    "data_test_pred = pd.DataFrame(zip(data_test['name'], pred_one),\n",
    "columns = ['name', 'y_proba']).sort_values(by='y_proba',ascending=False) "
   ]
  },
  {
   "cell_type": "code",
   "execution_count": 69,
   "metadata": {},
   "outputs": [
    {
     "data": {
      "text/html": [
       "<div>\n",
       "<style scoped>\n",
       "    .dataframe tbody tr th:only-of-type {\n",
       "        vertical-align: middle;\n",
       "    }\n",
       "\n",
       "    .dataframe tbody tr th {\n",
       "        vertical-align: top;\n",
       "    }\n",
       "\n",
       "    .dataframe thead th {\n",
       "        text-align: right;\n",
       "    }\n",
       "</style>\n",
       "<table border=\"1\" class=\"dataframe\">\n",
       "  <thead>\n",
       "    <tr style=\"text-align: right;\">\n",
       "      <th></th>\n",
       "      <th>name</th>\n",
       "      <th>y_proba</th>\n",
       "    </tr>\n",
       "  </thead>\n",
       "  <tbody>\n",
       "    <tr>\n",
       "      <th>9120</th>\n",
       "      <td>American Dental Partners</td>\n",
       "      <td>1.000000</td>\n",
       "    </tr>\n",
       "    <tr>\n",
       "      <th>11007</th>\n",
       "      <td>S4E</td>\n",
       "      <td>1.000000</td>\n",
       "    </tr>\n",
       "    <tr>\n",
       "      <th>10715</th>\n",
       "      <td>Shanghai Electronic Certificate Authority Center</td>\n",
       "      <td>1.000000</td>\n",
       "    </tr>\n",
       "    <tr>\n",
       "      <th>7896</th>\n",
       "      <td>AnVil Informatics, Inc</td>\n",
       "      <td>1.000000</td>\n",
       "    </tr>\n",
       "    <tr>\n",
       "      <th>3132</th>\n",
       "      <td>Orthus Limited (UK)</td>\n",
       "      <td>1.000000</td>\n",
       "    </tr>\n",
       "    <tr>\n",
       "      <th>...</th>\n",
       "      <td>...</td>\n",
       "      <td>...</td>\n",
       "    </tr>\n",
       "    <tr>\n",
       "      <th>1947</th>\n",
       "      <td>MicroBlend Technologies</td>\n",
       "      <td>0.000010</td>\n",
       "    </tr>\n",
       "    <tr>\n",
       "      <th>12837</th>\n",
       "      <td>Snowflake Technologies</td>\n",
       "      <td>0.000009</td>\n",
       "    </tr>\n",
       "    <tr>\n",
       "      <th>230</th>\n",
       "      <td>Cyrano Sciences</td>\n",
       "      <td>0.000008</td>\n",
       "    </tr>\n",
       "    <tr>\n",
       "      <th>6670</th>\n",
       "      <td>VC VISION</td>\n",
       "      <td>0.000008</td>\n",
       "    </tr>\n",
       "    <tr>\n",
       "      <th>5897</th>\n",
       "      <td>Plug.dj</td>\n",
       "      <td>0.000006</td>\n",
       "    </tr>\n",
       "  </tbody>\n",
       "</table>\n",
       "<p>13125 rows × 2 columns</p>\n",
       "</div>"
      ],
      "text/plain": [
       "                                                   name   y_proba\n",
       "9120                           American Dental Partners  1.000000\n",
       "11007                                               S4E  1.000000\n",
       "10715  Shanghai Electronic Certificate Authority Center  1.000000\n",
       "7896                             AnVil Informatics, Inc  1.000000\n",
       "3132                                Orthus Limited (UK)  1.000000\n",
       "...                                                 ...       ...\n",
       "1947                            MicroBlend Technologies  0.000010\n",
       "12837                            Snowflake Technologies  0.000009\n",
       "230                                     Cyrano Sciences  0.000008\n",
       "6670                                          VC VISION  0.000008\n",
       "5897                                            Plug.dj  0.000006\n",
       "\n",
       "[13125 rows x 2 columns]"
      ]
     },
     "execution_count": 69,
     "metadata": {},
     "output_type": "execute_result"
    }
   ],
   "source": [
    "data_test_pred"
   ]
  },
  {
   "cell_type": "code",
   "execution_count": 70,
   "metadata": {},
   "outputs": [],
   "source": [
    "data_test_pred['status'] = data_test_pred['y_proba'].apply(lambda x:'operating' if x>=0.65 else 'closed')"
   ]
  },
  {
   "cell_type": "code",
   "execution_count": 71,
   "metadata": {},
   "outputs": [],
   "source": [
    "data_test_pred = data_test_pred[['name','status']]"
   ]
  },
  {
   "cell_type": "code",
   "execution_count": 72,
   "metadata": {},
   "outputs": [],
   "source": [
    "data_test_pred.to_csv('data_test_pred.csv', index = False)"
   ]
  },
  {
   "cell_type": "code",
   "execution_count": 73,
   "metadata": {},
   "outputs": [
    {
     "data": {
      "text/html": [
       "<div>\n",
       "<style scoped>\n",
       "    .dataframe tbody tr th:only-of-type {\n",
       "        vertical-align: middle;\n",
       "    }\n",
       "\n",
       "    .dataframe tbody tr th {\n",
       "        vertical-align: top;\n",
       "    }\n",
       "\n",
       "    .dataframe thead th {\n",
       "        text-align: right;\n",
       "    }\n",
       "</style>\n",
       "<table border=\"1\" class=\"dataframe\">\n",
       "  <thead>\n",
       "    <tr style=\"text-align: right;\">\n",
       "      <th></th>\n",
       "      <th>name</th>\n",
       "      <th>status</th>\n",
       "    </tr>\n",
       "  </thead>\n",
       "  <tbody>\n",
       "    <tr>\n",
       "      <th>7750</th>\n",
       "      <td>Medico.com</td>\n",
       "      <td>closed</td>\n",
       "    </tr>\n",
       "    <tr>\n",
       "      <th>10835</th>\n",
       "      <td>Survival Media</td>\n",
       "      <td>closed</td>\n",
       "    </tr>\n",
       "    <tr>\n",
       "      <th>3220</th>\n",
       "      <td>SRM Solutions</td>\n",
       "      <td>closed</td>\n",
       "    </tr>\n",
       "    <tr>\n",
       "      <th>12432</th>\n",
       "      <td>OPAL Therapeutics</td>\n",
       "      <td>closed</td>\n",
       "    </tr>\n",
       "    <tr>\n",
       "      <th>2420</th>\n",
       "      <td>T.H.E. Medical</td>\n",
       "      <td>closed</td>\n",
       "    </tr>\n",
       "    <tr>\n",
       "      <th>...</th>\n",
       "      <td>...</td>\n",
       "      <td>...</td>\n",
       "    </tr>\n",
       "    <tr>\n",
       "      <th>1947</th>\n",
       "      <td>MicroBlend Technologies</td>\n",
       "      <td>closed</td>\n",
       "    </tr>\n",
       "    <tr>\n",
       "      <th>12837</th>\n",
       "      <td>Snowflake Technologies</td>\n",
       "      <td>closed</td>\n",
       "    </tr>\n",
       "    <tr>\n",
       "      <th>230</th>\n",
       "      <td>Cyrano Sciences</td>\n",
       "      <td>closed</td>\n",
       "    </tr>\n",
       "    <tr>\n",
       "      <th>6670</th>\n",
       "      <td>VC VISION</td>\n",
       "      <td>closed</td>\n",
       "    </tr>\n",
       "    <tr>\n",
       "      <th>5897</th>\n",
       "      <td>Plug.dj</td>\n",
       "      <td>closed</td>\n",
       "    </tr>\n",
       "  </tbody>\n",
       "</table>\n",
       "<p>100 rows × 2 columns</p>\n",
       "</div>"
      ],
      "text/plain": [
       "                          name  status\n",
       "7750                Medico.com  closed\n",
       "10835           Survival Media  closed\n",
       "3220             SRM Solutions  closed\n",
       "12432        OPAL Therapeutics  closed\n",
       "2420            T.H.E. Medical  closed\n",
       "...                        ...     ...\n",
       "1947   MicroBlend Technologies  closed\n",
       "12837   Snowflake Technologies  closed\n",
       "230            Cyrano Sciences  closed\n",
       "6670                 VC VISION  closed\n",
       "5897                   Plug.dj  closed\n",
       "\n",
       "[100 rows x 2 columns]"
      ]
     },
     "execution_count": 73,
     "metadata": {},
     "output_type": "execute_result"
    }
   ],
   "source": [
    "data_test_pred.tail(100)"
   ]
  },
  {
   "cell_type": "code",
   "execution_count": 74,
   "metadata": {},
   "outputs": [
    {
     "data": {
      "text/html": [
       "<div>\n",
       "<style scoped>\n",
       "    .dataframe tbody tr th:only-of-type {\n",
       "        vertical-align: middle;\n",
       "    }\n",
       "\n",
       "    .dataframe tbody tr th {\n",
       "        vertical-align: top;\n",
       "    }\n",
       "\n",
       "    .dataframe thead th {\n",
       "        text-align: right;\n",
       "    }\n",
       "</style>\n",
       "<table border=\"1\" class=\"dataframe\">\n",
       "  <thead>\n",
       "    <tr style=\"text-align: right;\">\n",
       "      <th></th>\n",
       "      <th>rank_test_score</th>\n",
       "      <th>param_models</th>\n",
       "      <th>mean_test_score</th>\n",
       "      <th>params</th>\n",
       "    </tr>\n",
       "  </thead>\n",
       "  <tbody>\n",
       "    <tr>\n",
       "      <th>3</th>\n",
       "      <td>1</td>\n",
       "      <td>&lt;catboost.core.CatBoostClassifier object at 0x000002566BA31B20&gt;</td>\n",
       "      <td>0.995356</td>\n",
       "      <td>{'preprocessor__num__scaler': 'passthrough', 'models__learning_rate': 0.05, 'models__iterations': 500, 'models__depth': 6, 'models': &lt;catboost.core.CatBoostClassifier object at 0x000002566BA31B20&gt;}</td>\n",
       "    </tr>\n",
       "    <tr>\n",
       "      <th>8</th>\n",
       "      <td>2</td>\n",
       "      <td>&lt;catboost.core.CatBoostClassifier object at 0x000002566BA31B20&gt;</td>\n",
       "      <td>0.994181</td>\n",
       "      <td>{'preprocessor__num__scaler': 'passthrough', 'models__learning_rate': 0.05, 'models__iterations': 300, 'models__depth': 6, 'models': &lt;catboost.core.CatBoostClassifier object at 0x000002566BA31B20&gt;}</td>\n",
       "    </tr>\n",
       "    <tr>\n",
       "      <th>9</th>\n",
       "      <td>3</td>\n",
       "      <td>&lt;catboost.core.CatBoostClassifier object at 0x000002566BA31B20&gt;</td>\n",
       "      <td>0.990186</td>\n",
       "      <td>{'preprocessor__num__scaler': StandardScaler(), 'models__learning_rate': 0.1, 'models__iterations': 300, 'models__depth': 2, 'models': &lt;catboost.core.CatBoostClassifier object at 0x000002566BA31B20&gt;}</td>\n",
       "    </tr>\n",
       "    <tr>\n",
       "      <th>7</th>\n",
       "      <td>4</td>\n",
       "      <td>&lt;catboost.core.CatBoostClassifier object at 0x000002566BA31B20&gt;</td>\n",
       "      <td>0.988291</td>\n",
       "      <td>{'preprocessor__num__scaler': 'passthrough', 'models__learning_rate': 0.1, 'models__iterations': 200, 'models__depth': 2, 'models': &lt;catboost.core.CatBoostClassifier object at 0x000002566BA31B20&gt;}</td>\n",
       "    </tr>\n",
       "    <tr>\n",
       "      <th>1</th>\n",
       "      <td>5</td>\n",
       "      <td>KNeighborsClassifier()</td>\n",
       "      <td>0.987698</td>\n",
       "      <td>{'preprocessor__num': StandardScaler(), 'models__n_neighbors': 4, 'models': KNeighborsClassifier()}</td>\n",
       "    </tr>\n",
       "    <tr>\n",
       "      <th>0</th>\n",
       "      <td>6</td>\n",
       "      <td>&lt;catboost.core.CatBoostClassifier object at 0x000002566BA31B20&gt;</td>\n",
       "      <td>0.984231</td>\n",
       "      <td>{'preprocessor__num__scaler': StandardScaler(), 'models__learning_rate': 0.01, 'models__iterations': 100, 'models__depth': 7, 'models': &lt;catboost.core.CatBoostClassifier object at 0x000002566BA31B20&gt;}</td>\n",
       "    </tr>\n",
       "    <tr>\n",
       "      <th>5</th>\n",
       "      <td>7</td>\n",
       "      <td>&lt;catboost.core.CatBoostClassifier object at 0x000002566BA31B20&gt;</td>\n",
       "      <td>0.982891</td>\n",
       "      <td>{'preprocessor__num__scaler': 'passthrough', 'models__learning_rate': 0.01, 'models__iterations': 100, 'models__depth': 5, 'models': &lt;catboost.core.CatBoostClassifier object at 0x000002566BA31B20&gt;}</td>\n",
       "    </tr>\n",
       "    <tr>\n",
       "      <th>6</th>\n",
       "      <td>8</td>\n",
       "      <td>&lt;catboost.core.CatBoostClassifier object at 0x000002566BA31B20&gt;</td>\n",
       "      <td>0.973179</td>\n",
       "      <td>{'preprocessor__num__scaler': MinMaxScaler(), 'models__learning_rate': 0.01, 'models__iterations': 300, 'models__depth': 1, 'models': &lt;catboost.core.CatBoostClassifier object at 0x000002566BA31B20&gt;}</td>\n",
       "    </tr>\n",
       "    <tr>\n",
       "      <th>4</th>\n",
       "      <td>9</td>\n",
       "      <td>&lt;catboost.core.CatBoostClassifier object at 0x000002566BA31B20&gt;</td>\n",
       "      <td>0.972000</td>\n",
       "      <td>{'preprocessor__num__scaler': StandardScaler(), 'models__learning_rate': 0.01, 'models__iterations': 100, 'models__depth': 1, 'models': &lt;catboost.core.CatBoostClassifier object at 0x000002566BA31B20&gt;}</td>\n",
       "    </tr>\n",
       "    <tr>\n",
       "      <th>2</th>\n",
       "      <td>10</td>\n",
       "      <td>DecisionTreeClassifier(random_state=42)</td>\n",
       "      <td>0.951543</td>\n",
       "      <td>{'preprocessor__num': StandardScaler(), 'models__max_features': 4, 'models__max_depth': 3, 'models': DecisionTreeClassifier(random_state=42)}</td>\n",
       "    </tr>\n",
       "  </tbody>\n",
       "</table>\n",
       "</div>"
      ],
      "text/plain": [
       "   rank_test_score  \\\n",
       "3                1   \n",
       "8                2   \n",
       "9                3   \n",
       "7                4   \n",
       "1                5   \n",
       "0                6   \n",
       "5                7   \n",
       "6                8   \n",
       "4                9   \n",
       "2               10   \n",
       "\n",
       "                                                      param_models  \\\n",
       "3  <catboost.core.CatBoostClassifier object at 0x000002566BA31B20>   \n",
       "8  <catboost.core.CatBoostClassifier object at 0x000002566BA31B20>   \n",
       "9  <catboost.core.CatBoostClassifier object at 0x000002566BA31B20>   \n",
       "7  <catboost.core.CatBoostClassifier object at 0x000002566BA31B20>   \n",
       "1                                           KNeighborsClassifier()   \n",
       "0  <catboost.core.CatBoostClassifier object at 0x000002566BA31B20>   \n",
       "5  <catboost.core.CatBoostClassifier object at 0x000002566BA31B20>   \n",
       "6  <catboost.core.CatBoostClassifier object at 0x000002566BA31B20>   \n",
       "4  <catboost.core.CatBoostClassifier object at 0x000002566BA31B20>   \n",
       "2                          DecisionTreeClassifier(random_state=42)   \n",
       "\n",
       "   mean_test_score  \\\n",
       "3         0.995356   \n",
       "8         0.994181   \n",
       "9         0.990186   \n",
       "7         0.988291   \n",
       "1         0.987698   \n",
       "0         0.984231   \n",
       "5         0.982891   \n",
       "6         0.973179   \n",
       "4         0.972000   \n",
       "2         0.951543   \n",
       "\n",
       "                                                                                                                                                                                                     params  \n",
       "3     {'preprocessor__num__scaler': 'passthrough', 'models__learning_rate': 0.05, 'models__iterations': 500, 'models__depth': 6, 'models': <catboost.core.CatBoostClassifier object at 0x000002566BA31B20>}  \n",
       "8     {'preprocessor__num__scaler': 'passthrough', 'models__learning_rate': 0.05, 'models__iterations': 300, 'models__depth': 6, 'models': <catboost.core.CatBoostClassifier object at 0x000002566BA31B20>}  \n",
       "9   {'preprocessor__num__scaler': StandardScaler(), 'models__learning_rate': 0.1, 'models__iterations': 300, 'models__depth': 2, 'models': <catboost.core.CatBoostClassifier object at 0x000002566BA31B20>}  \n",
       "7      {'preprocessor__num__scaler': 'passthrough', 'models__learning_rate': 0.1, 'models__iterations': 200, 'models__depth': 2, 'models': <catboost.core.CatBoostClassifier object at 0x000002566BA31B20>}  \n",
       "1                                                                                                       {'preprocessor__num': StandardScaler(), 'models__n_neighbors': 4, 'models': KNeighborsClassifier()}  \n",
       "0  {'preprocessor__num__scaler': StandardScaler(), 'models__learning_rate': 0.01, 'models__iterations': 100, 'models__depth': 7, 'models': <catboost.core.CatBoostClassifier object at 0x000002566BA31B20>}  \n",
       "5     {'preprocessor__num__scaler': 'passthrough', 'models__learning_rate': 0.01, 'models__iterations': 100, 'models__depth': 5, 'models': <catboost.core.CatBoostClassifier object at 0x000002566BA31B20>}  \n",
       "6    {'preprocessor__num__scaler': MinMaxScaler(), 'models__learning_rate': 0.01, 'models__iterations': 300, 'models__depth': 1, 'models': <catboost.core.CatBoostClassifier object at 0x000002566BA31B20>}  \n",
       "4  {'preprocessor__num__scaler': StandardScaler(), 'models__learning_rate': 0.01, 'models__iterations': 100, 'models__depth': 1, 'models': <catboost.core.CatBoostClassifier object at 0x000002566BA31B20>}  \n",
       "2                                                             {'preprocessor__num': StandardScaler(), 'models__max_features': 4, 'models__max_depth': 3, 'models': DecisionTreeClassifier(random_state=42)}  "
      ]
     },
     "metadata": {},
     "output_type": "display_data"
    }
   ],
   "source": [
    "pd.set_option('display.max_colwidth', None)\n",
    "result = pd.DataFrame(randomized_search.cv_results_)\n",
    "display(result[\n",
    "    ['rank_test_score', 'param_models', 'mean_test_score','params']\n",
    "].sort_values('rank_test_score'));\n"
   ]
  },
  {
   "cell_type": "markdown",
   "metadata": {},
   "source": [
    "К данным применили методы масштабирования(StandardScaler(), MinMaxScaler()) и кодирования(OneHotEncoder).<br>\n",
    "Применяли модели:<br>\n",
    "    - KNeighborsClassifier с параметром n_neighbors<br>\n",
    "    - DecisionTreeClassifier с параметрами max_depth, max_features<br>\n",
    "    - LogisticRegression с параметром C<br>\n",
    "    - SVC с параметром kernel<br>\n",
    "    - CatBoostClassifier с параметрами learning_rate, iterations, max_depth<br>\n",
    "Использовали RandomizedSearchCV для подбора гиперпараметров моделей.<br>\n",
    "Отбирали 50 самых важных признаков.\n",
    "<br>\n",
    "Качество оценивали метрикой F1."
   ]
  },
  {
   "cell_type": "markdown",
   "metadata": {},
   "source": [
    "Наилучшей оказалась модель **CatBoostClassifier** с параметрами learning_rate=0.05, iterations=500, depth=6."
   ]
  },
  {
   "cell_type": "markdown",
   "metadata": {},
   "source": [
    "## Анализ важности признаков"
   ]
  },
  {
   "cell_type": "code",
   "execution_count": 75,
   "metadata": {},
   "outputs": [],
   "source": [
    "feature_names = randomized_search.best_estimator_.named_steps['preprocessor'].transformers_[0][1].named_steps['ohe'].get_feature_names_out().tolist()+num_columns+bin_columns"
   ]
  },
  {
   "cell_type": "code",
   "execution_count": 76,
   "metadata": {},
   "outputs": [],
   "source": [
    "feature_importances = randomized_search.best_estimator_.named_steps['models'].get_feature_importance()"
   ]
  },
  {
   "cell_type": "code",
   "execution_count": 77,
   "metadata": {},
   "outputs": [
    {
     "name": "stdout",
     "output_type": "stream",
     "text": [
      "[0.00000000e+00 3.43337114e-03 9.02708291e-03 7.22582212e-02\n",
      " 0.00000000e+00 4.94704889e-04 0.00000000e+00 5.67005473e-02\n",
      " 1.30726853e-01 0.00000000e+00 0.00000000e+00 2.96257333e-03\n",
      " 0.00000000e+00 0.00000000e+00 0.00000000e+00 4.79336353e-03\n",
      " 3.85530894e-03 8.89976007e-02 0.00000000e+00 0.00000000e+00\n",
      " 0.00000000e+00 0.00000000e+00 2.43299143e-03 8.57722532e-02\n",
      " 0.00000000e+00 0.00000000e+00 0.00000000e+00 1.62563610e-03\n",
      " 2.49469950e-02 0.00000000e+00 0.00000000e+00 0.00000000e+00\n",
      " 1.39757506e-04 5.64775143e-03 0.00000000e+00 0.00000000e+00\n",
      " 0.00000000e+00 2.28998316e-03 3.82140070e-03 0.00000000e+00\n",
      " 0.00000000e+00 0.00000000e+00 1.79865834e-03 5.65820387e-05\n",
      " 6.20108691e-01 4.72933472e+00 3.41936815e+01 3.99393036e+01\n",
      " 1.92036344e+01 8.12155427e-01]\n"
     ]
    }
   ],
   "source": [
    "print(feature_importances)"
   ]
  },
  {
   "cell_type": "code",
   "execution_count": 78,
   "metadata": {},
   "outputs": [],
   "source": [
    "#отбираем только признаки, выбранные KSelector\n",
    "k_best_indices = randomized_search.best_estimator_.named_steps['select_k_best'].get_support(indices=True)\n",
    "processed_feature_names = randomized_search.best_estimator_.named_steps['preprocessor'].get_feature_names_out().tolist()\n",
    "processed_feature_names = [processed_feature_names[i] for i in k_best_indices]\n"
   ]
  },
  {
   "cell_type": "code",
   "execution_count": 79,
   "metadata": {},
   "outputs": [
    {
     "name": "stdout",
     "output_type": "stream",
     "text": [
      "['ohe__country_code_CHL', 'ohe__country_code_CHN', 'ohe__country_code_GBR', 'ohe__country_code_IND', 'ohe__country_code_KOR', 'ohe__country_code_PER', 'ohe__country_code_PRT', 'ohe__country_code_RUS', 'ohe__country_code_USA', 'ohe__category_first_Agriculture', 'ohe__category_first_Alumni', 'ohe__category_first_Analytics', 'ohe__category_first_Application Platforms', 'ohe__category_first_B2B', 'ohe__category_first_Babies', 'ohe__category_first_Big Data', 'ohe__category_first_Big Data Analytics', 'ohe__category_first_Biotechnology', 'ohe__category_first_Cloud Computing', 'ohe__category_first_Consumer Electronics', 'ohe__category_first_Content', 'ohe__category_first_Coupons', 'ohe__category_first_Crowdfunding', 'ohe__category_first_Curated Web', 'ohe__category_first_EdTech', 'ohe__category_first_Education', 'ohe__category_first_Enterprise Software', 'ohe__category_first_Facebook Applications', 'ohe__category_first_Games', 'ohe__category_first_Health and Wellness', 'ohe__category_first_Identity', 'ohe__category_first_Innovation Management', 'ohe__category_first_Journalism', 'ohe__category_first_Manufacturing', 'ohe__category_first_Medical', 'ohe__category_first_Messaging', 'ohe__category_first_Property Management', 'ohe__category_first_Public Relations', 'ohe__category_first_Real Estate', 'ohe__category_first_Service Providers', 'ohe__category_first_Services', 'ohe__category_first_Social Media', 'ohe__category_first_Transportation', 'ohe__category_first_iPhone', 'num__funding_total_usd', 'num__funding_rounds', 'num__lifetime', 'num__delta_first_funding', 'num__delta_funding', 'bin__lifetime_min']\n"
     ]
    }
   ],
   "source": [
    "print(processed_feature_names)"
   ]
  },
  {
   "cell_type": "code",
   "execution_count": 80,
   "metadata": {},
   "outputs": [],
   "source": [
    "importance_df = pd.DataFrame({\n",
    "        'Feature': processed_feature_names,\n",
    "        'Importance': feature_importances\n",
    "    })"
   ]
  },
  {
   "cell_type": "code",
   "execution_count": 81,
   "metadata": {},
   "outputs": [],
   "source": [
    "importance_df = importance_df.sort_values(by='Importance', ascending=False).head(30)"
   ]
  },
  {
   "cell_type": "code",
   "execution_count": 82,
   "metadata": {},
   "outputs": [
    {
     "name": "stdout",
     "output_type": "stream",
     "text": [
      "                                      Feature  Importance\n",
      "47                   num__delta_first_funding   39.939304\n",
      "46                              num__lifetime   34.193681\n",
      "48                         num__delta_funding   19.203634\n",
      "45                        num__funding_rounds    4.729335\n",
      "49                          bin__lifetime_min    0.812155\n",
      "44                     num__funding_total_usd    0.620109\n",
      "8                       ohe__country_code_USA    0.130727\n",
      "17          ohe__category_first_Biotechnology    0.088998\n",
      "23            ohe__category_first_Curated Web    0.085772\n",
      "3                       ohe__country_code_IND    0.072258\n",
      "7                       ohe__country_code_RUS    0.056701\n",
      "28                  ohe__category_first_Games    0.024947\n",
      "2                       ohe__country_code_GBR    0.009027\n",
      "33          ohe__category_first_Manufacturing    0.005648\n",
      "15               ohe__category_first_Big Data    0.004793\n",
      "16     ohe__category_first_Big Data Analytics    0.003855\n",
      "38            ohe__category_first_Real Estate    0.003821\n",
      "1                       ohe__country_code_CHN    0.003433\n",
      "11              ohe__category_first_Analytics    0.002963\n",
      "22           ohe__category_first_Crowdfunding    0.002433\n",
      "37       ohe__category_first_Public Relations    0.002290\n",
      "42         ohe__category_first_Transportation    0.001799\n",
      "27  ohe__category_first_Facebook Applications    0.001626\n",
      "5                       ohe__country_code_PER    0.000495\n",
      "32             ohe__category_first_Journalism    0.000140\n",
      "43                 ohe__category_first_iPhone    0.000057\n",
      "40               ohe__category_first_Services    0.000000\n",
      "39      ohe__category_first_Service Providers    0.000000\n",
      "41           ohe__category_first_Social Media    0.000000\n",
      "36    ohe__category_first_Property Management    0.000000\n"
     ]
    }
   ],
   "source": [
    "print(importance_df)"
   ]
  },
  {
   "cell_type": "code",
   "execution_count": 83,
   "metadata": {},
   "outputs": [
    {
     "ename": "TypeError",
     "evalue": "'str' object is not callable",
     "output_type": "error",
     "traceback": [
      "\u001b[1;31m---------------------------------------------------------------------------\u001b[0m",
      "\u001b[1;31mTypeError\u001b[0m                                 Traceback (most recent call last)",
      "\u001b[1;32mC:\\Users\\A362~1\\AppData\\Local\\Temp/ipykernel_7380/3131039809.py\u001b[0m in \u001b[0;36m<module>\u001b[1;34m\u001b[0m\n\u001b[0;32m      1\u001b[0m \u001b[0mplt\u001b[0m\u001b[1;33m.\u001b[0m\u001b[0mfigure\u001b[0m\u001b[1;33m(\u001b[0m\u001b[0mfigsize\u001b[0m\u001b[1;33m=\u001b[0m\u001b[1;33m(\u001b[0m\u001b[1;36m10\u001b[0m\u001b[1;33m,\u001b[0m \u001b[1;36m8\u001b[0m\u001b[1;33m)\u001b[0m\u001b[1;33m)\u001b[0m\u001b[1;33m\u001b[0m\u001b[1;33m\u001b[0m\u001b[0m\n\u001b[0;32m      2\u001b[0m \u001b[0msns\u001b[0m\u001b[1;33m.\u001b[0m\u001b[0mbarplot\u001b[0m\u001b[1;33m(\u001b[0m\u001b[0mx\u001b[0m\u001b[1;33m=\u001b[0m\u001b[1;34m'Importance'\u001b[0m\u001b[1;33m,\u001b[0m \u001b[0my\u001b[0m\u001b[1;33m=\u001b[0m\u001b[1;34m'Feature'\u001b[0m\u001b[1;33m,\u001b[0m \u001b[0mdata\u001b[0m\u001b[1;33m=\u001b[0m\u001b[0mimportance_df\u001b[0m\u001b[1;33m)\u001b[0m\u001b[1;33m\u001b[0m\u001b[1;33m\u001b[0m\u001b[0m\n\u001b[1;32m----> 3\u001b[1;33m \u001b[0mplt\u001b[0m\u001b[1;33m.\u001b[0m\u001b[0mtitle\u001b[0m\u001b[1;33m(\u001b[0m\u001b[1;34m'Feature Importances'\u001b[0m\u001b[1;33m)\u001b[0m\u001b[1;33m\u001b[0m\u001b[1;33m\u001b[0m\u001b[0m\n\u001b[0m",
      "\u001b[1;31mTypeError\u001b[0m: 'str' object is not callable"
     ]
    },
    {
     "data": {
      "image/png": "[encoded data removed]",
      "text/plain": [
       "<Figure size 720x576 with 1 Axes>"
      ]
     },
     "metadata": {
      "needs_background": "light"
     },
     "output_type": "display_data"
    }
   ],
   "source": [
    "plt.figure(figsize=(10, 8))\n",
    "sns.barplot(x='Importance', y='Feature', data=importance_df)\n",
    "plt.title('Feature Importances')"
   ]
  },
  {
   "cell_type": "markdown",
   "metadata": {},
   "source": [
    "**Самыми значимыми признаками оказались:**\n",
    "- delta_first_funding разница между первым финансированием и датой основания\n",
    "- lifetime срок продолжительности существования стартапа\n",
    "- delta_funding разница между последним и первым финансированием\n",
    "- funding_rounds количество раундов финансирования\n",
    "- lifetime_min минимальное количество дней существования стартапа\n",
    "- funding_total_usd финансирование стартапа"
   ]
  },
  {
   "cell_type": "code",
   "execution_count": 84,
   "metadata": {},
   "outputs": [],
   "source": [
    "data_preprocessor.fit(X_train, y_train)\n",
    "X_train_p = pd.DataFrame(data_preprocessor.transform(X_train), columns = feature_names)\n",
    "# выводим предсказанные значения тренировочной выборки\n",
    "X_test_p = pd.DataFrame(data_preprocessor.transform(X_test), columns = feature_names)"
   ]
  },
  {
   "cell_type": "code",
   "execution_count": 85,
   "metadata": {},
   "outputs": [
    {
     "data": {
      "text/html": [
       "<div>\n",
       "<style scoped>\n",
       "    .dataframe tbody tr th:only-of-type {\n",
       "        vertical-align: middle;\n",
       "    }\n",
       "\n",
       "    .dataframe tbody tr th {\n",
       "        vertical-align: top;\n",
       "    }\n",
       "\n",
       "    .dataframe thead th {\n",
       "        text-align: right;\n",
       "    }\n",
       "</style>\n",
       "<table border=\"1\" class=\"dataframe\">\n",
       "  <thead>\n",
       "    <tr style=\"text-align: right;\">\n",
       "      <th></th>\n",
       "      <th>x0_ARE</th>\n",
       "      <th>x0_ARG</th>\n",
       "      <th>x0_AUS</th>\n",
       "      <th>x0_AUT</th>\n",
       "      <th>x0_BEL</th>\n",
       "      <th>x0_BGR</th>\n",
       "      <th>x0_BRA</th>\n",
       "      <th>x0_CAN</th>\n",
       "      <th>x0_CHE</th>\n",
       "      <th>x0_CHL</th>\n",
       "      <th>...</th>\n",
       "      <th>x1_iOS</th>\n",
       "      <th>x1_iPad</th>\n",
       "      <th>x1_iPhone</th>\n",
       "      <th>x1_infrequent_sklearn</th>\n",
       "      <th>funding_total_usd</th>\n",
       "      <th>funding_rounds</th>\n",
       "      <th>lifetime</th>\n",
       "      <th>delta_first_funding</th>\n",
       "      <th>delta_funding</th>\n",
       "      <th>lifetime_min</th>\n",
       "    </tr>\n",
       "  </thead>\n",
       "  <tbody>\n",
       "    <tr>\n",
       "      <th>0</th>\n",
       "      <td>0.0</td>\n",
       "      <td>0.0</td>\n",
       "      <td>0.0</td>\n",
       "      <td>0.0</td>\n",
       "      <td>0.0</td>\n",
       "      <td>0.0</td>\n",
       "      <td>0.0</td>\n",
       "      <td>0.0</td>\n",
       "      <td>0.0</td>\n",
       "      <td>0.0</td>\n",
       "      <td>...</td>\n",
       "      <td>0.0</td>\n",
       "      <td>0.0</td>\n",
       "      <td>0.0</td>\n",
       "      <td>0.0</td>\n",
       "      <td>-0.073144</td>\n",
       "      <td>-0.538859</td>\n",
       "      <td>0.167585</td>\n",
       "      <td>-0.357442</td>\n",
       "      <td>-0.503179</td>\n",
       "      <td>0.0</td>\n",
       "    </tr>\n",
       "    <tr>\n",
       "      <th>1</th>\n",
       "      <td>0.0</td>\n",
       "      <td>0.0</td>\n",
       "      <td>0.0</td>\n",
       "      <td>0.0</td>\n",
       "      <td>0.0</td>\n",
       "      <td>0.0</td>\n",
       "      <td>0.0</td>\n",
       "      <td>0.0</td>\n",
       "      <td>0.0</td>\n",
       "      <td>0.0</td>\n",
       "      <td>...</td>\n",
       "      <td>0.0</td>\n",
       "      <td>0.0</td>\n",
       "      <td>0.0</td>\n",
       "      <td>0.0</td>\n",
       "      <td>-0.078010</td>\n",
       "      <td>-0.538859</td>\n",
       "      <td>-0.197427</td>\n",
       "      <td>-0.594990</td>\n",
       "      <td>-0.503179</td>\n",
       "      <td>0.0</td>\n",
       "    </tr>\n",
       "    <tr>\n",
       "      <th>2</th>\n",
       "      <td>0.0</td>\n",
       "      <td>0.0</td>\n",
       "      <td>0.0</td>\n",
       "      <td>0.0</td>\n",
       "      <td>0.0</td>\n",
       "      <td>0.0</td>\n",
       "      <td>0.0</td>\n",
       "      <td>0.0</td>\n",
       "      <td>0.0</td>\n",
       "      <td>0.0</td>\n",
       "      <td>...</td>\n",
       "      <td>0.0</td>\n",
       "      <td>0.0</td>\n",
       "      <td>0.0</td>\n",
       "      <td>0.0</td>\n",
       "      <td>-0.087346</td>\n",
       "      <td>0.188662</td>\n",
       "      <td>-0.859478</td>\n",
       "      <td>-0.616200</td>\n",
       "      <td>-0.320202</td>\n",
       "      <td>0.0</td>\n",
       "    </tr>\n",
       "    <tr>\n",
       "      <th>3</th>\n",
       "      <td>0.0</td>\n",
       "      <td>0.0</td>\n",
       "      <td>0.0</td>\n",
       "      <td>0.0</td>\n",
       "      <td>0.0</td>\n",
       "      <td>0.0</td>\n",
       "      <td>0.0</td>\n",
       "      <td>0.0</td>\n",
       "      <td>0.0</td>\n",
       "      <td>0.0</td>\n",
       "      <td>...</td>\n",
       "      <td>0.0</td>\n",
       "      <td>0.0</td>\n",
       "      <td>0.0</td>\n",
       "      <td>0.0</td>\n",
       "      <td>0.116230</td>\n",
       "      <td>1.643703</td>\n",
       "      <td>0.748160</td>\n",
       "      <td>-0.596808</td>\n",
       "      <td>2.306833</td>\n",
       "      <td>0.0</td>\n",
       "    </tr>\n",
       "    <tr>\n",
       "      <th>4</th>\n",
       "      <td>0.0</td>\n",
       "      <td>0.0</td>\n",
       "      <td>0.0</td>\n",
       "      <td>0.0</td>\n",
       "      <td>0.0</td>\n",
       "      <td>0.0</td>\n",
       "      <td>0.0</td>\n",
       "      <td>1.0</td>\n",
       "      <td>0.0</td>\n",
       "      <td>0.0</td>\n",
       "      <td>...</td>\n",
       "      <td>0.0</td>\n",
       "      <td>0.0</td>\n",
       "      <td>0.0</td>\n",
       "      <td>0.0</td>\n",
       "      <td>-0.062982</td>\n",
       "      <td>-0.538859</td>\n",
       "      <td>1.428368</td>\n",
       "      <td>0.807878</td>\n",
       "      <td>-0.503179</td>\n",
       "      <td>0.0</td>\n",
       "    </tr>\n",
       "    <tr>\n",
       "      <th>...</th>\n",
       "      <td>...</td>\n",
       "      <td>...</td>\n",
       "      <td>...</td>\n",
       "      <td>...</td>\n",
       "      <td>...</td>\n",
       "      <td>...</td>\n",
       "      <td>...</td>\n",
       "      <td>...</td>\n",
       "      <td>...</td>\n",
       "      <td>...</td>\n",
       "      <td>...</td>\n",
       "      <td>...</td>\n",
       "      <td>...</td>\n",
       "      <td>...</td>\n",
       "      <td>...</td>\n",
       "      <td>...</td>\n",
       "      <td>...</td>\n",
       "      <td>...</td>\n",
       "      <td>...</td>\n",
       "      <td>...</td>\n",
       "      <td>...</td>\n",
       "    </tr>\n",
       "    <tr>\n",
       "      <th>13120</th>\n",
       "      <td>0.0</td>\n",
       "      <td>0.0</td>\n",
       "      <td>0.0</td>\n",
       "      <td>0.0</td>\n",
       "      <td>0.0</td>\n",
       "      <td>0.0</td>\n",
       "      <td>0.0</td>\n",
       "      <td>0.0</td>\n",
       "      <td>0.0</td>\n",
       "      <td>0.0</td>\n",
       "      <td>...</td>\n",
       "      <td>0.0</td>\n",
       "      <td>0.0</td>\n",
       "      <td>0.0</td>\n",
       "      <td>0.0</td>\n",
       "      <td>-0.089724</td>\n",
       "      <td>-0.538859</td>\n",
       "      <td>-0.391107</td>\n",
       "      <td>-0.420465</td>\n",
       "      <td>-0.503179</td>\n",
       "      <td>0.0</td>\n",
       "    </tr>\n",
       "    <tr>\n",
       "      <th>13121</th>\n",
       "      <td>0.0</td>\n",
       "      <td>0.0</td>\n",
       "      <td>0.0</td>\n",
       "      <td>0.0</td>\n",
       "      <td>0.0</td>\n",
       "      <td>0.0</td>\n",
       "      <td>0.0</td>\n",
       "      <td>0.0</td>\n",
       "      <td>0.0</td>\n",
       "      <td>0.0</td>\n",
       "      <td>...</td>\n",
       "      <td>0.0</td>\n",
       "      <td>0.0</td>\n",
       "      <td>0.0</td>\n",
       "      <td>0.0</td>\n",
       "      <td>-0.078010</td>\n",
       "      <td>-0.538859</td>\n",
       "      <td>-0.441855</td>\n",
       "      <td>-0.209580</td>\n",
       "      <td>-0.503179</td>\n",
       "      <td>0.0</td>\n",
       "    </tr>\n",
       "    <tr>\n",
       "      <th>13122</th>\n",
       "      <td>0.0</td>\n",
       "      <td>0.0</td>\n",
       "      <td>0.0</td>\n",
       "      <td>0.0</td>\n",
       "      <td>0.0</td>\n",
       "      <td>0.0</td>\n",
       "      <td>0.0</td>\n",
       "      <td>0.0</td>\n",
       "      <td>0.0</td>\n",
       "      <td>0.0</td>\n",
       "      <td>...</td>\n",
       "      <td>0.0</td>\n",
       "      <td>0.0</td>\n",
       "      <td>0.0</td>\n",
       "      <td>0.0</td>\n",
       "      <td>-0.056626</td>\n",
       "      <td>0.916183</td>\n",
       "      <td>-0.101984</td>\n",
       "      <td>-0.891926</td>\n",
       "      <td>0.992589</td>\n",
       "      <td>0.0</td>\n",
       "    </tr>\n",
       "    <tr>\n",
       "      <th>13123</th>\n",
       "      <td>0.0</td>\n",
       "      <td>0.0</td>\n",
       "      <td>0.0</td>\n",
       "      <td>0.0</td>\n",
       "      <td>0.0</td>\n",
       "      <td>0.0</td>\n",
       "      <td>0.0</td>\n",
       "      <td>0.0</td>\n",
       "      <td>0.0</td>\n",
       "      <td>0.0</td>\n",
       "      <td>...</td>\n",
       "      <td>0.0</td>\n",
       "      <td>0.0</td>\n",
       "      <td>0.0</td>\n",
       "      <td>0.0</td>\n",
       "      <td>-0.088999</td>\n",
       "      <td>0.188662</td>\n",
       "      <td>-0.642519</td>\n",
       "      <td>-0.251999</td>\n",
       "      <td>-0.447996</td>\n",
       "      <td>0.0</td>\n",
       "    </tr>\n",
       "    <tr>\n",
       "      <th>13124</th>\n",
       "      <td>0.0</td>\n",
       "      <td>0.0</td>\n",
       "      <td>0.0</td>\n",
       "      <td>0.0</td>\n",
       "      <td>0.0</td>\n",
       "      <td>0.0</td>\n",
       "      <td>0.0</td>\n",
       "      <td>0.0</td>\n",
       "      <td>0.0</td>\n",
       "      <td>0.0</td>\n",
       "      <td>...</td>\n",
       "      <td>0.0</td>\n",
       "      <td>0.0</td>\n",
       "      <td>0.0</td>\n",
       "      <td>0.0</td>\n",
       "      <td>0.208598</td>\n",
       "      <td>3.098745</td>\n",
       "      <td>1.088497</td>\n",
       "      <td>0.297634</td>\n",
       "      <td>2.598725</td>\n",
       "      <td>0.0</td>\n",
       "    </tr>\n",
       "  </tbody>\n",
       "</table>\n",
       "<p>13125 rows × 433 columns</p>\n",
       "</div>"
      ],
      "text/plain": [
       "       x0_ARE  x0_ARG  x0_AUS  x0_AUT  x0_BEL  x0_BGR  x0_BRA  x0_CAN  x0_CHE  \\\n",
       "0         0.0     0.0     0.0     0.0     0.0     0.0     0.0     0.0     0.0   \n",
       "1         0.0     0.0     0.0     0.0     0.0     0.0     0.0     0.0     0.0   \n",
       "2         0.0     0.0     0.0     0.0     0.0     0.0     0.0     0.0     0.0   \n",
       "3         0.0     0.0     0.0     0.0     0.0     0.0     0.0     0.0     0.0   \n",
       "4         0.0     0.0     0.0     0.0     0.0     0.0     0.0     1.0     0.0   \n",
       "...       ...     ...     ...     ...     ...     ...     ...     ...     ...   \n",
       "13120     0.0     0.0     0.0     0.0     0.0     0.0     0.0     0.0     0.0   \n",
       "13121     0.0     0.0     0.0     0.0     0.0     0.0     0.0     0.0     0.0   \n",
       "13122     0.0     0.0     0.0     0.0     0.0     0.0     0.0     0.0     0.0   \n",
       "13123     0.0     0.0     0.0     0.0     0.0     0.0     0.0     0.0     0.0   \n",
       "13124     0.0     0.0     0.0     0.0     0.0     0.0     0.0     0.0     0.0   \n",
       "\n",
       "       x0_CHL  ...  x1_iOS  x1_iPad  x1_iPhone  x1_infrequent_sklearn  \\\n",
       "0         0.0  ...     0.0      0.0        0.0                    0.0   \n",
       "1         0.0  ...     0.0      0.0        0.0                    0.0   \n",
       "2         0.0  ...     0.0      0.0        0.0                    0.0   \n",
       "3         0.0  ...     0.0      0.0        0.0                    0.0   \n",
       "4         0.0  ...     0.0      0.0        0.0                    0.0   \n",
       "...       ...  ...     ...      ...        ...                    ...   \n",
       "13120     0.0  ...     0.0      0.0        0.0                    0.0   \n",
       "13121     0.0  ...     0.0      0.0        0.0                    0.0   \n",
       "13122     0.0  ...     0.0      0.0        0.0                    0.0   \n",
       "13123     0.0  ...     0.0      0.0        0.0                    0.0   \n",
       "13124     0.0  ...     0.0      0.0        0.0                    0.0   \n",
       "\n",
       "       funding_total_usd  funding_rounds  lifetime  delta_first_funding  \\\n",
       "0              -0.073144       -0.538859  0.167585            -0.357442   \n",
       "1              -0.078010       -0.538859 -0.197427            -0.594990   \n",
       "2              -0.087346        0.188662 -0.859478            -0.616200   \n",
       "3               0.116230        1.643703  0.748160            -0.596808   \n",
       "4              -0.062982       -0.538859  1.428368             0.807878   \n",
       "...                  ...             ...       ...                  ...   \n",
       "13120          -0.089724       -0.538859 -0.391107            -0.420465   \n",
       "13121          -0.078010       -0.538859 -0.441855            -0.209580   \n",
       "13122          -0.056626        0.916183 -0.101984            -0.891926   \n",
       "13123          -0.088999        0.188662 -0.642519            -0.251999   \n",
       "13124           0.208598        3.098745  1.088497             0.297634   \n",
       "\n",
       "       delta_funding  lifetime_min  \n",
       "0          -0.503179           0.0  \n",
       "1          -0.503179           0.0  \n",
       "2          -0.320202           0.0  \n",
       "3           2.306833           0.0  \n",
       "4          -0.503179           0.0  \n",
       "...              ...           ...  \n",
       "13120      -0.503179           0.0  \n",
       "13121      -0.503179           0.0  \n",
       "13122       0.992589           0.0  \n",
       "13123      -0.447996           0.0  \n",
       "13124       2.598725           0.0  \n",
       "\n",
       "[13125 rows x 433 columns]"
      ]
     },
     "execution_count": 85,
     "metadata": {},
     "output_type": "execute_result"
    }
   ],
   "source": [
    "X_test_p"
   ]
  },
  {
   "cell_type": "code",
   "execution_count": 86,
   "metadata": {},
   "outputs": [
    {
     "data": {
      "text/plain": [
       "<catboost.core.CatBoostClassifier at 0x2566ba47f70>"
      ]
     },
     "execution_count": 86,
     "metadata": {},
     "output_type": "execute_result"
    }
   ],
   "source": [
    "randomized_search.best_estimator_.named_steps['models'].fit(X_train_p, y_train)"
   ]
  },
  {
   "cell_type": "markdown",
   "metadata": {},
   "source": [
    "## Вывод"
   ]
  },
  {
   "cell_type": "markdown",
   "metadata": {},
   "source": [
    "### Общий анализ данных:<br>\n",
    "Были изучены данные о стартапах.<br>\n",
    "Данные содержат информацию о финансировании стартапа (раундах и сумме), датах основания и финансирования, продолжительность существования стартапа и его категорию, географию.<br>\n",
    "Целью исследования было:\n",
    "- разработать модель для предсказания успешности стартапа (закроется или нет).\n",
    "\n",
    "\n",
    "### Предобработка данных:\n",
    "В данных о клиентах магазина не было обнаружено явных дубликатов, пропуски в числовых данных заполнили.<br>\n",
    "Всего 50 тыс. строк в тренировочных данных и 13 тыс. в тестовых.\n",
    "\n",
    "\n",
    "### Исследовательский анализ:\n",
    "Проанализировали признаки и создали новые:\n",
    "- бинарный признак большой объем финансирования (1,е сли финансирование более 1570000000)<br>\n",
    "- бинарный признак минимальная продолжительность жизни стартапа lifetime_min (1, если продолжительность менее 730 дней)<br>\n",
    "- числовой признак lifetime = дата закрытия - дата основания<br>\n",
    "- числовой признак delta_first_funding  = дата первого финансирования и дата основания<br>\n",
    "- числовой признак delta_funding = дата последнего финансирования - дата первого финансирования<br>\n",
    "\n",
    "### Использование пайплайнов:\n",
    "Создали пайплайн, который обрабатывает данные и строит модель классификации.\n",
    "К данным применили методы масштабирования(StandardScaler(), MinMaxScaler()) и кодирования(OneHotEncoder).<br>\n",
    "Применяли модели:<br>\n",
    "    - KNeighborsClassifier с параметром n_neighbors<br>\n",
    "    - DecisionTreeClassifier с параметрами max_depth, max_features<br>\n",
    "    - LogisticRegression с параметром C<br>\n",
    "    - SVC с параметром kernel<br>\n",
    "    - CatBoostClassifier с параметрами learning_rate, iterations, max_depth<br>\n",
    "Использовали RandomizedSearchCV для подбора гиперпараметров моделей. Отбирали 50 самых важных признаков.<br>\n",
    "<br>\n",
    "Выбрали метрику F1.<br>\n",
    "<br>\n",
    "Наилучшей оказалась модель **CatBoostClassifier с параметрами learning_rate=0.05, iterations=500, depth=6.**\n",
    "\n",
    "\n",
    "### Анализ важности признаков:\n",
    "**Самыми значимыми признаками оказались:**\n",
    "- delta_first_funding разница между первым финансированием и датой основания\n",
    "- lifetime срок продолжительности существования стартапа\n",
    "- delta_funding разница между последним и первым финансированием\n",
    "- funding_rounds количество раундов финансирования\n",
    "- lifetime_min минимальное количество дней существования стартапа\n",
    "- funding_total_usd финансирование стартапа"
   ]
  }
 ],
 "metadata": {
  "ExecuteTimeLog": [
   {
    "duration": 426,
    "start_time": "2024-03-18T19:46:30.395Z"
   },
   {
    "duration": 66,
    "start_time": "2024-03-18T19:47:37.246Z"
   },
   {
    "duration": 11,
    "start_time": "2024-03-18T19:47:47.085Z"
   },
   {
    "duration": 30,
    "start_time": "2024-03-18T19:47:56.377Z"
   },
   {
    "duration": 12,
    "start_time": "2024-03-18T19:47:59.024Z"
   },
   {
    "duration": 11,
    "start_time": "2024-03-18T19:48:19.992Z"
   },
   {
    "duration": 36,
    "start_time": "2024-03-18T19:49:20.358Z"
   },
   {
    "duration": 51,
    "start_time": "2024-03-18T19:49:21.103Z"
   },
   {
    "duration": 7,
    "start_time": "2024-03-18T19:49:28.261Z"
   },
   {
    "duration": 9,
    "start_time": "2024-03-18T19:49:37.704Z"
   },
   {
    "duration": 92,
    "start_time": "2024-03-18T19:50:09.398Z"
   },
   {
    "duration": 6,
    "start_time": "2024-03-18T19:50:18.696Z"
   },
   {
    "duration": 7,
    "start_time": "2024-03-18T19:50:38.381Z"
   },
   {
    "duration": 75,
    "start_time": "2024-03-18T19:51:25.396Z"
   },
   {
    "duration": 6,
    "start_time": "2024-03-18T19:51:31.026Z"
   },
   {
    "duration": 36,
    "start_time": "2024-03-18T19:51:42.651Z"
   },
   {
    "duration": 6,
    "start_time": "2024-03-18T19:51:43.964Z"
   },
   {
    "duration": 35,
    "start_time": "2024-03-18T19:51:58.784Z"
   },
   {
    "duration": 6,
    "start_time": "2024-03-18T19:51:58.821Z"
   },
   {
    "duration": 6,
    "start_time": "2024-03-18T19:52:06.915Z"
   },
   {
    "duration": 9,
    "start_time": "2024-03-18T19:52:17.468Z"
   },
   {
    "duration": 90,
    "start_time": "2024-03-18T19:53:59.958Z"
   },
   {
    "duration": 11,
    "start_time": "2024-03-18T19:54:46.704Z"
   },
   {
    "duration": 12,
    "start_time": "2024-03-18T20:04:26.096Z"
   },
   {
    "duration": 6,
    "start_time": "2024-03-18T20:22:31.301Z"
   },
   {
    "duration": 9,
    "start_time": "2024-03-18T20:22:59.807Z"
   },
   {
    "duration": 7,
    "start_time": "2024-03-18T20:24:42.174Z"
   },
   {
    "duration": 9,
    "start_time": "2024-03-18T20:25:31.003Z"
   },
   {
    "duration": 6,
    "start_time": "2024-03-18T20:26:51.023Z"
   },
   {
    "duration": 12,
    "start_time": "2024-03-18T20:27:09.349Z"
   },
   {
    "duration": 5,
    "start_time": "2024-03-18T20:29:44.955Z"
   },
   {
    "duration": 6,
    "start_time": "2024-03-18T20:30:02.124Z"
   },
   {
    "duration": 5,
    "start_time": "2024-03-18T20:32:08.024Z"
   },
   {
    "duration": 6,
    "start_time": "2024-03-18T20:32:33.319Z"
   },
   {
    "duration": 4,
    "start_time": "2024-03-18T20:32:42.336Z"
   },
   {
    "duration": 6,
    "start_time": "2024-03-18T20:32:47.574Z"
   },
   {
    "duration": 6,
    "start_time": "2024-03-18T20:33:07.001Z"
   },
   {
    "duration": 4,
    "start_time": "2024-03-18T20:34:50.151Z"
   },
   {
    "duration": 7,
    "start_time": "2024-03-18T20:34:56.333Z"
   },
   {
    "duration": 7,
    "start_time": "2024-03-18T20:35:25.358Z"
   },
   {
    "duration": 7,
    "start_time": "2024-03-18T20:35:42.561Z"
   },
   {
    "duration": 8,
    "start_time": "2024-03-18T20:37:55.403Z"
   },
   {
    "duration": 5,
    "start_time": "2024-03-18T20:38:12.357Z"
   },
   {
    "duration": 5,
    "start_time": "2024-03-18T20:39:44.531Z"
   },
   {
    "duration": 7,
    "start_time": "2024-03-18T20:41:03.520Z"
   },
   {
    "duration": 5,
    "start_time": "2024-03-18T20:41:31.723Z"
   },
   {
    "duration": 5,
    "start_time": "2024-03-18T20:41:46.629Z"
   },
   {
    "duration": 5,
    "start_time": "2024-03-18T20:43:30.306Z"
   },
   {
    "duration": 6,
    "start_time": "2024-03-18T20:43:35.981Z"
   },
   {
    "duration": 6,
    "start_time": "2024-03-18T20:44:53.312Z"
   },
   {
    "duration": 5,
    "start_time": "2024-03-18T20:45:08.235Z"
   },
   {
    "duration": 10,
    "start_time": "2024-03-18T20:47:57.081Z"
   },
   {
    "duration": 645,
    "start_time": "2024-03-18T20:49:33.765Z"
   },
   {
    "duration": 2,
    "start_time": "2024-03-18T20:50:14.727Z"
   },
   {
    "duration": 176,
    "start_time": "2024-03-18T20:50:21.291Z"
   },
   {
    "duration": 339,
    "start_time": "2024-03-18T20:51:29.810Z"
   },
   {
    "duration": 255,
    "start_time": "2024-03-18T20:51:44.039Z"
   },
   {
    "duration": 319,
    "start_time": "2024-03-18T20:51:52.175Z"
   },
   {
    "duration": 41,
    "start_time": "2024-03-18T20:52:36.102Z"
   },
   {
    "duration": 814,
    "start_time": "2024-03-19T10:06:16.440Z"
   },
   {
    "duration": 301,
    "start_time": "2024-03-19T10:06:17.258Z"
   },
   {
    "duration": 22,
    "start_time": "2024-03-19T10:06:17.561Z"
   },
   {
    "duration": 12,
    "start_time": "2024-03-19T10:06:17.585Z"
   },
   {
    "duration": 16,
    "start_time": "2024-03-19T10:06:17.599Z"
   },
   {
    "duration": 15,
    "start_time": "2024-03-19T10:06:17.617Z"
   },
   {
    "duration": 25,
    "start_time": "2024-03-19T10:06:17.634Z"
   },
   {
    "duration": 11,
    "start_time": "2024-03-19T10:06:17.661Z"
   },
   {
    "duration": 8,
    "start_time": "2024-03-19T10:06:17.674Z"
   },
   {
    "duration": 11,
    "start_time": "2024-03-19T10:06:17.684Z"
   },
   {
    "duration": 11,
    "start_time": "2024-03-19T10:06:17.697Z"
   },
   {
    "duration": 9,
    "start_time": "2024-03-19T10:06:17.709Z"
   },
   {
    "duration": 4,
    "start_time": "2024-03-19T10:06:17.720Z"
   },
   {
    "duration": 6,
    "start_time": "2024-03-19T10:06:17.758Z"
   },
   {
    "duration": 10,
    "start_time": "2024-03-19T10:06:17.766Z"
   },
   {
    "duration": 6,
    "start_time": "2024-03-19T10:06:17.777Z"
   },
   {
    "duration": 12,
    "start_time": "2024-03-19T10:06:17.784Z"
   },
   {
    "duration": 12,
    "start_time": "2024-03-19T10:06:17.798Z"
   },
   {
    "duration": 6,
    "start_time": "2024-03-19T10:06:17.811Z"
   },
   {
    "duration": 10,
    "start_time": "2024-03-19T10:06:17.818Z"
   },
   {
    "duration": 9,
    "start_time": "2024-03-19T10:06:17.829Z"
   },
   {
    "duration": 19,
    "start_time": "2024-03-19T10:06:17.839Z"
   },
   {
    "duration": 5,
    "start_time": "2024-03-19T10:06:17.860Z"
   },
   {
    "duration": 5,
    "start_time": "2024-03-19T10:06:17.866Z"
   },
   {
    "duration": 5,
    "start_time": "2024-03-19T10:06:17.872Z"
   },
   {
    "duration": 8,
    "start_time": "2024-03-19T10:06:17.878Z"
   },
   {
    "duration": 7,
    "start_time": "2024-03-19T10:06:17.887Z"
   },
   {
    "duration": 5,
    "start_time": "2024-03-19T10:06:17.896Z"
   },
   {
    "duration": 5,
    "start_time": "2024-03-19T10:06:17.902Z"
   },
   {
    "duration": 9,
    "start_time": "2024-03-19T10:06:17.908Z"
   },
   {
    "duration": 291,
    "start_time": "2024-03-19T10:06:17.919Z"
   },
   {
    "duration": 0,
    "start_time": "2024-03-19T10:06:18.211Z"
   },
   {
    "duration": 30,
    "start_time": "2024-03-19T10:06:20.265Z"
   },
   {
    "duration": 277,
    "start_time": "2024-03-19T10:06:58.064Z"
   },
   {
    "duration": 49,
    "start_time": "2024-03-19T10:07:01.823Z"
   },
   {
    "duration": 365,
    "start_time": "2024-03-19T10:07:43.401Z"
   },
   {
    "duration": 266,
    "start_time": "2024-03-19T10:07:57.371Z"
   },
   {
    "duration": 262,
    "start_time": "2024-03-19T10:08:05.604Z"
   },
   {
    "duration": 6,
    "start_time": "2024-03-19T10:09:27.038Z"
   },
   {
    "duration": 288,
    "start_time": "2024-03-19T10:12:21.828Z"
   },
   {
    "duration": 307,
    "start_time": "2024-03-19T10:21:14.810Z"
   },
   {
    "duration": 298,
    "start_time": "2024-03-19T10:21:26.524Z"
   },
   {
    "duration": 291,
    "start_time": "2024-03-19T10:21:37.182Z"
   },
   {
    "duration": 336,
    "start_time": "2024-03-19T10:21:58.598Z"
   },
   {
    "duration": 278,
    "start_time": "2024-03-19T10:22:31.860Z"
   },
   {
    "duration": 289,
    "start_time": "2024-03-19T10:22:39.853Z"
   },
   {
    "duration": 314,
    "start_time": "2024-03-19T10:31:37.317Z"
   },
   {
    "duration": 313,
    "start_time": "2024-03-19T10:32:13.445Z"
   },
   {
    "duration": 340,
    "start_time": "2024-03-19T10:33:51.322Z"
   },
   {
    "duration": 311,
    "start_time": "2024-03-19T10:34:12.304Z"
   },
   {
    "duration": 304,
    "start_time": "2024-03-19T10:35:27.825Z"
   },
   {
    "duration": 268,
    "start_time": "2024-03-19T10:35:36.828Z"
   },
   {
    "duration": 1562,
    "start_time": "2024-03-19T10:37:09.253Z"
   },
   {
    "duration": 1523,
    "start_time": "2024-03-19T10:37:33.291Z"
   },
   {
    "duration": 5,
    "start_time": "2024-03-19T10:38:02.708Z"
   },
   {
    "duration": 15,
    "start_time": "2024-03-19T10:39:31.824Z"
   },
   {
    "duration": 1787,
    "start_time": "2024-03-19T10:41:56.081Z"
   },
   {
    "duration": 278,
    "start_time": "2024-03-19T10:42:14.305Z"
   },
   {
    "duration": 13,
    "start_time": "2024-03-19T10:43:16.181Z"
   },
   {
    "duration": 12,
    "start_time": "2024-03-19T10:43:22.984Z"
   },
   {
    "duration": 15,
    "start_time": "2024-03-19T10:43:27.481Z"
   },
   {
    "duration": 10,
    "start_time": "2024-03-19T10:43:44.949Z"
   },
   {
    "duration": 13,
    "start_time": "2024-03-19T10:44:24.374Z"
   },
   {
    "duration": 8,
    "start_time": "2024-03-19T10:44:59.019Z"
   },
   {
    "duration": 14,
    "start_time": "2024-03-19T10:45:13.988Z"
   },
   {
    "duration": 869,
    "start_time": "2024-03-19T15:38:13.758Z"
   },
   {
    "duration": 316,
    "start_time": "2024-03-19T15:38:14.629Z"
   },
   {
    "duration": 18,
    "start_time": "2024-03-19T15:38:14.947Z"
   },
   {
    "duration": 12,
    "start_time": "2024-03-19T15:38:14.967Z"
   },
   {
    "duration": 8,
    "start_time": "2024-03-19T15:38:14.981Z"
   },
   {
    "duration": 16,
    "start_time": "2024-03-19T15:38:14.990Z"
   },
   {
    "duration": 6,
    "start_time": "2024-03-19T15:38:15.008Z"
   },
   {
    "duration": 36,
    "start_time": "2024-03-19T15:38:15.016Z"
   },
   {
    "duration": 56,
    "start_time": "2024-03-19T15:38:15.054Z"
   },
   {
    "duration": 49,
    "start_time": "2024-03-19T15:38:15.111Z"
   },
   {
    "duration": 24,
    "start_time": "2024-03-19T15:38:15.162Z"
   },
   {
    "duration": 24,
    "start_time": "2024-03-19T15:38:15.187Z"
   },
   {
    "duration": 33,
    "start_time": "2024-03-19T15:38:15.213Z"
   },
   {
    "duration": 27,
    "start_time": "2024-03-19T15:38:15.250Z"
   },
   {
    "duration": 35,
    "start_time": "2024-03-19T15:38:15.279Z"
   },
   {
    "duration": 22,
    "start_time": "2024-03-19T15:38:15.316Z"
   },
   {
    "duration": 40,
    "start_time": "2024-03-19T15:38:15.339Z"
   },
   {
    "duration": 42,
    "start_time": "2024-03-19T15:38:15.381Z"
   },
   {
    "duration": 24,
    "start_time": "2024-03-19T15:38:15.424Z"
   },
   {
    "duration": 18,
    "start_time": "2024-03-19T15:38:15.449Z"
   },
   {
    "duration": 40,
    "start_time": "2024-03-19T15:38:15.469Z"
   },
   {
    "duration": 30,
    "start_time": "2024-03-19T15:38:15.511Z"
   },
   {
    "duration": 28,
    "start_time": "2024-03-19T15:38:15.542Z"
   },
   {
    "duration": 44,
    "start_time": "2024-03-19T15:38:15.571Z"
   },
   {
    "duration": 27,
    "start_time": "2024-03-19T15:38:15.617Z"
   },
   {
    "duration": 28,
    "start_time": "2024-03-19T15:38:15.645Z"
   },
   {
    "duration": 32,
    "start_time": "2024-03-19T15:38:15.675Z"
   },
   {
    "duration": 14,
    "start_time": "2024-03-19T15:38:15.708Z"
   },
   {
    "duration": 24,
    "start_time": "2024-03-19T15:38:15.723Z"
   },
   {
    "duration": 14,
    "start_time": "2024-03-19T15:38:15.749Z"
   },
   {
    "duration": 343,
    "start_time": "2024-03-19T15:38:15.765Z"
   },
   {
    "duration": 36,
    "start_time": "2024-03-19T15:38:16.110Z"
   },
   {
    "duration": 6,
    "start_time": "2024-03-19T15:38:16.147Z"
   },
   {
    "duration": 335,
    "start_time": "2024-03-19T15:38:16.154Z"
   },
   {
    "duration": 398,
    "start_time": "2024-03-19T15:38:16.490Z"
   },
   {
    "duration": 15,
    "start_time": "2024-03-19T15:38:16.890Z"
   },
   {
    "duration": 332,
    "start_time": "2024-03-19T15:38:16.907Z"
   },
   {
    "duration": 10,
    "start_time": "2024-03-19T15:38:17.240Z"
   },
   {
    "duration": 26,
    "start_time": "2024-03-19T15:38:17.251Z"
   },
   {
    "duration": 8,
    "start_time": "2024-03-19T15:38:48.424Z"
   },
   {
    "duration": 16,
    "start_time": "2024-03-19T15:38:50.499Z"
   },
   {
    "duration": 14,
    "start_time": "2024-03-19T15:41:54.025Z"
   },
   {
    "duration": 6,
    "start_time": "2024-03-19T15:47:57.505Z"
   },
   {
    "duration": 334,
    "start_time": "2024-03-19T15:48:06.667Z"
   },
   {
    "duration": 19,
    "start_time": "2024-03-19T15:49:15.289Z"
   },
   {
    "duration": 14,
    "start_time": "2024-03-19T15:50:51.644Z"
   },
   {
    "duration": 427,
    "start_time": "2024-03-19T15:51:25.939Z"
   },
   {
    "duration": 15,
    "start_time": "2024-03-19T15:52:23.671Z"
   },
   {
    "duration": 327,
    "start_time": "2024-03-19T15:53:09.130Z"
   },
   {
    "duration": 13,
    "start_time": "2024-03-19T15:58:12.236Z"
   },
   {
    "duration": 144,
    "start_time": "2024-03-19T15:59:37.035Z"
   },
   {
    "duration": 193,
    "start_time": "2024-03-19T16:02:59.883Z"
   },
   {
    "duration": 84,
    "start_time": "2024-03-19T16:05:24.197Z"
   },
   {
    "duration": 120,
    "start_time": "2024-03-19T16:05:49.598Z"
   },
   {
    "duration": 166,
    "start_time": "2024-03-19T16:07:47.779Z"
   },
   {
    "duration": 14,
    "start_time": "2024-03-19T16:10:04.832Z"
   },
   {
    "duration": 169,
    "start_time": "2024-03-19T16:12:25.493Z"
   },
   {
    "duration": 154,
    "start_time": "2024-03-19T16:13:43.261Z"
   },
   {
    "duration": 176,
    "start_time": "2024-03-19T16:15:38.040Z"
   },
   {
    "duration": 157,
    "start_time": "2024-03-19T16:16:45.316Z"
   },
   {
    "duration": 170,
    "start_time": "2024-03-19T16:16:51.721Z"
   },
   {
    "duration": 225,
    "start_time": "2024-03-19T16:18:35.215Z"
   },
   {
    "duration": 210,
    "start_time": "2024-03-19T16:20:59.618Z"
   },
   {
    "duration": 13,
    "start_time": "2024-03-19T16:28:32.891Z"
   },
   {
    "duration": 8,
    "start_time": "2024-03-19T16:29:24.186Z"
   },
   {
    "duration": 804,
    "start_time": "2024-03-20T10:37:54.324Z"
   },
   {
    "duration": 253,
    "start_time": "2024-03-20T10:37:55.130Z"
   },
   {
    "duration": 16,
    "start_time": "2024-03-20T10:37:55.384Z"
   },
   {
    "duration": 23,
    "start_time": "2024-03-20T10:37:55.402Z"
   },
   {
    "duration": 28,
    "start_time": "2024-03-20T10:37:55.427Z"
   },
   {
    "duration": 11,
    "start_time": "2024-03-20T10:37:55.457Z"
   },
   {
    "duration": 7,
    "start_time": "2024-03-20T10:37:55.470Z"
   },
   {
    "duration": 19,
    "start_time": "2024-03-20T10:37:55.479Z"
   },
   {
    "duration": 27,
    "start_time": "2024-03-20T10:37:55.500Z"
   },
   {
    "duration": 23,
    "start_time": "2024-03-20T10:37:55.529Z"
   },
   {
    "duration": 11,
    "start_time": "2024-03-20T10:37:55.554Z"
   },
   {
    "duration": 38,
    "start_time": "2024-03-20T10:37:55.567Z"
   },
   {
    "duration": 5,
    "start_time": "2024-03-20T10:37:55.606Z"
   },
   {
    "duration": 38,
    "start_time": "2024-03-20T10:37:55.614Z"
   },
   {
    "duration": 13,
    "start_time": "2024-03-20T10:37:55.654Z"
   },
   {
    "duration": 10,
    "start_time": "2024-03-20T10:37:55.669Z"
   },
   {
    "duration": 10,
    "start_time": "2024-03-20T10:37:55.680Z"
   },
   {
    "duration": 18,
    "start_time": "2024-03-20T10:37:55.691Z"
   },
   {
    "duration": 7,
    "start_time": "2024-03-20T10:37:55.711Z"
   },
   {
    "duration": 30,
    "start_time": "2024-03-20T10:37:55.719Z"
   },
   {
    "duration": 21,
    "start_time": "2024-03-20T10:37:55.751Z"
   },
   {
    "duration": 19,
    "start_time": "2024-03-20T10:37:55.774Z"
   },
   {
    "duration": 26,
    "start_time": "2024-03-20T10:37:55.795Z"
   },
   {
    "duration": 11,
    "start_time": "2024-03-20T10:37:55.822Z"
   },
   {
    "duration": 17,
    "start_time": "2024-03-20T10:37:55.834Z"
   },
   {
    "duration": 20,
    "start_time": "2024-03-20T10:37:55.852Z"
   },
   {
    "duration": 27,
    "start_time": "2024-03-20T10:37:55.874Z"
   },
   {
    "duration": 22,
    "start_time": "2024-03-20T10:37:55.903Z"
   },
   {
    "duration": 11,
    "start_time": "2024-03-20T10:37:55.927Z"
   },
   {
    "duration": 36,
    "start_time": "2024-03-20T10:37:55.939Z"
   },
   {
    "duration": 347,
    "start_time": "2024-03-20T10:37:55.977Z"
   },
   {
    "duration": 32,
    "start_time": "2024-03-20T10:37:56.326Z"
   },
   {
    "duration": 6,
    "start_time": "2024-03-20T10:37:56.359Z"
   },
   {
    "duration": 326,
    "start_time": "2024-03-20T10:37:56.366Z"
   },
   {
    "duration": 370,
    "start_time": "2024-03-20T10:37:56.694Z"
   },
   {
    "duration": 13,
    "start_time": "2024-03-20T10:37:57.065Z"
   },
   {
    "duration": 302,
    "start_time": "2024-03-20T10:37:57.080Z"
   },
   {
    "duration": 10,
    "start_time": "2024-03-20T10:37:57.384Z"
   },
   {
    "duration": 22,
    "start_time": "2024-03-20T10:37:57.395Z"
   },
   {
    "duration": 18,
    "start_time": "2024-03-20T10:37:57.419Z"
   },
   {
    "duration": 11,
    "start_time": "2024-03-20T10:37:57.441Z"
   },
   {
    "duration": 7,
    "start_time": "2024-03-20T10:37:57.454Z"
   },
   {
    "duration": 339,
    "start_time": "2024-03-20T10:37:57.462Z"
   },
   {
    "duration": 22,
    "start_time": "2024-03-20T10:37:57.803Z"
   },
   {
    "duration": 14,
    "start_time": "2024-03-20T10:37:57.826Z"
   },
   {
    "duration": 13,
    "start_time": "2024-03-20T10:37:57.842Z"
   },
   {
    "duration": 317,
    "start_time": "2024-03-20T10:37:57.856Z"
   },
   {
    "duration": 11,
    "start_time": "2024-03-20T10:37:58.174Z"
   },
   {
    "duration": 139,
    "start_time": "2024-03-20T10:37:58.187Z"
   },
   {
    "duration": 130,
    "start_time": "2024-03-20T10:37:58.328Z"
   },
   {
    "duration": 144,
    "start_time": "2024-03-20T10:37:58.459Z"
   },
   {
    "duration": 216,
    "start_time": "2024-03-20T10:37:58.604Z"
   },
   {
    "duration": 191,
    "start_time": "2024-03-20T10:37:58.822Z"
   },
   {
    "duration": 145,
    "start_time": "2024-03-20T10:37:59.015Z"
   },
   {
    "duration": 237,
    "start_time": "2024-03-20T10:37:59.162Z"
   },
   {
    "duration": 152,
    "start_time": "2024-03-20T10:37:59.400Z"
   },
   {
    "duration": 226,
    "start_time": "2024-03-20T10:37:59.554Z"
   },
   {
    "duration": 198,
    "start_time": "2024-03-20T10:37:59.782Z"
   },
   {
    "duration": 13,
    "start_time": "2024-03-20T10:38:29.127Z"
   },
   {
    "duration": 5,
    "start_time": "2024-03-20T10:39:13.875Z"
   },
   {
    "duration": 6,
    "start_time": "2024-03-20T10:40:15.287Z"
   },
   {
    "duration": 5,
    "start_time": "2024-03-20T10:40:43.820Z"
   },
   {
    "duration": 71,
    "start_time": "2024-03-20T10:41:03.776Z"
   },
   {
    "duration": 5,
    "start_time": "2024-03-20T10:41:31.478Z"
   },
   {
    "duration": 4,
    "start_time": "2024-03-20T10:44:56.332Z"
   },
   {
    "duration": 4,
    "start_time": "2024-03-20T10:45:00.809Z"
   },
   {
    "duration": 11,
    "start_time": "2024-03-20T10:47:13.808Z"
   },
   {
    "duration": 8,
    "start_time": "2024-03-20T10:47:37.654Z"
   },
   {
    "duration": 16,
    "start_time": "2024-03-20T10:47:43.790Z"
   },
   {
    "duration": 3,
    "start_time": "2024-03-20T10:51:43.515Z"
   },
   {
    "duration": 12,
    "start_time": "2024-03-20T10:51:49.822Z"
   },
   {
    "duration": 4,
    "start_time": "2024-03-20T10:52:06.937Z"
   },
   {
    "duration": 3,
    "start_time": "2024-03-20T10:53:29.845Z"
   },
   {
    "duration": 4,
    "start_time": "2024-03-20T10:53:37.268Z"
   },
   {
    "duration": 3,
    "start_time": "2024-03-20T10:53:56.338Z"
   },
   {
    "duration": 8,
    "start_time": "2024-03-20T10:54:02.069Z"
   },
   {
    "duration": 7,
    "start_time": "2024-03-20T10:55:00.940Z"
   },
   {
    "duration": 7,
    "start_time": "2024-03-20T10:55:10.374Z"
   },
   {
    "duration": 5,
    "start_time": "2024-03-20T10:55:41.518Z"
   },
   {
    "duration": 11,
    "start_time": "2024-03-20T10:55:49.734Z"
   },
   {
    "duration": 3,
    "start_time": "2024-03-20T10:59:49.009Z"
   },
   {
    "duration": 7,
    "start_time": "2024-03-20T11:03:51.502Z"
   },
   {
    "duration": 207,
    "start_time": "2024-03-20T11:04:52.219Z"
   },
   {
    "duration": 19,
    "start_time": "2024-03-20T11:05:32.585Z"
   },
   {
    "duration": 11,
    "start_time": "2024-03-20T11:05:52.911Z"
   },
   {
    "duration": 12,
    "start_time": "2024-03-20T11:06:01.747Z"
   },
   {
    "duration": 9,
    "start_time": "2024-03-20T11:06:11.488Z"
   },
   {
    "duration": 3,
    "start_time": "2024-03-20T11:06:37.726Z"
   },
   {
    "duration": 5,
    "start_time": "2024-03-20T11:06:43.094Z"
   },
   {
    "duration": 8,
    "start_time": "2024-03-20T11:09:05.214Z"
   },
   {
    "duration": 15,
    "start_time": "2024-03-20T11:09:13.442Z"
   },
   {
    "duration": 7,
    "start_time": "2024-03-20T11:10:56.827Z"
   },
   {
    "duration": 6,
    "start_time": "2024-03-20T11:11:06.109Z"
   },
   {
    "duration": 15,
    "start_time": "2024-03-20T11:11:08.897Z"
   },
   {
    "duration": 11,
    "start_time": "2024-03-20T11:11:25.256Z"
   },
   {
    "duration": 8,
    "start_time": "2024-03-20T11:14:59.171Z"
   },
   {
    "duration": 3123,
    "start_time": "2024-03-20T11:16:45.077Z"
   },
   {
    "duration": 623,
    "start_time": "2024-03-20T11:17:22.869Z"
   },
   {
    "duration": 877,
    "start_time": "2024-03-20T11:17:29.536Z"
   },
   {
    "duration": 2603,
    "start_time": "2024-03-20T11:18:31.872Z"
   },
   {
    "duration": 2616,
    "start_time": "2024-03-20T11:18:48.156Z"
   },
   {
    "duration": 2541,
    "start_time": "2024-03-20T11:19:06.301Z"
   },
   {
    "duration": 2573,
    "start_time": "2024-03-20T11:19:27.091Z"
   },
   {
    "duration": 3600,
    "start_time": "2024-03-21T12:13:47.414Z"
   },
   {
    "duration": 1466,
    "start_time": "2024-03-21T12:13:51.017Z"
   },
   {
    "duration": 253,
    "start_time": "2024-03-21T12:13:52.485Z"
   },
   {
    "duration": 17,
    "start_time": "2024-03-21T12:13:52.740Z"
   },
   {
    "duration": 17,
    "start_time": "2024-03-21T12:13:52.758Z"
   },
   {
    "duration": 10,
    "start_time": "2024-03-21T12:13:52.777Z"
   },
   {
    "duration": 22,
    "start_time": "2024-03-21T12:13:52.789Z"
   },
   {
    "duration": 12,
    "start_time": "2024-03-21T12:13:52.813Z"
   },
   {
    "duration": 11,
    "start_time": "2024-03-21T12:13:52.827Z"
   },
   {
    "duration": 13,
    "start_time": "2024-03-21T12:13:52.842Z"
   },
   {
    "duration": 12,
    "start_time": "2024-03-21T12:13:52.857Z"
   },
   {
    "duration": 6,
    "start_time": "2024-03-21T12:13:52.871Z"
   },
   {
    "duration": 13,
    "start_time": "2024-03-21T12:13:52.879Z"
   },
   {
    "duration": 5,
    "start_time": "2024-03-21T12:13:52.914Z"
   },
   {
    "duration": 7,
    "start_time": "2024-03-21T12:13:52.921Z"
   },
   {
    "duration": 6,
    "start_time": "2024-03-21T12:13:52.931Z"
   },
   {
    "duration": 4,
    "start_time": "2024-03-21T12:13:52.939Z"
   },
   {
    "duration": 5,
    "start_time": "2024-03-21T12:13:52.945Z"
   },
   {
    "duration": 16,
    "start_time": "2024-03-21T12:13:52.952Z"
   },
   {
    "duration": 5,
    "start_time": "2024-03-21T12:13:52.970Z"
   },
   {
    "duration": 38,
    "start_time": "2024-03-21T12:13:52.977Z"
   },
   {
    "duration": 5,
    "start_time": "2024-03-21T12:13:53.017Z"
   },
   {
    "duration": 5,
    "start_time": "2024-03-21T12:13:53.024Z"
   },
   {
    "duration": 21,
    "start_time": "2024-03-21T12:13:53.030Z"
   },
   {
    "duration": 5,
    "start_time": "2024-03-21T12:13:53.052Z"
   },
   {
    "duration": 5,
    "start_time": "2024-03-21T12:13:53.059Z"
   },
   {
    "duration": 7,
    "start_time": "2024-03-21T12:13:53.065Z"
   },
   {
    "duration": 40,
    "start_time": "2024-03-21T12:13:53.076Z"
   },
   {
    "duration": 15,
    "start_time": "2024-03-21T12:13:53.118Z"
   },
   {
    "duration": 10,
    "start_time": "2024-03-21T12:13:53.134Z"
   },
   {
    "duration": 11,
    "start_time": "2024-03-21T12:13:53.145Z"
   },
   {
    "duration": 369,
    "start_time": "2024-03-21T12:13:53.157Z"
   },
   {
    "duration": 33,
    "start_time": "2024-03-21T12:13:53.528Z"
   },
   {
    "duration": 5,
    "start_time": "2024-03-21T12:13:53.563Z"
   },
   {
    "duration": 344,
    "start_time": "2024-03-21T12:13:53.570Z"
   },
   {
    "duration": 340,
    "start_time": "2024-03-21T12:13:53.915Z"
   },
   {
    "duration": 16,
    "start_time": "2024-03-21T12:13:54.256Z"
   },
   {
    "duration": 424,
    "start_time": "2024-03-21T12:13:54.274Z"
   },
   {
    "duration": 15,
    "start_time": "2024-03-21T12:13:54.700Z"
   },
   {
    "duration": 8,
    "start_time": "2024-03-21T12:13:54.717Z"
   },
   {
    "duration": 14,
    "start_time": "2024-03-21T12:13:54.727Z"
   },
   {
    "duration": 18,
    "start_time": "2024-03-21T12:13:54.743Z"
   },
   {
    "duration": 6,
    "start_time": "2024-03-21T12:13:54.763Z"
   },
   {
    "duration": 371,
    "start_time": "2024-03-21T12:13:54.772Z"
   },
   {
    "duration": 15,
    "start_time": "2024-03-21T12:13:55.144Z"
   },
   {
    "duration": 20,
    "start_time": "2024-03-21T12:13:55.160Z"
   },
   {
    "duration": 34,
    "start_time": "2024-03-21T12:13:55.182Z"
   },
   {
    "duration": 324,
    "start_time": "2024-03-21T12:13:55.217Z"
   },
   {
    "duration": 13,
    "start_time": "2024-03-21T12:13:55.542Z"
   },
   {
    "duration": 157,
    "start_time": "2024-03-21T12:13:55.557Z"
   },
   {
    "duration": 134,
    "start_time": "2024-03-21T12:13:55.716Z"
   },
   {
    "duration": 142,
    "start_time": "2024-03-21T12:13:55.852Z"
   },
   {
    "duration": 157,
    "start_time": "2024-03-21T12:13:55.995Z"
   },
   {
    "duration": 179,
    "start_time": "2024-03-21T12:13:56.154Z"
   },
   {
    "duration": 158,
    "start_time": "2024-03-21T12:13:56.335Z"
   },
   {
    "duration": 257,
    "start_time": "2024-03-21T12:13:56.494Z"
   },
   {
    "duration": 166,
    "start_time": "2024-03-21T12:13:56.753Z"
   },
   {
    "duration": 223,
    "start_time": "2024-03-21T12:13:56.920Z"
   },
   {
    "duration": 209,
    "start_time": "2024-03-21T12:13:57.145Z"
   },
   {
    "duration": 8,
    "start_time": "2024-03-21T12:13:57.356Z"
   },
   {
    "duration": 13,
    "start_time": "2024-03-21T12:13:57.366Z"
   },
   {
    "duration": 4,
    "start_time": "2024-03-21T12:13:57.381Z"
   },
   {
    "duration": 30,
    "start_time": "2024-03-21T12:13:57.387Z"
   },
   {
    "duration": 17,
    "start_time": "2024-03-21T12:13:57.419Z"
   },
   {
    "duration": 8,
    "start_time": "2024-03-21T12:13:57.438Z"
   },
   {
    "duration": 15,
    "start_time": "2024-03-21T12:13:57.448Z"
   },
   {
    "duration": 9,
    "start_time": "2024-03-21T12:13:57.465Z"
   },
   {
    "duration": 5,
    "start_time": "2024-03-21T12:13:57.476Z"
   },
   {
    "duration": 35,
    "start_time": "2024-03-21T12:13:57.484Z"
   },
   {
    "duration": 8,
    "start_time": "2024-03-21T12:13:57.521Z"
   },
   {
    "duration": 7,
    "start_time": "2024-03-21T12:13:57.531Z"
   },
   {
    "duration": 21,
    "start_time": "2024-03-21T12:13:57.539Z"
   },
   {
    "duration": 27,
    "start_time": "2024-03-21T12:13:57.562Z"
   },
   {
    "duration": 1016,
    "start_time": "2024-03-21T12:13:57.591Z"
   },
   {
    "duration": 3018,
    "start_time": "2024-03-21T12:13:58.609Z"
   },
   {
    "duration": 322,
    "start_time": "2024-03-21T12:17:20.961Z"
   },
   {
    "duration": 2,
    "start_time": "2024-03-21T12:18:23.556Z"
   },
   {
    "duration": 9,
    "start_time": "2024-03-21T12:20:11.214Z"
   },
   {
    "duration": 13,
    "start_time": "2024-03-21T12:21:42.880Z"
   },
   {
    "duration": 15,
    "start_time": "2024-03-21T12:23:23.736Z"
   },
   {
    "duration": 3,
    "start_time": "2024-03-21T12:25:17.733Z"
   },
   {
    "duration": 4,
    "start_time": "2024-03-21T12:30:25.809Z"
   },
   {
    "duration": 4,
    "start_time": "2024-03-21T12:35:36.981Z"
   },
   {
    "duration": 5,
    "start_time": "2024-03-21T12:38:34.816Z"
   },
   {
    "duration": 8603,
    "start_time": "2024-03-21T12:39:25.086Z"
   },
   {
    "duration": 8,
    "start_time": "2024-03-21T12:43:05.482Z"
   },
   {
    "duration": 18,
    "start_time": "2024-03-21T12:43:12.346Z"
   },
   {
    "duration": 3,
    "start_time": "2024-03-21T12:43:22.346Z"
   },
   {
    "duration": 7,
    "start_time": "2024-03-21T12:43:24.172Z"
   },
   {
    "duration": 6,
    "start_time": "2024-03-21T12:43:25.781Z"
   },
   {
    "duration": 419,
    "start_time": "2024-03-21T12:43:27.482Z"
   },
   {
    "duration": 3622,
    "start_time": "2024-03-21T15:25:26.139Z"
   },
   {
    "duration": 1760,
    "start_time": "2024-03-21T15:25:29.764Z"
   },
   {
    "duration": 322,
    "start_time": "2024-03-21T15:25:31.526Z"
   },
   {
    "duration": 18,
    "start_time": "2024-03-21T15:25:31.849Z"
   },
   {
    "duration": 67,
    "start_time": "2024-03-21T15:25:31.869Z"
   },
   {
    "duration": 48,
    "start_time": "2024-03-21T15:25:31.938Z"
   },
   {
    "duration": 40,
    "start_time": "2024-03-21T15:25:31.987Z"
   },
   {
    "duration": 30,
    "start_time": "2024-03-21T15:25:32.028Z"
   },
   {
    "duration": 28,
    "start_time": "2024-03-21T15:25:32.060Z"
   },
   {
    "duration": 23,
    "start_time": "2024-03-21T15:25:32.089Z"
   },
   {
    "duration": 21,
    "start_time": "2024-03-21T15:25:32.114Z"
   },
   {
    "duration": 26,
    "start_time": "2024-03-21T15:25:32.137Z"
   },
   {
    "duration": 8,
    "start_time": "2024-03-21T15:25:32.165Z"
   },
   {
    "duration": 5,
    "start_time": "2024-03-21T15:25:32.177Z"
   },
   {
    "duration": 18,
    "start_time": "2024-03-21T15:25:32.184Z"
   },
   {
    "duration": 11,
    "start_time": "2024-03-21T15:25:32.203Z"
   },
   {
    "duration": 7,
    "start_time": "2024-03-21T15:25:32.216Z"
   },
   {
    "duration": 24,
    "start_time": "2024-03-21T15:25:32.225Z"
   },
   {
    "duration": 10,
    "start_time": "2024-03-21T15:25:32.250Z"
   },
   {
    "duration": 10,
    "start_time": "2024-03-21T15:25:32.262Z"
   },
   {
    "duration": 7,
    "start_time": "2024-03-21T15:25:32.274Z"
   },
   {
    "duration": 6,
    "start_time": "2024-03-21T15:25:32.283Z"
   },
   {
    "duration": 32,
    "start_time": "2024-03-21T15:25:32.291Z"
   },
   {
    "duration": 17,
    "start_time": "2024-03-21T15:25:32.325Z"
   },
   {
    "duration": 32,
    "start_time": "2024-03-21T15:25:32.343Z"
   },
   {
    "duration": 31,
    "start_time": "2024-03-21T15:25:32.377Z"
   },
   {
    "duration": 8,
    "start_time": "2024-03-21T15:25:32.409Z"
   },
   {
    "duration": 7,
    "start_time": "2024-03-21T15:25:32.418Z"
   },
   {
    "duration": 21,
    "start_time": "2024-03-21T15:25:32.426Z"
   },
   {
    "duration": 8,
    "start_time": "2024-03-21T15:25:32.449Z"
   },
   {
    "duration": 11,
    "start_time": "2024-03-21T15:25:32.458Z"
   },
   {
    "duration": 342,
    "start_time": "2024-03-21T15:25:32.471Z"
   },
   {
    "duration": 35,
    "start_time": "2024-03-21T15:25:32.815Z"
   },
   {
    "duration": 5,
    "start_time": "2024-03-21T15:25:32.851Z"
   },
   {
    "duration": 423,
    "start_time": "2024-03-21T15:25:32.858Z"
   },
   {
    "duration": 361,
    "start_time": "2024-03-21T15:25:33.282Z"
   },
   {
    "duration": 16,
    "start_time": "2024-03-21T15:25:33.644Z"
   },
   {
    "duration": 338,
    "start_time": "2024-03-21T15:25:33.662Z"
   },
   {
    "duration": 13,
    "start_time": "2024-03-21T15:25:34.001Z"
   },
   {
    "duration": 11,
    "start_time": "2024-03-21T15:25:34.016Z"
   },
   {
    "duration": 16,
    "start_time": "2024-03-21T15:25:34.033Z"
   },
   {
    "duration": 36,
    "start_time": "2024-03-21T15:25:34.050Z"
   },
   {
    "duration": 21,
    "start_time": "2024-03-21T15:25:34.087Z"
   },
   {
    "duration": 363,
    "start_time": "2024-03-21T15:25:34.110Z"
   },
   {
    "duration": 15,
    "start_time": "2024-03-21T15:25:34.474Z"
   },
   {
    "duration": 24,
    "start_time": "2024-03-21T15:25:34.490Z"
   },
   {
    "duration": 16,
    "start_time": "2024-03-21T15:25:34.515Z"
   },
   {
    "duration": 343,
    "start_time": "2024-03-21T15:25:34.532Z"
   },
   {
    "duration": 13,
    "start_time": "2024-03-21T15:25:34.876Z"
   },
   {
    "duration": 157,
    "start_time": "2024-03-21T15:25:34.891Z"
   },
   {
    "duration": 137,
    "start_time": "2024-03-21T15:25:35.050Z"
   },
   {
    "duration": 234,
    "start_time": "2024-03-21T15:25:35.189Z"
   },
   {
    "duration": 152,
    "start_time": "2024-03-21T15:25:35.425Z"
   },
   {
    "duration": 178,
    "start_time": "2024-03-21T15:25:35.579Z"
   },
   {
    "duration": 157,
    "start_time": "2024-03-21T15:25:35.758Z"
   },
   {
    "duration": 178,
    "start_time": "2024-03-21T15:25:35.917Z"
   },
   {
    "duration": 179,
    "start_time": "2024-03-21T15:25:36.096Z"
   },
   {
    "duration": 229,
    "start_time": "2024-03-21T15:25:36.277Z"
   },
   {
    "duration": 207,
    "start_time": "2024-03-21T15:25:36.507Z"
   },
   {
    "duration": 8,
    "start_time": "2024-03-21T15:25:36.716Z"
   },
   {
    "duration": 13,
    "start_time": "2024-03-21T15:25:36.725Z"
   },
   {
    "duration": 3,
    "start_time": "2024-03-21T15:25:36.739Z"
   },
   {
    "duration": 9,
    "start_time": "2024-03-21T15:25:36.744Z"
   },
   {
    "duration": 27,
    "start_time": "2024-03-21T15:25:36.754Z"
   },
   {
    "duration": 18,
    "start_time": "2024-03-21T15:25:36.782Z"
   },
   {
    "duration": 18,
    "start_time": "2024-03-21T15:25:36.802Z"
   },
   {
    "duration": 9,
    "start_time": "2024-03-21T15:25:36.822Z"
   },
   {
    "duration": 5,
    "start_time": "2024-03-21T15:25:36.832Z"
   },
   {
    "duration": 10,
    "start_time": "2024-03-21T15:25:36.839Z"
   },
   {
    "duration": 22,
    "start_time": "2024-03-21T15:25:36.851Z"
   },
   {
    "duration": 7,
    "start_time": "2024-03-21T15:25:36.874Z"
   },
   {
    "duration": 15,
    "start_time": "2024-03-21T15:25:36.882Z"
   },
   {
    "duration": 14,
    "start_time": "2024-03-21T15:25:36.899Z"
   },
   {
    "duration": 1029,
    "start_time": "2024-03-21T15:25:36.915Z"
   },
   {
    "duration": 3031,
    "start_time": "2024-03-21T15:25:37.946Z"
   },
   {
    "duration": 2,
    "start_time": "2024-03-21T15:25:40.979Z"
   },
   {
    "duration": 13,
    "start_time": "2024-03-21T15:25:40.983Z"
   },
   {
    "duration": 12,
    "start_time": "2024-03-21T15:25:40.997Z"
   },
   {
    "duration": 22,
    "start_time": "2024-03-21T15:25:41.011Z"
   },
   {
    "duration": 12,
    "start_time": "2024-03-21T15:25:41.035Z"
   },
   {
    "duration": 6,
    "start_time": "2024-03-21T15:25:41.049Z"
   },
   {
    "duration": 4,
    "start_time": "2024-03-21T15:26:07.076Z"
   },
   {
    "duration": 3454,
    "start_time": "2024-03-21T15:26:11.145Z"
   },
   {
    "duration": 6,
    "start_time": "2024-03-21T15:30:44.535Z"
   },
   {
    "duration": 10,
    "start_time": "2024-03-21T15:32:42.442Z"
   },
   {
    "duration": 4,
    "start_time": "2024-03-21T15:33:02.982Z"
   },
   {
    "duration": 4,
    "start_time": "2024-03-21T15:33:09.764Z"
   },
   {
    "duration": 14,
    "start_time": "2024-03-21T15:33:23.214Z"
   },
   {
    "duration": 8,
    "start_time": "2024-03-21T15:33:35.510Z"
   },
   {
    "duration": 5,
    "start_time": "2024-03-21T15:33:42.764Z"
   },
   {
    "duration": 5,
    "start_time": "2024-03-21T15:34:27.300Z"
   },
   {
    "duration": 6,
    "start_time": "2024-03-21T15:34:40.356Z"
   },
   {
    "duration": 6,
    "start_time": "2024-03-21T15:34:47.024Z"
   },
   {
    "duration": 17,
    "start_time": "2024-03-21T15:35:17.546Z"
   },
   {
    "duration": 17,
    "start_time": "2024-03-21T15:35:18.569Z"
   },
   {
    "duration": 3,
    "start_time": "2024-03-21T15:35:19.833Z"
   },
   {
    "duration": 4,
    "start_time": "2024-03-21T15:35:20.730Z"
   },
   {
    "duration": 3303,
    "start_time": "2024-03-21T15:35:21.671Z"
   },
   {
    "duration": 3,
    "start_time": "2024-03-21T15:39:06.887Z"
   },
   {
    "duration": 3581,
    "start_time": "2024-03-21T15:39:15.594Z"
   },
   {
    "duration": 14,
    "start_time": "2024-03-21T15:43:03.577Z"
   },
   {
    "duration": 11,
    "start_time": "2024-03-21T15:43:38.701Z"
   },
   {
    "duration": 5,
    "start_time": "2024-03-21T15:43:49.157Z"
   },
   {
    "duration": 4978,
    "start_time": "2024-03-21T15:43:53.804Z"
   },
   {
    "duration": 3522,
    "start_time": "2024-03-21T19:40:06.716Z"
   },
   {
    "duration": 1725,
    "start_time": "2024-03-21T19:40:10.240Z"
   },
   {
    "duration": 3,
    "start_time": "2024-03-21T19:40:11.966Z"
   },
   {
    "duration": 308,
    "start_time": "2024-03-21T19:40:11.970Z"
   },
   {
    "duration": 17,
    "start_time": "2024-03-21T19:40:12.281Z"
   },
   {
    "duration": 20,
    "start_time": "2024-03-21T19:40:12.300Z"
   },
   {
    "duration": 11,
    "start_time": "2024-03-21T19:40:12.322Z"
   },
   {
    "duration": 10,
    "start_time": "2024-03-21T19:40:12.335Z"
   },
   {
    "duration": 24,
    "start_time": "2024-03-21T19:40:12.347Z"
   },
   {
    "duration": 14,
    "start_time": "2024-03-21T19:40:12.372Z"
   },
   {
    "duration": 33,
    "start_time": "2024-03-21T19:40:12.388Z"
   },
   {
    "duration": 12,
    "start_time": "2024-03-21T19:40:12.422Z"
   },
   {
    "duration": 12,
    "start_time": "2024-03-21T19:40:12.436Z"
   },
   {
    "duration": 15,
    "start_time": "2024-03-21T19:40:12.451Z"
   },
   {
    "duration": 12,
    "start_time": "2024-03-21T19:40:12.467Z"
   },
   {
    "duration": 37,
    "start_time": "2024-03-21T19:40:12.481Z"
   },
   {
    "duration": 9,
    "start_time": "2024-03-21T19:40:12.520Z"
   },
   {
    "duration": 5,
    "start_time": "2024-03-21T19:40:12.531Z"
   },
   {
    "duration": 18,
    "start_time": "2024-03-21T19:40:12.537Z"
   },
   {
    "duration": 15,
    "start_time": "2024-03-21T19:40:12.557Z"
   },
   {
    "duration": 17,
    "start_time": "2024-03-21T19:40:12.574Z"
   },
   {
    "duration": 24,
    "start_time": "2024-03-21T19:40:12.593Z"
   },
   {
    "duration": 8,
    "start_time": "2024-03-21T19:40:12.618Z"
   },
   {
    "duration": 7,
    "start_time": "2024-03-21T19:40:12.628Z"
   },
   {
    "duration": 6,
    "start_time": "2024-03-21T19:40:12.637Z"
   },
   {
    "duration": 7,
    "start_time": "2024-03-21T19:40:12.644Z"
   },
   {
    "duration": 19,
    "start_time": "2024-03-21T19:40:12.653Z"
   },
   {
    "duration": 11,
    "start_time": "2024-03-21T19:40:12.673Z"
   },
   {
    "duration": 16,
    "start_time": "2024-03-21T19:40:12.686Z"
   },
   {
    "duration": 9,
    "start_time": "2024-03-21T19:40:12.704Z"
   },
   {
    "duration": 10,
    "start_time": "2024-03-21T19:40:12.714Z"
   },
   {
    "duration": 13,
    "start_time": "2024-03-21T19:40:12.726Z"
   },
   {
    "duration": 348,
    "start_time": "2024-03-21T19:40:12.741Z"
   },
   {
    "duration": 32,
    "start_time": "2024-03-21T19:40:13.091Z"
   },
   {
    "duration": 5,
    "start_time": "2024-03-21T19:40:13.125Z"
   },
   {
    "duration": 392,
    "start_time": "2024-03-21T19:40:13.131Z"
   },
   {
    "duration": 331,
    "start_time": "2024-03-21T19:40:13.524Z"
   },
   {
    "duration": 25,
    "start_time": "2024-03-21T19:40:13.857Z"
   },
   {
    "duration": 328,
    "start_time": "2024-03-21T19:40:13.884Z"
   },
   {
    "duration": 10,
    "start_time": "2024-03-21T19:40:14.214Z"
   },
   {
    "duration": 8,
    "start_time": "2024-03-21T19:40:14.229Z"
   },
   {
    "duration": 34,
    "start_time": "2024-03-21T19:40:14.238Z"
   },
   {
    "duration": 13,
    "start_time": "2024-03-21T19:40:14.273Z"
   },
   {
    "duration": 15,
    "start_time": "2024-03-21T19:40:14.288Z"
   },
   {
    "duration": 331,
    "start_time": "2024-03-21T19:40:14.305Z"
   },
   {
    "duration": 15,
    "start_time": "2024-03-21T19:40:14.638Z"
   },
   {
    "duration": 28,
    "start_time": "2024-03-21T19:40:14.655Z"
   },
   {
    "duration": 15,
    "start_time": "2024-03-21T19:40:14.685Z"
   },
   {
    "duration": 335,
    "start_time": "2024-03-21T19:40:14.702Z"
   },
   {
    "duration": 13,
    "start_time": "2024-03-21T19:40:15.038Z"
   },
   {
    "duration": 166,
    "start_time": "2024-03-21T19:40:15.053Z"
   },
   {
    "duration": 128,
    "start_time": "2024-03-21T19:40:15.220Z"
   },
   {
    "duration": 240,
    "start_time": "2024-03-21T19:40:15.350Z"
   },
   {
    "duration": 145,
    "start_time": "2024-03-21T19:40:15.592Z"
   },
   {
    "duration": 174,
    "start_time": "2024-03-21T19:40:15.739Z"
   },
   {
    "duration": 161,
    "start_time": "2024-03-21T19:40:15.915Z"
   },
   {
    "duration": 188,
    "start_time": "2024-03-21T19:40:16.078Z"
   },
   {
    "duration": 160,
    "start_time": "2024-03-21T19:40:16.269Z"
   },
   {
    "duration": 229,
    "start_time": "2024-03-21T19:40:16.431Z"
   },
   {
    "duration": 212,
    "start_time": "2024-03-21T19:40:16.662Z"
   },
   {
    "duration": 8,
    "start_time": "2024-03-21T19:40:16.876Z"
   },
   {
    "duration": 19,
    "start_time": "2024-03-21T19:40:16.885Z"
   },
   {
    "duration": 3,
    "start_time": "2024-03-21T19:40:16.905Z"
   },
   {
    "duration": 8,
    "start_time": "2024-03-21T19:40:16.910Z"
   },
   {
    "duration": 12,
    "start_time": "2024-03-21T19:40:16.919Z"
   },
   {
    "duration": 14,
    "start_time": "2024-03-21T19:40:16.933Z"
   },
   {
    "duration": 13,
    "start_time": "2024-03-21T19:40:16.969Z"
   },
   {
    "duration": 8,
    "start_time": "2024-03-21T19:40:16.984Z"
   },
   {
    "duration": 5,
    "start_time": "2024-03-21T19:40:16.993Z"
   },
   {
    "duration": 9,
    "start_time": "2024-03-21T19:40:17.000Z"
   },
   {
    "duration": 8,
    "start_time": "2024-03-21T19:40:17.011Z"
   },
   {
    "duration": 6,
    "start_time": "2024-03-21T19:40:17.021Z"
   },
   {
    "duration": 45,
    "start_time": "2024-03-21T19:40:17.029Z"
   },
   {
    "duration": 13,
    "start_time": "2024-03-21T19:40:17.077Z"
   },
   {
    "duration": 1009,
    "start_time": "2024-03-21T19:40:17.092Z"
   },
   {
    "duration": 3018,
    "start_time": "2024-03-21T19:40:18.103Z"
   },
   {
    "duration": 3,
    "start_time": "2024-03-21T19:40:21.122Z"
   },
   {
    "duration": 22,
    "start_time": "2024-03-21T19:40:21.126Z"
   },
   {
    "duration": 29,
    "start_time": "2024-03-21T19:40:21.149Z"
   },
   {
    "duration": 3,
    "start_time": "2024-03-21T19:40:21.180Z"
   },
   {
    "duration": 22,
    "start_time": "2024-03-21T19:40:21.185Z"
   },
   {
    "duration": 10,
    "start_time": "2024-03-21T19:40:21.208Z"
   },
   {
    "duration": 12,
    "start_time": "2024-03-21T19:40:21.219Z"
   },
   {
    "duration": 17,
    "start_time": "2024-03-21T19:40:21.233Z"
   },
   {
    "duration": 17,
    "start_time": "2024-03-21T19:40:21.252Z"
   },
   {
    "duration": 25,
    "start_time": "2024-03-21T19:40:21.271Z"
   },
   {
    "duration": 5323,
    "start_time": "2024-03-21T20:37:07.447Z"
   },
   {
    "duration": 15,
    "start_time": "2024-03-21T20:38:08.532Z"
   },
   {
    "duration": 31,
    "start_time": "2024-03-21T20:38:51.265Z"
   },
   {
    "duration": 112,
    "start_time": "2024-03-21T20:40:27.231Z"
   },
   {
    "duration": 15,
    "start_time": "2024-03-21T20:40:45.045Z"
   },
   {
    "duration": 3,
    "start_time": "2024-03-21T21:15:09.145Z"
   },
   {
    "duration": 6801,
    "start_time": "2024-03-21T21:17:38.112Z"
   },
   {
    "duration": 429,
    "start_time": "2024-03-21T21:18:19.056Z"
   },
   {
    "duration": 42,
    "start_time": "2024-03-21T21:43:43.158Z"
   },
   {
    "duration": 9,
    "start_time": "2024-03-21T21:48:33.802Z"
   },
   {
    "duration": 19,
    "start_time": "2024-03-21T21:53:53.011Z"
   },
   {
    "duration": 18,
    "start_time": "2024-03-21T21:54:19.117Z"
   },
   {
    "duration": 13,
    "start_time": "2024-03-21T21:56:32.692Z"
   },
   {
    "duration": 8,
    "start_time": "2024-03-21T21:59:24.327Z"
   },
   {
    "duration": 9,
    "start_time": "2024-03-21T21:59:50.116Z"
   },
   {
    "duration": 7845,
    "start_time": "2024-03-22T11:44:24.865Z"
   },
   {
    "duration": 2021,
    "start_time": "2024-03-22T11:44:32.713Z"
   },
   {
    "duration": 4,
    "start_time": "2024-03-22T11:44:34.735Z"
   },
   {
    "duration": 339,
    "start_time": "2024-03-22T11:44:34.742Z"
   },
   {
    "duration": 16,
    "start_time": "2024-03-22T11:44:35.083Z"
   },
   {
    "duration": 11,
    "start_time": "2024-03-22T11:44:35.101Z"
   },
   {
    "duration": 7,
    "start_time": "2024-03-22T11:44:35.114Z"
   },
   {
    "duration": 17,
    "start_time": "2024-03-22T11:44:35.123Z"
   },
   {
    "duration": 7,
    "start_time": "2024-03-22T11:44:35.141Z"
   },
   {
    "duration": 38,
    "start_time": "2024-03-22T11:44:35.152Z"
   },
   {
    "duration": 18,
    "start_time": "2024-03-22T11:44:35.192Z"
   },
   {
    "duration": 17,
    "start_time": "2024-03-22T11:44:35.212Z"
   },
   {
    "duration": 21,
    "start_time": "2024-03-22T11:44:35.231Z"
   },
   {
    "duration": 9,
    "start_time": "2024-03-22T11:44:35.254Z"
   },
   {
    "duration": 5,
    "start_time": "2024-03-22T11:44:35.265Z"
   },
   {
    "duration": 11,
    "start_time": "2024-03-22T11:44:35.271Z"
   },
   {
    "duration": 6,
    "start_time": "2024-03-22T11:44:35.283Z"
   },
   {
    "duration": 31,
    "start_time": "2024-03-22T11:44:35.290Z"
   },
   {
    "duration": 13,
    "start_time": "2024-03-22T11:44:35.323Z"
   },
   {
    "duration": 10,
    "start_time": "2024-03-22T11:44:35.338Z"
   },
   {
    "duration": 7,
    "start_time": "2024-03-22T11:44:35.349Z"
   },
   {
    "duration": 7,
    "start_time": "2024-03-22T11:44:35.357Z"
   },
   {
    "duration": 22,
    "start_time": "2024-03-22T11:44:35.366Z"
   },
   {
    "duration": 16,
    "start_time": "2024-03-22T11:44:35.389Z"
   },
   {
    "duration": 33,
    "start_time": "2024-03-22T11:44:35.406Z"
   },
   {
    "duration": 27,
    "start_time": "2024-03-22T11:44:35.441Z"
   },
   {
    "duration": 8,
    "start_time": "2024-03-22T11:44:35.469Z"
   },
   {
    "duration": 5,
    "start_time": "2024-03-22T11:44:35.481Z"
   },
   {
    "duration": 20,
    "start_time": "2024-03-22T11:44:35.487Z"
   },
   {
    "duration": 16,
    "start_time": "2024-03-22T11:44:35.509Z"
   },
   {
    "duration": 29,
    "start_time": "2024-03-22T11:44:35.527Z"
   },
   {
    "duration": 15,
    "start_time": "2024-03-22T11:44:35.557Z"
   },
   {
    "duration": 331,
    "start_time": "2024-03-22T11:44:35.574Z"
   },
   {
    "duration": 31,
    "start_time": "2024-03-22T11:44:35.906Z"
   },
   {
    "duration": 5,
    "start_time": "2024-03-22T11:44:35.939Z"
   },
   {
    "duration": 320,
    "start_time": "2024-03-22T11:44:35.945Z"
   },
   {
    "duration": 423,
    "start_time": "2024-03-22T11:44:36.266Z"
   },
   {
    "duration": 15,
    "start_time": "2024-03-22T11:44:36.691Z"
   },
   {
    "duration": 316,
    "start_time": "2024-03-22T11:44:36.708Z"
   },
   {
    "duration": 12,
    "start_time": "2024-03-22T11:44:37.026Z"
   },
   {
    "duration": 14,
    "start_time": "2024-03-22T11:44:37.039Z"
   },
   {
    "duration": 28,
    "start_time": "2024-03-22T11:44:37.055Z"
   },
   {
    "duration": 13,
    "start_time": "2024-03-22T11:44:37.085Z"
   },
   {
    "duration": 6,
    "start_time": "2024-03-22T11:44:37.099Z"
   },
   {
    "duration": 328,
    "start_time": "2024-03-22T11:44:37.106Z"
   },
   {
    "duration": 16,
    "start_time": "2024-03-22T11:44:37.435Z"
   },
   {
    "duration": 32,
    "start_time": "2024-03-22T11:44:37.453Z"
   },
   {
    "duration": 14,
    "start_time": "2024-03-22T11:44:37.487Z"
   },
   {
    "duration": 318,
    "start_time": "2024-03-22T11:44:37.503Z"
   },
   {
    "duration": 12,
    "start_time": "2024-03-22T11:44:37.823Z"
   },
   {
    "duration": 155,
    "start_time": "2024-03-22T11:44:37.836Z"
   },
   {
    "duration": 121,
    "start_time": "2024-03-22T11:44:37.992Z"
   },
   {
    "duration": 127,
    "start_time": "2024-03-22T11:44:38.114Z"
   },
   {
    "duration": 236,
    "start_time": "2024-03-22T11:44:38.243Z"
   },
   {
    "duration": 175,
    "start_time": "2024-03-22T11:44:38.481Z"
   },
   {
    "duration": 141,
    "start_time": "2024-03-22T11:44:38.657Z"
   },
   {
    "duration": 169,
    "start_time": "2024-03-22T11:44:38.800Z"
   },
   {
    "duration": 151,
    "start_time": "2024-03-22T11:44:38.970Z"
   },
   {
    "duration": 218,
    "start_time": "2024-03-22T11:44:39.122Z"
   },
   {
    "duration": 193,
    "start_time": "2024-03-22T11:44:39.341Z"
   },
   {
    "duration": 8,
    "start_time": "2024-03-22T11:44:39.535Z"
   },
   {
    "duration": 14,
    "start_time": "2024-03-22T11:44:39.545Z"
   },
   {
    "duration": 21,
    "start_time": "2024-03-22T11:44:39.560Z"
   },
   {
    "duration": 7,
    "start_time": "2024-03-22T11:44:39.583Z"
   },
   {
    "duration": 14,
    "start_time": "2024-03-22T11:44:39.592Z"
   },
   {
    "duration": 14,
    "start_time": "2024-03-22T11:44:39.607Z"
   },
   {
    "duration": 17,
    "start_time": "2024-03-22T11:44:39.623Z"
   },
   {
    "duration": 9,
    "start_time": "2024-03-22T11:44:39.641Z"
   },
   {
    "duration": 5,
    "start_time": "2024-03-22T11:44:39.652Z"
   },
   {
    "duration": 25,
    "start_time": "2024-03-22T11:44:39.658Z"
   },
   {
    "duration": 98,
    "start_time": "2024-03-22T11:44:39.685Z"
   },
   {
    "duration": 8,
    "start_time": "2024-03-22T11:44:39.784Z"
   },
   {
    "duration": 15,
    "start_time": "2024-03-22T11:44:39.793Z"
   },
   {
    "duration": 26,
    "start_time": "2024-03-22T11:44:39.810Z"
   },
   {
    "duration": 923,
    "start_time": "2024-03-22T11:44:39.837Z"
   },
   {
    "duration": 2744,
    "start_time": "2024-03-22T11:44:40.762Z"
   },
   {
    "duration": 3,
    "start_time": "2024-03-22T11:44:43.508Z"
   },
   {
    "duration": 10,
    "start_time": "2024-03-22T11:44:43.513Z"
   },
   {
    "duration": 9,
    "start_time": "2024-03-22T11:44:43.525Z"
   },
   {
    "duration": 4,
    "start_time": "2024-03-22T11:44:43.535Z"
   },
   {
    "duration": 24,
    "start_time": "2024-03-22T11:44:43.540Z"
   },
   {
    "duration": 5,
    "start_time": "2024-03-22T11:44:43.569Z"
   },
   {
    "duration": 15,
    "start_time": "2024-03-22T11:44:43.576Z"
   },
   {
    "duration": 16,
    "start_time": "2024-03-22T11:44:43.593Z"
   },
   {
    "duration": 5,
    "start_time": "2024-03-22T11:44:43.610Z"
   },
   {
    "duration": 6,
    "start_time": "2024-03-22T11:44:43.617Z"
   },
   {
    "duration": 5064,
    "start_time": "2024-03-22T11:44:43.624Z"
   },
   {
    "duration": 21,
    "start_time": "2024-03-22T11:44:48.782Z"
   },
   {
    "duration": 138,
    "start_time": "2024-03-22T11:45:17.660Z"
   },
   {
    "duration": 4,
    "start_time": "2024-03-22T11:45:52.271Z"
   },
   {
    "duration": 12,
    "start_time": "2024-03-22T11:47:22.744Z"
   },
   {
    "duration": 18,
    "start_time": "2024-03-22T11:49:05.661Z"
   },
   {
    "duration": 12,
    "start_time": "2024-03-22T11:49:35.549Z"
   },
   {
    "duration": 20,
    "start_time": "2024-03-22T11:57:13.486Z"
   },
   {
    "duration": 20,
    "start_time": "2024-03-22T12:03:04.536Z"
   },
   {
    "duration": 17,
    "start_time": "2024-03-22T12:04:19.471Z"
   },
   {
    "duration": 16,
    "start_time": "2024-03-22T12:04:45.394Z"
   },
   {
    "duration": 13,
    "start_time": "2024-03-22T12:04:53.813Z"
   },
   {
    "duration": 136,
    "start_time": "2024-03-22T12:07:13.649Z"
   },
   {
    "duration": 116,
    "start_time": "2024-03-22T12:10:44.869Z"
   },
   {
    "duration": 98,
    "start_time": "2024-03-22T12:11:09.989Z"
   },
   {
    "duration": 120,
    "start_time": "2024-03-22T12:11:20.367Z"
   },
   {
    "duration": 213,
    "start_time": "2024-03-22T12:11:29.770Z"
   },
   {
    "duration": 26,
    "start_time": "2024-03-22T12:13:14.743Z"
   },
   {
    "duration": 3,
    "start_time": "2024-03-22T12:14:51.306Z"
   },
   {
    "duration": 19,
    "start_time": "2024-03-22T12:15:17.275Z"
   },
   {
    "duration": 5072,
    "start_time": "2024-03-22T12:20:24.810Z"
   },
   {
    "duration": 21,
    "start_time": "2024-03-22T12:20:41.420Z"
   },
   {
    "duration": 29,
    "start_time": "2024-03-22T12:23:02.528Z"
   },
   {
    "duration": 29,
    "start_time": "2024-03-22T12:23:17.882Z"
   },
   {
    "duration": 30,
    "start_time": "2024-03-22T12:25:01.450Z"
   },
   {
    "duration": 9,
    "start_time": "2024-03-22T12:25:15.644Z"
   },
   {
    "duration": 12,
    "start_time": "2024-03-22T12:25:20.879Z"
   },
   {
    "duration": 23344,
    "start_time": "2024-03-22T12:28:32.811Z"
   },
   {
    "duration": 8068,
    "start_time": "2024-03-22T19:43:28.805Z"
   },
   {
    "duration": 2239,
    "start_time": "2024-03-22T19:43:36.876Z"
   },
   {
    "duration": 4,
    "start_time": "2024-03-22T19:43:39.117Z"
   },
   {
    "duration": 378,
    "start_time": "2024-03-22T19:43:39.123Z"
   },
   {
    "duration": 18,
    "start_time": "2024-03-22T19:43:39.503Z"
   },
   {
    "duration": 13,
    "start_time": "2024-03-22T19:43:39.522Z"
   },
   {
    "duration": 8,
    "start_time": "2024-03-22T19:43:39.536Z"
   },
   {
    "duration": 13,
    "start_time": "2024-03-22T19:43:39.546Z"
   },
   {
    "duration": 9,
    "start_time": "2024-03-22T19:43:39.561Z"
   },
   {
    "duration": 16,
    "start_time": "2024-03-22T19:43:39.571Z"
   },
   {
    "duration": 7,
    "start_time": "2024-03-22T19:43:39.589Z"
   },
   {
    "duration": 14,
    "start_time": "2024-03-22T19:43:39.598Z"
   },
   {
    "duration": 7,
    "start_time": "2024-03-22T19:43:39.613Z"
   },
   {
    "duration": 6,
    "start_time": "2024-03-22T19:43:39.623Z"
   },
   {
    "duration": 4,
    "start_time": "2024-03-22T19:43:39.631Z"
   },
   {
    "duration": 35,
    "start_time": "2024-03-22T19:43:39.636Z"
   },
   {
    "duration": 10,
    "start_time": "2024-03-22T19:43:39.672Z"
   },
   {
    "duration": 5,
    "start_time": "2024-03-22T19:43:39.684Z"
   },
   {
    "duration": 18,
    "start_time": "2024-03-22T19:43:39.691Z"
   },
   {
    "duration": 8,
    "start_time": "2024-03-22T19:43:39.711Z"
   },
   {
    "duration": 17,
    "start_time": "2024-03-22T19:43:39.721Z"
   },
   {
    "duration": 7,
    "start_time": "2024-03-22T19:43:39.740Z"
   },
   {
    "duration": 21,
    "start_time": "2024-03-22T19:43:39.749Z"
   },
   {
    "duration": 6,
    "start_time": "2024-03-22T19:43:39.772Z"
   },
   {
    "duration": 11,
    "start_time": "2024-03-22T19:43:39.780Z"
   },
   {
    "duration": 9,
    "start_time": "2024-03-22T19:43:39.793Z"
   },
   {
    "duration": 5,
    "start_time": "2024-03-22T19:43:39.804Z"
   },
   {
    "duration": 4,
    "start_time": "2024-03-22T19:43:39.811Z"
   },
   {
    "duration": 7,
    "start_time": "2024-03-22T19:43:39.816Z"
   },
   {
    "duration": 9,
    "start_time": "2024-03-22T19:43:39.824Z"
   },
   {
    "duration": 37,
    "start_time": "2024-03-22T19:43:39.835Z"
   },
   {
    "duration": 13,
    "start_time": "2024-03-22T19:43:39.874Z"
   },
   {
    "duration": 371,
    "start_time": "2024-03-22T19:43:39.889Z"
   },
   {
    "duration": 39,
    "start_time": "2024-03-22T19:43:40.262Z"
   },
   {
    "duration": 6,
    "start_time": "2024-03-22T19:43:40.302Z"
   },
   {
    "duration": 362,
    "start_time": "2024-03-22T19:43:40.309Z"
   },
   {
    "duration": 442,
    "start_time": "2024-03-22T19:43:40.673Z"
   },
   {
    "duration": 15,
    "start_time": "2024-03-22T19:43:41.117Z"
   },
   {
    "duration": 343,
    "start_time": "2024-03-22T19:43:41.133Z"
   },
   {
    "duration": 12,
    "start_time": "2024-03-22T19:43:41.478Z"
   },
   {
    "duration": 9,
    "start_time": "2024-03-22T19:43:41.495Z"
   },
   {
    "duration": 17,
    "start_time": "2024-03-22T19:43:41.505Z"
   },
   {
    "duration": 14,
    "start_time": "2024-03-22T19:43:41.523Z"
   },
   {
    "duration": 35,
    "start_time": "2024-03-22T19:43:41.539Z"
   },
   {
    "duration": 370,
    "start_time": "2024-03-22T19:43:41.576Z"
   },
   {
    "duration": 24,
    "start_time": "2024-03-22T19:43:41.947Z"
   },
   {
    "duration": 15,
    "start_time": "2024-03-22T19:43:41.973Z"
   },
   {
    "duration": 16,
    "start_time": "2024-03-22T19:43:41.990Z"
   },
   {
    "duration": 363,
    "start_time": "2024-03-22T19:43:42.008Z"
   },
   {
    "duration": 13,
    "start_time": "2024-03-22T19:43:42.373Z"
   },
   {
    "duration": 168,
    "start_time": "2024-03-22T19:43:42.388Z"
   },
   {
    "duration": 147,
    "start_time": "2024-03-22T19:43:42.558Z"
   },
   {
    "duration": 145,
    "start_time": "2024-03-22T19:43:42.707Z"
   },
   {
    "duration": 156,
    "start_time": "2024-03-22T19:43:42.854Z"
   },
   {
    "duration": 194,
    "start_time": "2024-03-22T19:43:43.012Z"
   },
   {
    "duration": 300,
    "start_time": "2024-03-22T19:43:43.207Z"
   },
   {
    "duration": 181,
    "start_time": "2024-03-22T19:43:43.509Z"
   },
   {
    "duration": 191,
    "start_time": "2024-03-22T19:43:43.692Z"
   },
   {
    "duration": 259,
    "start_time": "2024-03-22T19:43:43.885Z"
   },
   {
    "duration": 218,
    "start_time": "2024-03-22T19:43:44.146Z"
   },
   {
    "duration": 9,
    "start_time": "2024-03-22T19:43:44.369Z"
   },
   {
    "duration": 16,
    "start_time": "2024-03-22T19:43:44.380Z"
   },
   {
    "duration": 3,
    "start_time": "2024-03-22T19:43:44.398Z"
   },
   {
    "duration": 15,
    "start_time": "2024-03-22T19:43:44.404Z"
   },
   {
    "duration": 11,
    "start_time": "2024-03-22T19:43:44.421Z"
   },
   {
    "duration": 7,
    "start_time": "2024-03-22T19:43:44.434Z"
   },
   {
    "duration": 16,
    "start_time": "2024-03-22T19:43:44.469Z"
   },
   {
    "duration": 9,
    "start_time": "2024-03-22T19:43:44.487Z"
   },
   {
    "duration": 3,
    "start_time": "2024-03-22T19:43:44.498Z"
   },
   {
    "duration": 8,
    "start_time": "2024-03-22T19:43:44.503Z"
   },
   {
    "duration": 13,
    "start_time": "2024-03-22T19:43:44.513Z"
   },
   {
    "duration": 45,
    "start_time": "2024-03-22T19:43:44.528Z"
   },
   {
    "duration": 26,
    "start_time": "2024-03-22T19:43:44.575Z"
   },
   {
    "duration": 14,
    "start_time": "2024-03-22T19:43:44.603Z"
   },
   {
    "duration": 1114,
    "start_time": "2024-03-22T19:43:44.619Z"
   },
   {
    "duration": 3058,
    "start_time": "2024-03-22T19:43:45.735Z"
   },
   {
    "duration": 2,
    "start_time": "2024-03-22T19:43:48.795Z"
   },
   {
    "duration": 9,
    "start_time": "2024-03-22T19:43:48.799Z"
   },
   {
    "duration": 13,
    "start_time": "2024-03-22T19:43:48.810Z"
   },
   {
    "duration": 3,
    "start_time": "2024-03-22T19:43:48.825Z"
   },
   {
    "duration": 17,
    "start_time": "2024-03-22T19:43:48.830Z"
   },
   {
    "duration": 35,
    "start_time": "2024-03-22T19:43:48.849Z"
   },
   {
    "duration": 16,
    "start_time": "2024-03-22T19:43:48.886Z"
   },
   {
    "duration": 19,
    "start_time": "2024-03-22T19:43:48.904Z"
   },
   {
    "duration": 7,
    "start_time": "2024-03-22T19:43:48.925Z"
   },
   {
    "duration": 10,
    "start_time": "2024-03-22T19:43:48.934Z"
   },
   {
    "duration": 5436,
    "start_time": "2024-03-22T19:43:48.946Z"
   },
   {
    "duration": 103,
    "start_time": "2024-03-22T19:43:54.384Z"
   },
   {
    "duration": 3,
    "start_time": "2024-03-22T19:44:22.781Z"
   },
   {
    "duration": 51,
    "start_time": "2024-03-22T19:44:48.454Z"
   },
   {
    "duration": 113,
    "start_time": "2024-03-22T19:45:35.560Z"
   },
   {
    "duration": 325,
    "start_time": "2024-03-22T19:47:02.098Z"
   },
   {
    "duration": 235,
    "start_time": "2024-03-22T19:48:16.338Z"
   },
   {
    "duration": 110,
    "start_time": "2024-03-22T19:48:57.533Z"
   },
   {
    "duration": 120,
    "start_time": "2024-03-22T19:49:02.652Z"
   },
   {
    "duration": 111,
    "start_time": "2024-03-22T19:49:27.264Z"
   },
   {
    "duration": 26,
    "start_time": "2024-03-22T19:50:57.051Z"
   },
   {
    "duration": 104,
    "start_time": "2024-03-22T19:51:08.836Z"
   },
   {
    "duration": 73,
    "start_time": "2024-03-22T19:51:14.902Z"
   },
   {
    "duration": 182,
    "start_time": "2024-03-22T19:51:34.289Z"
   },
   {
    "duration": 122,
    "start_time": "2024-03-22T19:51:56.852Z"
   },
   {
    "duration": 128,
    "start_time": "2024-03-22T19:53:26.746Z"
   },
   {
    "duration": 3,
    "start_time": "2024-03-22T19:54:37.509Z"
   },
   {
    "duration": 37,
    "start_time": "2024-03-22T19:54:53.042Z"
   },
   {
    "duration": 163,
    "start_time": "2024-03-22T19:55:06.608Z"
   },
   {
    "duration": 191,
    "start_time": "2024-03-22T19:55:25.480Z"
   },
   {
    "duration": 130,
    "start_time": "2024-03-22T19:55:39.640Z"
   },
   {
    "duration": 57,
    "start_time": "2024-03-22T20:54:38.114Z"
   },
   {
    "duration": 14,
    "start_time": "2024-03-22T20:54:57.752Z"
   },
   {
    "duration": 14,
    "start_time": "2024-03-22T20:55:31.396Z"
   },
   {
    "duration": 3,
    "start_time": "2024-03-22T20:58:13.362Z"
   },
   {
    "duration": 4,
    "start_time": "2024-03-22T20:58:33.890Z"
   },
   {
    "duration": 52,
    "start_time": "2024-03-22T20:58:36.052Z"
   },
   {
    "duration": 21,
    "start_time": "2024-03-22T20:59:52.556Z"
   },
   {
    "duration": 3,
    "start_time": "2024-03-22T21:00:34.270Z"
   },
   {
    "duration": 3,
    "start_time": "2024-03-22T21:03:26.925Z"
   },
   {
    "duration": 13,
    "start_time": "2024-03-22T21:03:29.866Z"
   },
   {
    "duration": 23,
    "start_time": "2024-03-22T21:03:38.395Z"
   },
   {
    "duration": 35,
    "start_time": "2024-03-22T21:06:48.060Z"
   },
   {
    "duration": 29,
    "start_time": "2024-03-22T21:10:26.277Z"
   },
   {
    "duration": 28,
    "start_time": "2024-03-22T21:10:39.990Z"
   },
   {
    "duration": 37,
    "start_time": "2024-03-22T21:12:16.227Z"
   },
   {
    "duration": 12,
    "start_time": "2024-03-22T21:13:00.004Z"
   },
   {
    "duration": 15,
    "start_time": "2024-03-22T21:13:41.695Z"
   },
   {
    "duration": 13,
    "start_time": "2024-03-22T21:14:18.271Z"
   },
   {
    "duration": 45,
    "start_time": "2024-03-22T21:15:10.306Z"
   },
   {
    "duration": 3,
    "start_time": "2024-03-22T21:15:19.823Z"
   },
   {
    "duration": 4,
    "start_time": "2024-03-22T21:15:25.794Z"
   },
   {
    "duration": 12,
    "start_time": "2024-03-22T21:15:44.748Z"
   },
   {
    "duration": 11,
    "start_time": "2024-03-22T21:16:22.526Z"
   },
   {
    "duration": 4,
    "start_time": "2024-03-22T21:17:02.669Z"
   },
   {
    "duration": 11,
    "start_time": "2024-03-22T21:17:23.949Z"
   },
   {
    "duration": 13,
    "start_time": "2024-03-22T21:17:40.294Z"
   },
   {
    "duration": 10,
    "start_time": "2024-03-22T21:18:18.946Z"
   },
   {
    "duration": 16,
    "start_time": "2024-03-22T21:18:26.551Z"
   },
   {
    "duration": 120,
    "start_time": "2024-03-22T21:18:40.357Z"
   },
   {
    "duration": 4,
    "start_time": "2024-03-22T21:19:38.669Z"
   },
   {
    "duration": 4,
    "start_time": "2024-03-22T21:21:06.565Z"
   },
   {
    "duration": 168,
    "start_time": "2024-03-22T21:21:13.967Z"
   },
   {
    "duration": 855295,
    "start_time": "2024-03-22T21:22:12.189Z"
   },
   {
    "duration": 16,
    "start_time": "2024-03-22T21:37:04.218Z"
   },
   {
    "duration": 12,
    "start_time": "2024-03-22T21:37:20.415Z"
   },
   {
    "duration": 16,
    "start_time": "2024-03-22T21:38:35.713Z"
   },
   {
    "duration": 105,
    "start_time": "2024-03-22T21:38:51.408Z"
   },
   {
    "duration": 16,
    "start_time": "2024-03-22T21:39:00.439Z"
   },
   {
    "duration": 10,
    "start_time": "2024-03-22T21:39:21.718Z"
   },
   {
    "duration": 4,
    "start_time": "2024-03-22T21:39:39.942Z"
   },
   {
    "duration": 12,
    "start_time": "2024-03-22T21:40:08.672Z"
   },
   {
    "duration": 11,
    "start_time": "2024-03-22T21:40:25.500Z"
   },
   {
    "duration": 12,
    "start_time": "2024-03-22T21:40:38.417Z"
   },
   {
    "duration": 10,
    "start_time": "2024-03-22T21:42:25.298Z"
   },
   {
    "duration": 13,
    "start_time": "2024-03-22T21:43:35.832Z"
   },
   {
    "duration": 13,
    "start_time": "2024-03-22T21:43:52.199Z"
   },
   {
    "duration": 10,
    "start_time": "2024-03-22T21:44:08.797Z"
   },
   {
    "duration": 4,
    "start_time": "2024-03-22T21:44:26.437Z"
   },
   {
    "duration": 11,
    "start_time": "2024-03-22T21:45:51.151Z"
   },
   {
    "duration": 12,
    "start_time": "2024-03-22T21:46:04.377Z"
   },
   {
    "duration": 11,
    "start_time": "2024-03-22T21:47:40.969Z"
   },
   {
    "duration": 9507,
    "start_time": "2024-03-22T21:48:33.498Z"
   },
   {
    "duration": 12,
    "start_time": "2024-03-22T21:50:33.278Z"
   },
   {
    "duration": 16,
    "start_time": "2024-03-22T21:51:14.125Z"
   },
   {
    "duration": 3,
    "start_time": "2024-03-22T21:52:41.821Z"
   },
   {
    "duration": 11,
    "start_time": "2024-03-22T21:53:15.960Z"
   },
   {
    "duration": 15,
    "start_time": "2024-03-22T21:56:44.515Z"
   },
   {
    "duration": 12,
    "start_time": "2024-03-22T21:57:49.131Z"
   },
   {
    "duration": 15,
    "start_time": "2024-03-22T21:58:12.700Z"
   },
   {
    "duration": 17,
    "start_time": "2024-03-22T21:58:28.627Z"
   },
   {
    "duration": 15911,
    "start_time": "2024-03-22T21:58:34.936Z"
   },
   {
    "duration": 124,
    "start_time": "2024-03-22T21:58:57.610Z"
   },
   {
    "duration": 80034,
    "start_time": "2024-03-22T21:59:21.284Z"
   },
   {
    "duration": 0,
    "start_time": "2024-03-22T22:00:41.320Z"
   },
   {
    "duration": 11,
    "start_time": "2024-03-22T22:00:47.659Z"
   },
   {
    "duration": 484932,
    "start_time": "2024-03-22T22:02:22.538Z"
   },
   {
    "duration": 15,
    "start_time": "2024-03-22T22:16:34.743Z"
   },
   {
    "duration": 18,
    "start_time": "2024-03-22T22:16:54.837Z"
   },
   {
    "duration": 239,
    "start_time": "2024-03-22T22:17:29.287Z"
   },
   {
    "duration": 12,
    "start_time": "2024-03-22T22:18:04.094Z"
   },
   {
    "duration": 13,
    "start_time": "2024-03-22T22:18:36.953Z"
   },
   {
    "duration": 5,
    "start_time": "2024-03-22T22:18:43.818Z"
   },
   {
    "duration": 12,
    "start_time": "2024-03-22T22:19:11.373Z"
   },
   {
    "duration": 266,
    "start_time": "2024-03-22T22:19:49.151Z"
   },
   {
    "duration": 12,
    "start_time": "2024-03-22T22:20:05.699Z"
   },
   {
    "duration": 262,
    "start_time": "2024-03-22T22:20:28.362Z"
   },
   {
    "duration": 190,
    "start_time": "2024-03-22T22:20:44.723Z"
   },
   {
    "duration": 4,
    "start_time": "2024-03-22T22:21:12.170Z"
   },
   {
    "duration": 13,
    "start_time": "2024-03-22T22:21:34.006Z"
   },
   {
    "duration": 86782,
    "start_time": "2024-03-22T22:21:45.465Z"
   },
   {
    "duration": 7024,
    "start_time": "2024-03-25T19:35:15.567Z"
   },
   {
    "duration": 1744,
    "start_time": "2024-03-25T19:35:22.593Z"
   },
   {
    "duration": 3,
    "start_time": "2024-03-25T19:35:24.339Z"
   },
   {
    "duration": 264,
    "start_time": "2024-03-25T19:35:24.343Z"
   },
   {
    "duration": 15,
    "start_time": "2024-03-25T19:35:24.609Z"
   },
   {
    "duration": 10,
    "start_time": "2024-03-25T19:35:24.626Z"
   },
   {
    "duration": 10,
    "start_time": "2024-03-25T19:35:24.637Z"
   },
   {
    "duration": 9,
    "start_time": "2024-03-25T19:35:24.648Z"
   },
   {
    "duration": 6,
    "start_time": "2024-03-25T19:35:24.659Z"
   },
   {
    "duration": 10,
    "start_time": "2024-03-25T19:35:24.701Z"
   },
   {
    "duration": 8,
    "start_time": "2024-03-25T19:35:24.712Z"
   },
   {
    "duration": 15,
    "start_time": "2024-03-25T19:35:24.721Z"
   },
   {
    "duration": 5,
    "start_time": "2024-03-25T19:35:24.737Z"
   },
   {
    "duration": 6,
    "start_time": "2024-03-25T19:35:24.743Z"
   },
   {
    "duration": 3,
    "start_time": "2024-03-25T19:35:24.751Z"
   },
   {
    "duration": 9,
    "start_time": "2024-03-25T19:35:24.755Z"
   },
   {
    "duration": 38,
    "start_time": "2024-03-25T19:35:24.765Z"
   },
   {
    "duration": 13,
    "start_time": "2024-03-25T19:35:24.804Z"
   },
   {
    "duration": 21,
    "start_time": "2024-03-25T19:35:24.818Z"
   },
   {
    "duration": 7,
    "start_time": "2024-03-25T19:35:24.840Z"
   },
   {
    "duration": 6,
    "start_time": "2024-03-25T19:35:24.848Z"
   },
   {
    "duration": 6,
    "start_time": "2024-03-25T19:35:24.855Z"
   },
   {
    "duration": 7,
    "start_time": "2024-03-25T19:35:24.862Z"
   },
   {
    "duration": 6,
    "start_time": "2024-03-25T19:35:24.870Z"
   },
   {
    "duration": 23,
    "start_time": "2024-03-25T19:35:24.877Z"
   },
   {
    "duration": 38,
    "start_time": "2024-03-25T19:35:24.902Z"
   },
   {
    "duration": 7,
    "start_time": "2024-03-25T19:35:24.942Z"
   },
   {
    "duration": 7,
    "start_time": "2024-03-25T19:35:24.953Z"
   },
   {
    "duration": 10,
    "start_time": "2024-03-25T19:35:24.961Z"
   },
   {
    "duration": 10,
    "start_time": "2024-03-25T19:35:24.973Z"
   },
   {
    "duration": 8,
    "start_time": "2024-03-25T19:35:24.984Z"
   },
   {
    "duration": 13,
    "start_time": "2024-03-25T19:35:24.993Z"
   },
   {
    "duration": 271,
    "start_time": "2024-03-25T19:35:25.007Z"
   },
   {
    "duration": 36,
    "start_time": "2024-03-25T19:35:25.280Z"
   },
   {
    "duration": 5,
    "start_time": "2024-03-25T19:35:25.317Z"
   },
   {
    "duration": 269,
    "start_time": "2024-03-25T19:35:25.323Z"
   },
   {
    "duration": 339,
    "start_time": "2024-03-25T19:35:25.593Z"
   },
   {
    "duration": 11,
    "start_time": "2024-03-25T19:35:25.934Z"
   },
   {
    "duration": 260,
    "start_time": "2024-03-25T19:35:25.947Z"
   },
   {
    "duration": 8,
    "start_time": "2024-03-25T19:35:26.209Z"
   },
   {
    "duration": 9,
    "start_time": "2024-03-25T19:35:26.218Z"
   },
   {
    "duration": 14,
    "start_time": "2024-03-25T19:35:26.228Z"
   },
   {
    "duration": 12,
    "start_time": "2024-03-25T19:35:26.243Z"
   },
   {
    "duration": 13,
    "start_time": "2024-03-25T19:35:26.256Z"
   },
   {
    "duration": 279,
    "start_time": "2024-03-25T19:35:26.270Z"
   },
   {
    "duration": 12,
    "start_time": "2024-03-25T19:35:26.550Z"
   },
   {
    "duration": 22,
    "start_time": "2024-03-25T19:35:26.564Z"
   },
   {
    "duration": 24,
    "start_time": "2024-03-25T19:35:26.587Z"
   },
   {
    "duration": 267,
    "start_time": "2024-03-25T19:35:26.612Z"
   },
   {
    "duration": 10,
    "start_time": "2024-03-25T19:35:26.880Z"
   },
   {
    "duration": 130,
    "start_time": "2024-03-25T19:35:26.891Z"
   },
   {
    "duration": 102,
    "start_time": "2024-03-25T19:35:27.022Z"
   },
   {
    "duration": 123,
    "start_time": "2024-03-25T19:35:27.125Z"
   },
   {
    "duration": 198,
    "start_time": "2024-03-25T19:35:27.249Z"
   },
   {
    "duration": 142,
    "start_time": "2024-03-25T19:35:27.448Z"
   },
   {
    "duration": 127,
    "start_time": "2024-03-25T19:35:27.591Z"
   },
   {
    "duration": 139,
    "start_time": "2024-03-25T19:35:27.719Z"
   },
   {
    "duration": 133,
    "start_time": "2024-03-25T19:35:27.859Z"
   },
   {
    "duration": 180,
    "start_time": "2024-03-25T19:35:27.993Z"
   },
   {
    "duration": 183,
    "start_time": "2024-03-25T19:35:28.175Z"
   },
   {
    "duration": 6,
    "start_time": "2024-03-25T19:35:28.359Z"
   },
   {
    "duration": 13,
    "start_time": "2024-03-25T19:35:28.366Z"
   },
   {
    "duration": 2,
    "start_time": "2024-03-25T19:35:28.380Z"
   },
   {
    "duration": 5,
    "start_time": "2024-03-25T19:35:28.384Z"
   },
   {
    "duration": 7,
    "start_time": "2024-03-25T19:35:28.401Z"
   },
   {
    "duration": 8,
    "start_time": "2024-03-25T19:35:28.409Z"
   },
   {
    "duration": 16,
    "start_time": "2024-03-25T19:35:28.418Z"
   },
   {
    "duration": 5,
    "start_time": "2024-03-25T19:35:28.435Z"
   },
   {
    "duration": 4,
    "start_time": "2024-03-25T19:35:28.441Z"
   },
   {
    "duration": 8,
    "start_time": "2024-03-25T19:35:28.446Z"
   },
   {
    "duration": 12,
    "start_time": "2024-03-25T19:35:28.456Z"
   },
   {
    "duration": 5,
    "start_time": "2024-03-25T19:35:28.470Z"
   },
   {
    "duration": 35,
    "start_time": "2024-03-25T19:35:28.476Z"
   },
   {
    "duration": 13,
    "start_time": "2024-03-25T19:35:28.513Z"
   },
   {
    "duration": 763,
    "start_time": "2024-03-25T19:35:28.527Z"
   },
   {
    "duration": 2283,
    "start_time": "2024-03-25T19:35:29.291Z"
   },
   {
    "duration": 2,
    "start_time": "2024-03-25T19:35:31.576Z"
   },
   {
    "duration": 23,
    "start_time": "2024-03-25T19:35:31.579Z"
   },
   {
    "duration": 22,
    "start_time": "2024-03-25T19:35:31.603Z"
   },
   {
    "duration": 27,
    "start_time": "2024-03-25T19:35:31.627Z"
   },
   {
    "duration": 29,
    "start_time": "2024-03-25T19:35:31.656Z"
   },
   {
    "duration": 19,
    "start_time": "2024-03-25T19:35:31.690Z"
   },
   {
    "duration": 22,
    "start_time": "2024-03-25T19:35:31.710Z"
   },
   {
    "duration": 25,
    "start_time": "2024-03-25T19:35:31.733Z"
   },
   {
    "duration": 18,
    "start_time": "2024-03-25T19:35:31.760Z"
   },
   {
    "duration": 24,
    "start_time": "2024-03-25T19:35:31.780Z"
   },
   {
    "duration": 4804,
    "start_time": "2024-03-25T19:35:31.806Z"
   },
   {
    "duration": 107,
    "start_time": "2024-03-25T19:35:36.703Z"
   },
   {
    "duration": 29,
    "start_time": "2024-03-25T19:35:36.811Z"
   },
   {
    "duration": 615761,
    "start_time": "2024-03-25T19:35:36.841Z"
   },
   {
    "duration": 3,
    "start_time": "2024-03-25T19:45:52.604Z"
   },
   {
    "duration": 156,
    "start_time": "2024-03-25T19:45:52.608Z"
   },
   {
    "duration": 0,
    "start_time": "2024-03-25T19:45:52.765Z"
   },
   {
    "duration": 0,
    "start_time": "2024-03-25T19:45:52.766Z"
   },
   {
    "duration": 0,
    "start_time": "2024-03-25T19:45:52.767Z"
   },
   {
    "duration": 0,
    "start_time": "2024-03-25T19:45:52.768Z"
   },
   {
    "duration": 0,
    "start_time": "2024-03-25T19:45:52.769Z"
   },
   {
    "duration": 0,
    "start_time": "2024-03-25T19:45:52.769Z"
   },
   {
    "duration": 0,
    "start_time": "2024-03-25T19:45:52.770Z"
   },
   {
    "duration": 0,
    "start_time": "2024-03-25T19:45:52.771Z"
   },
   {
    "duration": 10,
    "start_time": "2024-03-25T19:46:30.185Z"
   },
   {
    "duration": 1787,
    "start_time": "2024-03-25T19:46:31.615Z"
   },
   {
    "duration": 12,
    "start_time": "2024-03-25T19:46:35.506Z"
   },
   {
    "duration": 407,
    "start_time": "2024-03-25T19:46:37.148Z"
   },
   {
    "duration": 9,
    "start_time": "2024-03-25T19:47:20.977Z"
   },
   {
    "duration": 11,
    "start_time": "2024-03-25T19:47:36.287Z"
   },
   {
    "duration": 6,
    "start_time": "2024-03-25T19:47:52.649Z"
   },
   {
    "duration": 9,
    "start_time": "2024-03-25T19:48:01.830Z"
   },
   {
    "duration": 932,
    "start_time": "2024-03-25T19:48:40.951Z"
   },
   {
    "duration": 29,
    "start_time": "2024-03-25T19:49:31.537Z"
   },
   {
    "duration": 5,
    "start_time": "2024-03-25T19:49:48.736Z"
   },
   {
    "duration": 4,
    "start_time": "2024-03-25T19:49:52.739Z"
   },
   {
    "duration": 975,
    "start_time": "2024-03-25T19:53:24.911Z"
   },
   {
    "duration": 5,
    "start_time": "2024-03-25T19:53:37.649Z"
   },
   {
    "duration": 9,
    "start_time": "2024-03-25T19:55:51.443Z"
   },
   {
    "duration": 89,
    "start_time": "2024-03-25T19:56:06.712Z"
   },
   {
    "duration": 8,
    "start_time": "2024-03-25T19:59:01.700Z"
   },
   {
    "duration": 23,
    "start_time": "2024-03-25T19:59:58.561Z"
   },
   {
    "duration": 5,
    "start_time": "2024-03-25T20:00:14.835Z"
   },
   {
    "duration": 34,
    "start_time": "2024-03-25T20:03:36.566Z"
   },
   {
    "duration": 30,
    "start_time": "2024-03-25T20:04:24.877Z"
   },
   {
    "duration": 28,
    "start_time": "2024-03-25T20:05:23.858Z"
   },
   {
    "duration": 28,
    "start_time": "2024-03-25T20:06:01.235Z"
   },
   {
    "duration": 95,
    "start_time": "2024-03-25T20:07:37.697Z"
   },
   {
    "duration": 207,
    "start_time": "2024-03-25T20:08:33.610Z"
   },
   {
    "duration": 4,
    "start_time": "2024-03-25T21:25:08.310Z"
   },
   {
    "duration": 3,
    "start_time": "2024-03-25T21:25:10.358Z"
   },
   {
    "duration": 199,
    "start_time": "2024-03-25T21:25:30.946Z"
   },
   {
    "duration": 9,
    "start_time": "2024-03-25T21:27:13.549Z"
   },
   {
    "duration": 109,
    "start_time": "2024-03-25T21:28:45.808Z"
   },
   {
    "duration": 9,
    "start_time": "2024-03-25T21:28:57.584Z"
   },
   {
    "duration": 982,
    "start_time": "2024-03-25T21:30:34.151Z"
   },
   {
    "duration": 15,
    "start_time": "2024-03-25T21:30:51.248Z"
   },
   {
    "duration": 13,
    "start_time": "2024-03-25T21:31:16.645Z"
   },
   {
    "duration": 14,
    "start_time": "2024-03-25T21:31:31.292Z"
   },
   {
    "duration": 110,
    "start_time": "2024-03-25T21:32:52.913Z"
   },
   {
    "duration": 95,
    "start_time": "2024-03-25T21:33:08.472Z"
   },
   {
    "duration": 111,
    "start_time": "2024-03-25T21:33:55.160Z"
   },
   {
    "duration": 105,
    "start_time": "2024-03-25T21:34:26.500Z"
   },
   {
    "duration": 239,
    "start_time": "2024-03-25T21:34:47.708Z"
   },
   {
    "duration": 101,
    "start_time": "2024-03-25T21:36:10.533Z"
   },
   {
    "duration": 107,
    "start_time": "2024-03-25T21:36:33.885Z"
   },
   {
    "duration": 106,
    "start_time": "2024-03-25T21:37:06.956Z"
   },
   {
    "duration": 106,
    "start_time": "2024-03-25T21:37:27.437Z"
   },
   {
    "duration": 9,
    "start_time": "2024-03-25T21:38:16.952Z"
   },
   {
    "duration": 104,
    "start_time": "2024-03-25T21:38:52.614Z"
   },
   {
    "duration": 65,
    "start_time": "2024-03-25T21:39:38.611Z"
   },
   {
    "duration": 9,
    "start_time": "2024-03-25T21:39:48.441Z"
   },
   {
    "duration": 75,
    "start_time": "2024-03-25T21:40:47.121Z"
   },
   {
    "duration": 63,
    "start_time": "2024-03-25T21:41:19.286Z"
   },
   {
    "duration": 68,
    "start_time": "2024-03-25T21:41:48.659Z"
   },
   {
    "duration": 68,
    "start_time": "2024-03-25T21:42:10.065Z"
   },
   {
    "duration": 70,
    "start_time": "2024-03-25T21:42:24.603Z"
   },
   {
    "duration": 72,
    "start_time": "2024-03-25T21:43:09.965Z"
   },
   {
    "duration": 84,
    "start_time": "2024-03-25T21:43:24.199Z"
   },
   {
    "duration": 92,
    "start_time": "2024-03-25T21:43:51.335Z"
   },
   {
    "duration": 14,
    "start_time": "2024-03-25T21:47:02.619Z"
   },
   {
    "duration": 199,
    "start_time": "2024-03-25T21:47:13.109Z"
   },
   {
    "duration": 197,
    "start_time": "2024-03-25T21:48:09.183Z"
   },
   {
    "duration": 123,
    "start_time": "2024-03-25T21:50:41.759Z"
   },
   {
    "duration": 935,
    "start_time": "2024-03-25T21:51:15.067Z"
   },
   {
    "duration": 134,
    "start_time": "2024-03-25T21:51:23.331Z"
   },
   {
    "duration": 200,
    "start_time": "2024-03-25T21:52:06.242Z"
   },
   {
    "duration": 195,
    "start_time": "2024-03-25T21:53:58.272Z"
   },
   {
    "duration": 24,
    "start_time": "2024-03-25T21:57:38.946Z"
   },
   {
    "duration": 28,
    "start_time": "2024-03-25T21:57:57.275Z"
   },
   {
    "duration": 44,
    "start_time": "2024-03-25T21:58:21.446Z"
   },
   {
    "duration": 3,
    "start_time": "2024-03-25T21:58:30.718Z"
   },
   {
    "duration": 19,
    "start_time": "2024-03-25T21:58:42.435Z"
   },
   {
    "duration": 8,
    "start_time": "2024-03-25T22:00:46.545Z"
   },
   {
    "duration": 4,
    "start_time": "2024-03-25T22:00:57.604Z"
   },
   {
    "duration": 7,
    "start_time": "2024-03-25T22:37:28.678Z"
   },
   {
    "duration": 4,
    "start_time": "2024-03-25T22:37:34.511Z"
   },
   {
    "duration": 19,
    "start_time": "2024-03-25T22:37:44.443Z"
   },
   {
    "duration": 4,
    "start_time": "2024-03-25T22:39:59.715Z"
   },
   {
    "duration": 7157,
    "start_time": "2024-03-26T06:38:42.940Z"
   },
   {
    "duration": 3537,
    "start_time": "2024-03-26T06:38:50.100Z"
   },
   {
    "duration": 3,
    "start_time": "2024-03-26T06:38:53.639Z"
   },
   {
    "duration": 287,
    "start_time": "2024-03-26T06:38:53.645Z"
   },
   {
    "duration": 23,
    "start_time": "2024-03-26T06:38:53.934Z"
   },
   {
    "duration": 17,
    "start_time": "2024-03-26T06:38:53.959Z"
   },
   {
    "duration": 11,
    "start_time": "2024-03-26T06:38:53.978Z"
   },
   {
    "duration": 21,
    "start_time": "2024-03-26T06:38:53.991Z"
   },
   {
    "duration": 42,
    "start_time": "2024-03-26T06:38:54.014Z"
   },
   {
    "duration": 23,
    "start_time": "2024-03-26T06:38:54.059Z"
   },
   {
    "duration": 13,
    "start_time": "2024-03-26T06:38:54.084Z"
   },
   {
    "duration": 11,
    "start_time": "2024-03-26T06:38:54.099Z"
   },
   {
    "duration": 8,
    "start_time": "2024-03-26T06:38:54.111Z"
   },
   {
    "duration": 7,
    "start_time": "2024-03-26T06:38:54.121Z"
   },
   {
    "duration": 5,
    "start_time": "2024-03-26T06:38:54.129Z"
   },
   {
    "duration": 17,
    "start_time": "2024-03-26T06:38:54.135Z"
   },
   {
    "duration": 10,
    "start_time": "2024-03-26T06:38:54.153Z"
   },
   {
    "duration": 15,
    "start_time": "2024-03-26T06:38:54.164Z"
   },
   {
    "duration": 11,
    "start_time": "2024-03-26T06:38:54.181Z"
   },
   {
    "duration": 13,
    "start_time": "2024-03-26T06:38:54.193Z"
   },
   {
    "duration": 19,
    "start_time": "2024-03-26T06:38:54.207Z"
   },
   {
    "duration": 7,
    "start_time": "2024-03-26T06:38:54.228Z"
   },
   {
    "duration": 6,
    "start_time": "2024-03-26T06:38:54.237Z"
   },
   {
    "duration": 6,
    "start_time": "2024-03-26T06:38:54.245Z"
   },
   {
    "duration": 15,
    "start_time": "2024-03-26T06:38:54.253Z"
   },
   {
    "duration": 31,
    "start_time": "2024-03-26T06:38:54.270Z"
   },
   {
    "duration": 14,
    "start_time": "2024-03-26T06:38:54.303Z"
   },
   {
    "duration": 8,
    "start_time": "2024-03-26T06:38:54.322Z"
   },
   {
    "duration": 14,
    "start_time": "2024-03-26T06:38:54.332Z"
   },
   {
    "duration": 8,
    "start_time": "2024-03-26T06:38:54.348Z"
   },
   {
    "duration": 19,
    "start_time": "2024-03-26T06:38:54.357Z"
   },
   {
    "duration": 25,
    "start_time": "2024-03-26T06:38:54.377Z"
   },
   {
    "duration": 390,
    "start_time": "2024-03-26T06:38:54.404Z"
   },
   {
    "duration": 49,
    "start_time": "2024-03-26T06:38:54.796Z"
   },
   {
    "duration": 6,
    "start_time": "2024-03-26T06:38:54.847Z"
   },
   {
    "duration": 333,
    "start_time": "2024-03-26T06:38:54.854Z"
   },
   {
    "duration": 426,
    "start_time": "2024-03-26T06:38:55.188Z"
   },
   {
    "duration": 15,
    "start_time": "2024-03-26T06:38:55.616Z"
   },
   {
    "duration": 377,
    "start_time": "2024-03-26T06:38:55.632Z"
   },
   {
    "duration": 11,
    "start_time": "2024-03-26T06:38:56.015Z"
   },
   {
    "duration": 9,
    "start_time": "2024-03-26T06:38:56.027Z"
   },
   {
    "duration": 16,
    "start_time": "2024-03-26T06:38:56.037Z"
   },
   {
    "duration": 12,
    "start_time": "2024-03-26T06:38:56.055Z"
   },
   {
    "duration": 6,
    "start_time": "2024-03-26T06:38:56.069Z"
   },
   {
    "duration": 353,
    "start_time": "2024-03-26T06:38:56.077Z"
   },
   {
    "duration": 15,
    "start_time": "2024-03-26T06:38:56.432Z"
   },
   {
    "duration": 14,
    "start_time": "2024-03-26T06:38:56.449Z"
   },
   {
    "duration": 16,
    "start_time": "2024-03-26T06:38:56.465Z"
   },
   {
    "duration": 358,
    "start_time": "2024-03-26T06:38:56.482Z"
   },
   {
    "duration": 17,
    "start_time": "2024-03-26T06:38:56.843Z"
   },
   {
    "duration": 161,
    "start_time": "2024-03-26T06:38:56.862Z"
   },
   {
    "duration": 122,
    "start_time": "2024-03-26T06:38:57.025Z"
   },
   {
    "duration": 160,
    "start_time": "2024-03-26T06:38:57.149Z"
   },
   {
    "duration": 139,
    "start_time": "2024-03-26T06:38:57.310Z"
   },
   {
    "duration": 185,
    "start_time": "2024-03-26T06:38:57.451Z"
   },
   {
    "duration": 269,
    "start_time": "2024-03-26T06:38:57.637Z"
   },
   {
    "duration": 170,
    "start_time": "2024-03-26T06:38:57.908Z"
   },
   {
    "duration": 180,
    "start_time": "2024-03-26T06:38:58.080Z"
   },
   {
    "duration": 225,
    "start_time": "2024-03-26T06:38:58.262Z"
   },
   {
    "duration": 215,
    "start_time": "2024-03-26T06:38:58.489Z"
   },
   {
    "duration": 13,
    "start_time": "2024-03-26T06:38:58.705Z"
   },
   {
    "duration": 15,
    "start_time": "2024-03-26T06:38:58.720Z"
   },
   {
    "duration": 3,
    "start_time": "2024-03-26T06:38:58.736Z"
   },
   {
    "duration": 6,
    "start_time": "2024-03-26T06:38:58.741Z"
   },
   {
    "duration": 9,
    "start_time": "2024-03-26T06:38:58.749Z"
   },
   {
    "duration": 7,
    "start_time": "2024-03-26T06:38:58.760Z"
   },
   {
    "duration": 51,
    "start_time": "2024-03-26T06:38:58.769Z"
   },
   {
    "duration": 8,
    "start_time": "2024-03-26T06:38:58.822Z"
   },
   {
    "duration": 4,
    "start_time": "2024-03-26T06:38:58.832Z"
   },
   {
    "duration": 8,
    "start_time": "2024-03-26T06:38:58.838Z"
   },
   {
    "duration": 9,
    "start_time": "2024-03-26T06:38:58.847Z"
   },
   {
    "duration": 7,
    "start_time": "2024-03-26T06:38:58.858Z"
   },
   {
    "duration": 51,
    "start_time": "2024-03-26T06:38:58.866Z"
   },
   {
    "duration": 17,
    "start_time": "2024-03-26T06:38:58.919Z"
   },
   {
    "duration": 994,
    "start_time": "2024-03-26T06:38:58.938Z"
   },
   {
    "duration": 2982,
    "start_time": "2024-03-26T06:38:59.933Z"
   },
   {
    "duration": 2,
    "start_time": "2024-03-26T06:39:02.917Z"
   },
   {
    "duration": 13,
    "start_time": "2024-03-26T06:39:02.922Z"
   },
   {
    "duration": 11,
    "start_time": "2024-03-26T06:39:02.936Z"
   },
   {
    "duration": 3,
    "start_time": "2024-03-26T06:39:02.949Z"
   },
   {
    "duration": 6,
    "start_time": "2024-03-26T06:39:02.953Z"
   },
   {
    "duration": 6,
    "start_time": "2024-03-26T06:39:02.964Z"
   },
   {
    "duration": 51,
    "start_time": "2024-03-26T06:39:02.971Z"
   },
   {
    "duration": 16,
    "start_time": "2024-03-26T06:39:03.023Z"
   },
   {
    "duration": 4,
    "start_time": "2024-03-26T06:39:03.040Z"
   },
   {
    "duration": 6,
    "start_time": "2024-03-26T06:39:03.046Z"
   },
   {
    "duration": 5072,
    "start_time": "2024-03-26T06:39:03.054Z"
   },
   {
    "duration": 108,
    "start_time": "2024-03-26T06:39:08.128Z"
   },
   {
    "duration": 47,
    "start_time": "2024-03-26T06:39:08.238Z"
   },
   {
    "duration": 717442,
    "start_time": "2024-03-26T06:39:08.287Z"
   },
   {
    "duration": 5,
    "start_time": "2024-03-26T06:51:05.816Z"
   },
   {
    "duration": 708,
    "start_time": "2024-03-26T06:51:05.823Z"
   },
   {
    "duration": 5,
    "start_time": "2024-03-26T06:51:06.532Z"
   },
   {
    "duration": 21,
    "start_time": "2024-03-26T06:51:06.539Z"
   },
   {
    "duration": 20,
    "start_time": "2024-03-26T06:51:06.561Z"
   },
   {
    "duration": 225,
    "start_time": "2024-03-26T06:51:06.583Z"
   },
   {
    "duration": 8,
    "start_time": "2024-03-26T06:51:06.810Z"
   },
   {
    "duration": 5,
    "start_time": "2024-03-26T06:51:06.820Z"
   },
   {
    "duration": 21,
    "start_time": "2024-03-26T06:51:06.826Z"
   },
   {
    "duration": 276,
    "start_time": "2024-03-26T06:51:06.849Z"
   },
   {
    "duration": 12,
    "start_time": "2024-03-26T06:51:07.127Z"
   },
   {
    "duration": 133,
    "start_time": "2024-03-26T06:51:07.140Z"
   },
   {
    "duration": 274,
    "start_time": "2024-03-26T06:51:07.275Z"
   },
   {
    "duration": 4,
    "start_time": "2024-03-26T06:51:07.551Z"
   },
   {
    "duration": 32,
    "start_time": "2024-03-26T06:51:07.556Z"
   },
   {
    "duration": 6800,
    "start_time": "2024-03-26T20:59:40.613Z"
   },
   {
    "duration": 3368,
    "start_time": "2024-03-26T20:59:47.415Z"
   },
   {
    "duration": 3,
    "start_time": "2024-03-26T20:59:50.784Z"
   },
   {
    "duration": 300,
    "start_time": "2024-03-26T20:59:50.788Z"
   },
   {
    "duration": 15,
    "start_time": "2024-03-26T20:59:51.090Z"
   },
   {
    "duration": 28,
    "start_time": "2024-03-26T20:59:51.106Z"
   },
   {
    "duration": 19,
    "start_time": "2024-03-26T20:59:51.136Z"
   },
   {
    "duration": 40,
    "start_time": "2024-03-26T20:59:51.156Z"
   },
   {
    "duration": 15,
    "start_time": "2024-03-26T20:59:51.197Z"
   },
   {
    "duration": 21,
    "start_time": "2024-03-26T20:59:51.213Z"
   },
   {
    "duration": 12,
    "start_time": "2024-03-26T20:59:51.235Z"
   },
   {
    "duration": 30,
    "start_time": "2024-03-26T20:59:51.248Z"
   },
   {
    "duration": 9,
    "start_time": "2024-03-26T20:59:51.279Z"
   },
   {
    "duration": 11,
    "start_time": "2024-03-26T20:59:51.290Z"
   },
   {
    "duration": 25,
    "start_time": "2024-03-26T20:59:51.302Z"
   },
   {
    "duration": 24,
    "start_time": "2024-03-26T20:59:51.328Z"
   },
   {
    "duration": 21,
    "start_time": "2024-03-26T20:59:51.353Z"
   },
   {
    "duration": 33,
    "start_time": "2024-03-26T20:59:51.375Z"
   },
   {
    "duration": 31,
    "start_time": "2024-03-26T20:59:51.410Z"
   },
   {
    "duration": 19,
    "start_time": "2024-03-26T20:59:51.442Z"
   },
   {
    "duration": 19,
    "start_time": "2024-03-26T20:59:51.462Z"
   },
   {
    "duration": 22,
    "start_time": "2024-03-26T20:59:51.482Z"
   },
   {
    "duration": 17,
    "start_time": "2024-03-26T20:59:51.505Z"
   },
   {
    "duration": 23,
    "start_time": "2024-03-26T20:59:51.523Z"
   },
   {
    "duration": 17,
    "start_time": "2024-03-26T20:59:51.547Z"
   },
   {
    "duration": 39,
    "start_time": "2024-03-26T20:59:51.565Z"
   },
   {
    "duration": 21,
    "start_time": "2024-03-26T20:59:51.605Z"
   },
   {
    "duration": 11,
    "start_time": "2024-03-26T20:59:51.628Z"
   },
   {
    "duration": 24,
    "start_time": "2024-03-26T20:59:51.640Z"
   },
   {
    "duration": 26,
    "start_time": "2024-03-26T20:59:51.665Z"
   },
   {
    "duration": 20,
    "start_time": "2024-03-26T20:59:51.692Z"
   },
   {
    "duration": 34,
    "start_time": "2024-03-26T20:59:51.713Z"
   },
   {
    "duration": 315,
    "start_time": "2024-03-26T20:59:51.748Z"
   },
   {
    "duration": 30,
    "start_time": "2024-03-26T20:59:52.065Z"
   },
   {
    "duration": 4,
    "start_time": "2024-03-26T20:59:52.096Z"
   },
   {
    "duration": 301,
    "start_time": "2024-03-26T20:59:52.101Z"
   },
   {
    "duration": 379,
    "start_time": "2024-03-26T20:59:52.404Z"
   },
   {
    "duration": 12,
    "start_time": "2024-03-26T20:59:52.785Z"
   },
   {
    "duration": 277,
    "start_time": "2024-03-26T20:59:52.798Z"
   },
   {
    "duration": 9,
    "start_time": "2024-03-26T20:59:53.077Z"
   },
   {
    "duration": 6,
    "start_time": "2024-03-26T20:59:53.090Z"
   },
   {
    "duration": 19,
    "start_time": "2024-03-26T20:59:53.098Z"
   },
   {
    "duration": 11,
    "start_time": "2024-03-26T20:59:53.119Z"
   },
   {
    "duration": 19,
    "start_time": "2024-03-26T20:59:53.131Z"
   },
   {
    "duration": 289,
    "start_time": "2024-03-26T20:59:53.152Z"
   },
   {
    "duration": 16,
    "start_time": "2024-03-26T20:59:53.442Z"
   },
   {
    "duration": 13,
    "start_time": "2024-03-26T20:59:53.460Z"
   },
   {
    "duration": 30,
    "start_time": "2024-03-26T20:59:53.474Z"
   },
   {
    "duration": 278,
    "start_time": "2024-03-26T20:59:53.505Z"
   },
   {
    "duration": 10,
    "start_time": "2024-03-26T20:59:53.785Z"
   },
   {
    "duration": 128,
    "start_time": "2024-03-26T20:59:53.796Z"
   },
   {
    "duration": 105,
    "start_time": "2024-03-26T20:59:53.926Z"
   },
   {
    "duration": 117,
    "start_time": "2024-03-26T20:59:54.032Z"
   },
   {
    "duration": 122,
    "start_time": "2024-03-26T20:59:54.151Z"
   },
   {
    "duration": 148,
    "start_time": "2024-03-26T20:59:54.275Z"
   },
   {
    "duration": 246,
    "start_time": "2024-03-26T20:59:54.425Z"
   },
   {
    "duration": 141,
    "start_time": "2024-03-26T20:59:54.673Z"
   },
   {
    "duration": 144,
    "start_time": "2024-03-26T20:59:54.815Z"
   },
   {
    "duration": 199,
    "start_time": "2024-03-26T20:59:54.961Z"
   },
   {
    "duration": 180,
    "start_time": "2024-03-26T20:59:55.161Z"
   },
   {
    "duration": 10,
    "start_time": "2024-03-26T20:59:55.342Z"
   },
   {
    "duration": 74,
    "start_time": "2024-03-26T20:59:55.354Z"
   },
   {
    "duration": 18,
    "start_time": "2024-03-26T20:59:55.429Z"
   },
   {
    "duration": 59,
    "start_time": "2024-03-26T20:59:55.448Z"
   },
   {
    "duration": 32,
    "start_time": "2024-03-26T20:59:55.509Z"
   },
   {
    "duration": 86,
    "start_time": "2024-03-26T20:59:55.542Z"
   },
   {
    "duration": 54,
    "start_time": "2024-03-26T20:59:55.629Z"
   },
   {
    "duration": 25,
    "start_time": "2024-03-26T20:59:55.685Z"
   },
   {
    "duration": 41,
    "start_time": "2024-03-26T20:59:55.711Z"
   },
   {
    "duration": 18,
    "start_time": "2024-03-26T20:59:55.753Z"
   },
   {
    "duration": 24,
    "start_time": "2024-03-26T20:59:55.772Z"
   },
   {
    "duration": 22,
    "start_time": "2024-03-26T20:59:55.797Z"
   },
   {
    "duration": 24,
    "start_time": "2024-03-26T20:59:55.820Z"
   },
   {
    "duration": 26,
    "start_time": "2024-03-26T20:59:55.845Z"
   },
   {
    "duration": 844,
    "start_time": "2024-03-26T21:02:06.022Z"
   },
   {
    "duration": 2152,
    "start_time": "2024-03-26T21:04:29.486Z"
   },
   {
    "duration": 2174,
    "start_time": "2024-03-26T21:07:31.963Z"
   },
   {
    "duration": 2023,
    "start_time": "2024-03-26T21:08:33.818Z"
   },
   {
    "duration": 2071,
    "start_time": "2024-03-26T21:10:39.662Z"
   },
   {
    "duration": 2252,
    "start_time": "2024-03-26T21:11:43.560Z"
   },
   {
    "duration": 47,
    "start_time": "2024-03-26T21:13:05.389Z"
   },
   {
    "duration": 2312,
    "start_time": "2024-03-26T21:14:58.125Z"
   },
   {
    "duration": 2374,
    "start_time": "2024-03-26T21:15:27.411Z"
   },
   {
    "duration": 2819,
    "start_time": "2024-03-26T21:18:33.571Z"
   },
   {
    "duration": 2528,
    "start_time": "2024-03-26T21:19:05.111Z"
   },
   {
    "duration": 3089,
    "start_time": "2024-03-26T21:19:25.915Z"
   },
   {
    "duration": 2396,
    "start_time": "2024-03-26T21:19:53.137Z"
   },
   {
    "duration": 3110,
    "start_time": "2024-03-26T21:21:48.542Z"
   },
   {
    "duration": 2356,
    "start_time": "2024-03-26T21:22:05.544Z"
   },
   {
    "duration": 2411,
    "start_time": "2024-03-26T21:22:39.966Z"
   },
   {
    "duration": 2393,
    "start_time": "2024-03-26T21:23:31.352Z"
   },
   {
    "duration": 3,
    "start_time": "2024-03-26T21:25:17.853Z"
   },
   {
    "duration": 6,
    "start_time": "2024-03-26T21:25:18.266Z"
   },
   {
    "duration": 9,
    "start_time": "2024-03-26T21:25:19.593Z"
   },
   {
    "duration": 3,
    "start_time": "2024-03-26T21:25:21.126Z"
   },
   {
    "duration": 4,
    "start_time": "2024-03-26T21:25:23.788Z"
   },
   {
    "duration": 6,
    "start_time": "2024-03-26T21:25:24.812Z"
   },
   {
    "duration": 4,
    "start_time": "2024-03-26T21:25:56.183Z"
   },
   {
    "duration": 146,
    "start_time": "2024-03-26T21:27:53.402Z"
   },
   {
    "duration": 13,
    "start_time": "2024-03-26T21:28:08.448Z"
   },
   {
    "duration": 24,
    "start_time": "2024-03-26T21:30:08.974Z"
   },
   {
    "duration": 4,
    "start_time": "2024-03-26T21:30:18.208Z"
   },
   {
    "duration": 15,
    "start_time": "2024-03-26T21:30:33.362Z"
   },
   {
    "duration": 3,
    "start_time": "2024-03-26T21:34:29.850Z"
   },
   {
    "duration": 5,
    "start_time": "2024-03-26T21:34:34.099Z"
   },
   {
    "duration": 15,
    "start_time": "2024-03-26T21:34:41.466Z"
   },
   {
    "duration": 4889,
    "start_time": "2024-03-26T21:34:58.361Z"
   },
   {
    "duration": 2,
    "start_time": "2024-03-26T21:37:03.491Z"
   },
   {
    "duration": 6,
    "start_time": "2024-03-26T21:37:05.641Z"
   },
   {
    "duration": 11,
    "start_time": "2024-03-26T21:37:51.212Z"
   },
   {
    "duration": 4908,
    "start_time": "2024-03-26T21:38:00.222Z"
   },
   {
    "duration": 5,
    "start_time": "2024-03-26T21:38:05.133Z"
   },
   {
    "duration": 19,
    "start_time": "2024-03-26T21:38:05.139Z"
   },
   {
    "duration": 88,
    "start_time": "2024-03-26T21:38:05.159Z"
   },
   {
    "duration": 14,
    "start_time": "2024-03-26T21:38:05.249Z"
   },
   {
    "duration": 24,
    "start_time": "2024-03-26T21:38:05.264Z"
   },
   {
    "duration": 17,
    "start_time": "2024-03-26T21:38:05.290Z"
   },
   {
    "duration": 11,
    "start_time": "2024-03-26T21:38:05.308Z"
   },
   {
    "duration": 16,
    "start_time": "2024-03-26T21:38:05.321Z"
   },
   {
    "duration": 33,
    "start_time": "2024-03-26T21:38:05.338Z"
   },
   {
    "duration": 24,
    "start_time": "2024-03-26T21:38:05.372Z"
   },
   {
    "duration": 21,
    "start_time": "2024-03-26T21:38:05.398Z"
   },
   {
    "duration": 25,
    "start_time": "2024-03-26T21:38:05.421Z"
   },
   {
    "duration": 19,
    "start_time": "2024-03-26T21:38:05.449Z"
   },
   {
    "duration": 4,
    "start_time": "2024-03-26T21:38:05.469Z"
   },
   {
    "duration": 5,
    "start_time": "2024-03-26T21:38:05.475Z"
   },
   {
    "duration": 9,
    "start_time": "2024-03-26T21:38:05.481Z"
   },
   {
    "duration": 16,
    "start_time": "2024-03-26T21:38:05.491Z"
   },
   {
    "duration": 26,
    "start_time": "2024-03-26T21:38:05.509Z"
   },
   {
    "duration": 10,
    "start_time": "2024-03-26T21:38:05.536Z"
   },
   {
    "duration": 6,
    "start_time": "2024-03-26T21:38:05.547Z"
   },
   {
    "duration": 5,
    "start_time": "2024-03-26T21:38:05.555Z"
   },
   {
    "duration": 7,
    "start_time": "2024-03-26T21:38:05.561Z"
   },
   {
    "duration": 5,
    "start_time": "2024-03-26T21:38:05.569Z"
   },
   {
    "duration": 10,
    "start_time": "2024-03-26T21:38:05.575Z"
   },
   {
    "duration": 12,
    "start_time": "2024-03-26T21:38:05.586Z"
   },
   {
    "duration": 5,
    "start_time": "2024-03-26T21:38:05.600Z"
   },
   {
    "duration": 4,
    "start_time": "2024-03-26T21:38:05.607Z"
   },
   {
    "duration": 6,
    "start_time": "2024-03-26T21:38:05.612Z"
   },
   {
    "duration": 6,
    "start_time": "2024-03-26T21:38:05.647Z"
   },
   {
    "duration": 17,
    "start_time": "2024-03-26T21:38:05.655Z"
   },
   {
    "duration": 12,
    "start_time": "2024-03-26T21:38:05.673Z"
   },
   {
    "duration": 320,
    "start_time": "2024-03-26T21:38:05.687Z"
   },
   {
    "duration": 41,
    "start_time": "2024-03-26T21:38:06.008Z"
   },
   {
    "duration": 6,
    "start_time": "2024-03-26T21:38:06.051Z"
   },
   {
    "duration": 458,
    "start_time": "2024-03-26T21:38:06.059Z"
   },
   {
    "duration": 329,
    "start_time": "2024-03-26T21:38:06.519Z"
   },
   {
    "duration": 16,
    "start_time": "2024-03-26T21:38:06.849Z"
   },
   {
    "duration": 313,
    "start_time": "2024-03-26T21:38:06.866Z"
   },
   {
    "duration": 9,
    "start_time": "2024-03-26T21:38:07.181Z"
   },
   {
    "duration": 7,
    "start_time": "2024-03-26T21:38:07.195Z"
   },
   {
    "duration": 13,
    "start_time": "2024-03-26T21:38:07.204Z"
   },
   {
    "duration": 40,
    "start_time": "2024-03-26T21:38:07.219Z"
   },
   {
    "duration": 9,
    "start_time": "2024-03-26T21:38:07.261Z"
   },
   {
    "duration": 318,
    "start_time": "2024-03-26T21:38:07.272Z"
   },
   {
    "duration": 13,
    "start_time": "2024-03-26T21:38:07.592Z"
   },
   {
    "duration": 16,
    "start_time": "2024-03-26T21:38:07.607Z"
   },
   {
    "duration": 30,
    "start_time": "2024-03-26T21:38:07.625Z"
   },
   {
    "duration": 301,
    "start_time": "2024-03-26T21:38:07.656Z"
   },
   {
    "duration": 13,
    "start_time": "2024-03-26T21:38:07.959Z"
   },
   {
    "duration": 141,
    "start_time": "2024-03-26T21:38:07.973Z"
   },
   {
    "duration": 248,
    "start_time": "2024-03-26T21:38:08.116Z"
   },
   {
    "duration": 129,
    "start_time": "2024-03-26T21:38:08.365Z"
   },
   {
    "duration": 134,
    "start_time": "2024-03-26T21:38:08.496Z"
   },
   {
    "duration": 169,
    "start_time": "2024-03-26T21:38:08.632Z"
   },
   {
    "duration": 145,
    "start_time": "2024-03-26T21:38:08.803Z"
   },
   {
    "duration": 155,
    "start_time": "2024-03-26T21:38:08.949Z"
   },
   {
    "duration": 155,
    "start_time": "2024-03-26T21:38:09.105Z"
   },
   {
    "duration": 216,
    "start_time": "2024-03-26T21:38:09.261Z"
   },
   {
    "duration": 190,
    "start_time": "2024-03-26T21:38:09.478Z"
   },
   {
    "duration": 7,
    "start_time": "2024-03-26T21:38:09.670Z"
   },
   {
    "duration": 15,
    "start_time": "2024-03-26T21:38:09.678Z"
   },
   {
    "duration": 2,
    "start_time": "2024-03-26T21:38:09.694Z"
   },
   {
    "duration": 6,
    "start_time": "2024-03-26T21:38:09.698Z"
   },
   {
    "duration": 8,
    "start_time": "2024-03-26T21:38:09.705Z"
   },
   {
    "duration": 8,
    "start_time": "2024-03-26T21:38:09.715Z"
   },
   {
    "duration": 35,
    "start_time": "2024-03-26T21:38:09.724Z"
   },
   {
    "duration": 7,
    "start_time": "2024-03-26T21:38:09.760Z"
   },
   {
    "duration": 3,
    "start_time": "2024-03-26T21:38:09.769Z"
   },
   {
    "duration": 9,
    "start_time": "2024-03-26T21:38:09.773Z"
   },
   {
    "duration": 8,
    "start_time": "2024-03-26T21:38:09.783Z"
   },
   {
    "duration": 12,
    "start_time": "2024-03-26T21:38:09.792Z"
   },
   {
    "duration": 14,
    "start_time": "2024-03-26T21:38:09.806Z"
   },
   {
    "duration": 35,
    "start_time": "2024-03-26T21:38:09.821Z"
   },
   {
    "duration": 917,
    "start_time": "2024-03-26T21:38:09.857Z"
   },
   {
    "duration": 2380,
    "start_time": "2024-03-26T21:38:10.776Z"
   },
   {
    "duration": 2376,
    "start_time": "2024-03-26T21:38:13.158Z"
   },
   {
    "duration": 2,
    "start_time": "2024-03-26T21:38:15.535Z"
   },
   {
    "duration": 26,
    "start_time": "2024-03-26T21:38:15.539Z"
   },
   {
    "duration": 4,
    "start_time": "2024-03-26T21:39:12.823Z"
   },
   {
    "duration": 9,
    "start_time": "2024-03-26T21:39:14.974Z"
   },
   {
    "duration": 3,
    "start_time": "2024-03-26T21:39:19.684Z"
   },
   {
    "duration": 5,
    "start_time": "2024-03-26T21:39:22.448Z"
   },
   {
    "duration": 5,
    "start_time": "2024-03-26T21:39:23.655Z"
   },
   {
    "duration": 3,
    "start_time": "2024-03-26T21:39:30.743Z"
   },
   {
    "duration": 11,
    "start_time": "2024-03-26T21:39:32.689Z"
   },
   {
    "duration": 14,
    "start_time": "2024-03-26T21:39:34.031Z"
   },
   {
    "duration": 14,
    "start_time": "2024-03-26T21:39:38.942Z"
   },
   {
    "duration": 3,
    "start_time": "2024-03-26T21:40:19.196Z"
   },
   {
    "duration": 3,
    "start_time": "2024-03-26T21:40:21.239Z"
   },
   {
    "duration": 4410,
    "start_time": "2024-03-26T21:40:25.252Z"
   },
   {
    "duration": 4481,
    "start_time": "2024-03-26T21:43:52.378Z"
   },
   {
    "duration": 4876,
    "start_time": "2024-03-26T21:46:51.992Z"
   },
   {
    "duration": 4,
    "start_time": "2024-03-26T21:49:46.683Z"
   },
   {
    "duration": 2,
    "start_time": "2024-03-26T21:49:57.845Z"
   },
   {
    "duration": 45,
    "start_time": "2024-03-26T21:51:09.175Z"
   },
   {
    "duration": 90,
    "start_time": "2024-03-26T21:51:25.401Z"
   },
   {
    "duration": 35,
    "start_time": "2024-03-26T21:52:00.751Z"
   },
   {
    "duration": 18,
    "start_time": "2024-03-26T21:52:21.103Z"
   },
   {
    "duration": 8031,
    "start_time": "2024-03-27T19:08:37.479Z"
   },
   {
    "duration": 2833,
    "start_time": "2024-03-27T19:08:45.513Z"
   },
   {
    "duration": 3,
    "start_time": "2024-03-27T19:08:48.348Z"
   },
   {
    "duration": 368,
    "start_time": "2024-03-27T19:08:48.352Z"
   },
   {
    "duration": 17,
    "start_time": "2024-03-27T19:08:48.722Z"
   },
   {
    "duration": 13,
    "start_time": "2024-03-27T19:08:48.741Z"
   },
   {
    "duration": 20,
    "start_time": "2024-03-27T19:08:48.755Z"
   },
   {
    "duration": 27,
    "start_time": "2024-03-27T19:08:48.777Z"
   },
   {
    "duration": 9,
    "start_time": "2024-03-27T19:08:48.806Z"
   },
   {
    "duration": 15,
    "start_time": "2024-03-27T19:08:48.816Z"
   },
   {
    "duration": 11,
    "start_time": "2024-03-27T19:08:48.833Z"
   },
   {
    "duration": 14,
    "start_time": "2024-03-27T19:08:48.846Z"
   },
   {
    "duration": 15,
    "start_time": "2024-03-27T19:08:48.862Z"
   },
   {
    "duration": 17,
    "start_time": "2024-03-27T19:08:48.883Z"
   },
   {
    "duration": 6,
    "start_time": "2024-03-27T19:08:48.902Z"
   },
   {
    "duration": 13,
    "start_time": "2024-03-27T19:08:48.909Z"
   },
   {
    "duration": 14,
    "start_time": "2024-03-27T19:08:48.924Z"
   },
   {
    "duration": 5,
    "start_time": "2024-03-27T19:08:48.940Z"
   },
   {
    "duration": 13,
    "start_time": "2024-03-27T19:08:48.947Z"
   },
   {
    "duration": 12,
    "start_time": "2024-03-27T19:08:48.962Z"
   },
   {
    "duration": 8,
    "start_time": "2024-03-27T19:08:48.976Z"
   },
   {
    "duration": 12,
    "start_time": "2024-03-27T19:08:48.985Z"
   },
   {
    "duration": 17,
    "start_time": "2024-03-27T19:08:48.998Z"
   },
   {
    "duration": 34,
    "start_time": "2024-03-27T19:08:49.017Z"
   },
   {
    "duration": 10,
    "start_time": "2024-03-27T19:08:49.053Z"
   },
   {
    "duration": 14,
    "start_time": "2024-03-27T19:08:49.065Z"
   },
   {
    "duration": 24,
    "start_time": "2024-03-27T19:08:49.081Z"
   },
   {
    "duration": 7,
    "start_time": "2024-03-27T19:08:49.107Z"
   },
   {
    "duration": 18,
    "start_time": "2024-03-27T19:08:49.116Z"
   },
   {
    "duration": 8,
    "start_time": "2024-03-27T19:08:49.136Z"
   },
   {
    "duration": 14,
    "start_time": "2024-03-27T19:08:49.146Z"
   },
   {
    "duration": 18,
    "start_time": "2024-03-27T19:08:49.162Z"
   },
   {
    "duration": 361,
    "start_time": "2024-03-27T19:08:49.182Z"
   },
   {
    "duration": 42,
    "start_time": "2024-03-27T19:08:49.545Z"
   },
   {
    "duration": 6,
    "start_time": "2024-03-27T19:08:49.589Z"
   },
   {
    "duration": 358,
    "start_time": "2024-03-27T19:08:49.596Z"
   },
   {
    "duration": 441,
    "start_time": "2024-03-27T19:08:49.955Z"
   },
   {
    "duration": 15,
    "start_time": "2024-03-27T19:08:50.398Z"
   },
   {
    "duration": 358,
    "start_time": "2024-03-27T19:08:50.415Z"
   },
   {
    "duration": 11,
    "start_time": "2024-03-27T19:08:50.774Z"
   },
   {
    "duration": 8,
    "start_time": "2024-03-27T19:08:50.790Z"
   },
   {
    "duration": 29,
    "start_time": "2024-03-27T19:08:50.800Z"
   },
   {
    "duration": 16,
    "start_time": "2024-03-27T19:08:50.831Z"
   },
   {
    "duration": 20,
    "start_time": "2024-03-27T19:08:50.848Z"
   },
   {
    "duration": 338,
    "start_time": "2024-03-27T19:08:50.870Z"
   },
   {
    "duration": 15,
    "start_time": "2024-03-27T19:08:51.210Z"
   },
   {
    "duration": 17,
    "start_time": "2024-03-27T19:08:51.227Z"
   },
   {
    "duration": 38,
    "start_time": "2024-03-27T19:08:51.246Z"
   },
   {
    "duration": 344,
    "start_time": "2024-03-27T19:08:51.286Z"
   },
   {
    "duration": 13,
    "start_time": "2024-03-27T19:08:51.632Z"
   },
   {
    "duration": 155,
    "start_time": "2024-03-27T19:08:51.647Z"
   },
   {
    "duration": 139,
    "start_time": "2024-03-27T19:08:51.804Z"
   },
   {
    "duration": 144,
    "start_time": "2024-03-27T19:08:51.945Z"
   },
   {
    "duration": 152,
    "start_time": "2024-03-27T19:08:52.090Z"
   },
   {
    "duration": 186,
    "start_time": "2024-03-27T19:08:52.243Z"
   },
   {
    "duration": 277,
    "start_time": "2024-03-27T19:08:52.431Z"
   },
   {
    "duration": 174,
    "start_time": "2024-03-27T19:08:52.709Z"
   },
   {
    "duration": 168,
    "start_time": "2024-03-27T19:08:52.884Z"
   },
   {
    "duration": 240,
    "start_time": "2024-03-27T19:08:53.054Z"
   },
   {
    "duration": 218,
    "start_time": "2024-03-27T19:08:53.296Z"
   },
   {
    "duration": 9,
    "start_time": "2024-03-27T19:08:53.516Z"
   },
   {
    "duration": 16,
    "start_time": "2024-03-27T19:08:53.526Z"
   },
   {
    "duration": 2,
    "start_time": "2024-03-27T19:08:53.544Z"
   },
   {
    "duration": 53,
    "start_time": "2024-03-27T19:08:53.548Z"
   },
   {
    "duration": 16,
    "start_time": "2024-03-27T19:08:53.603Z"
   },
   {
    "duration": 8,
    "start_time": "2024-03-27T19:08:53.621Z"
   },
   {
    "duration": 17,
    "start_time": "2024-03-27T19:08:53.631Z"
   },
   {
    "duration": 15,
    "start_time": "2024-03-27T19:08:53.650Z"
   },
   {
    "duration": 4,
    "start_time": "2024-03-27T19:08:53.667Z"
   },
   {
    "duration": 10,
    "start_time": "2024-03-27T19:08:53.672Z"
   },
   {
    "duration": 10,
    "start_time": "2024-03-27T19:08:53.684Z"
   },
   {
    "duration": 6,
    "start_time": "2024-03-27T19:08:53.695Z"
   },
   {
    "duration": 15,
    "start_time": "2024-03-27T19:08:53.702Z"
   },
   {
    "duration": 14,
    "start_time": "2024-03-27T19:08:53.719Z"
   },
   {
    "duration": 1047,
    "start_time": "2024-03-27T19:08:53.734Z"
   },
   {
    "duration": 2707,
    "start_time": "2024-03-27T19:08:54.783Z"
   },
   {
    "duration": 2677,
    "start_time": "2024-03-27T19:08:57.491Z"
   },
   {
    "duration": 2,
    "start_time": "2024-03-27T19:09:00.173Z"
   },
   {
    "duration": 72,
    "start_time": "2024-03-27T19:09:00.177Z"
   },
   {
    "duration": 58,
    "start_time": "2024-03-27T19:09:00.250Z"
   },
   {
    "duration": 39,
    "start_time": "2024-03-27T19:09:00.309Z"
   },
   {
    "duration": 47,
    "start_time": "2024-03-27T19:09:00.349Z"
   },
   {
    "duration": 78,
    "start_time": "2024-03-27T19:09:00.397Z"
   },
   {
    "duration": 39,
    "start_time": "2024-03-27T19:09:00.477Z"
   },
   {
    "duration": 33,
    "start_time": "2024-03-27T19:09:00.518Z"
   },
   {
    "duration": 37,
    "start_time": "2024-03-27T19:09:00.553Z"
   },
   {
    "duration": 163,
    "start_time": "2024-03-27T19:09:00.592Z"
   },
   {
    "duration": 48,
    "start_time": "2024-03-27T19:09:00.757Z"
   },
   {
    "duration": 38,
    "start_time": "2024-03-27T19:09:00.806Z"
   },
   {
    "duration": 4937,
    "start_time": "2024-03-27T19:09:00.845Z"
   },
   {
    "duration": 25,
    "start_time": "2024-03-27T19:09:05.785Z"
   },
   {
    "duration": 28,
    "start_time": "2024-03-27T19:14:27.427Z"
   },
   {
    "duration": 155,
    "start_time": "2024-03-27T19:15:02.332Z"
   },
   {
    "duration": 19,
    "start_time": "2024-03-27T19:15:12.585Z"
   },
   {
    "duration": 518,
    "start_time": "2024-03-27T19:16:09.008Z"
   },
   {
    "duration": 4,
    "start_time": "2024-03-27T19:16:44.241Z"
   },
   {
    "duration": 32,
    "start_time": "2024-03-27T20:43:52.291Z"
   },
   {
    "duration": 7621,
    "start_time": "2024-03-27T20:44:15.430Z"
   },
   {
    "duration": 35,
    "start_time": "2024-03-27T20:44:25.577Z"
   },
   {
    "duration": 24,
    "start_time": "2024-03-27T20:45:20.045Z"
   },
   {
    "duration": 5679,
    "start_time": "2024-03-27T20:45:49.853Z"
   },
   {
    "duration": 5,
    "start_time": "2024-03-27T20:45:55.535Z"
   },
   {
    "duration": 6,
    "start_time": "2024-03-27T20:45:55.542Z"
   },
   {
    "duration": 102,
    "start_time": "2024-03-27T20:45:55.549Z"
   },
   {
    "duration": 14,
    "start_time": "2024-03-27T20:45:55.653Z"
   },
   {
    "duration": 42,
    "start_time": "2024-03-27T20:45:55.669Z"
   },
   {
    "duration": 9,
    "start_time": "2024-03-27T20:45:55.713Z"
   },
   {
    "duration": 14,
    "start_time": "2024-03-27T20:45:55.723Z"
   },
   {
    "duration": 7,
    "start_time": "2024-03-27T20:45:55.739Z"
   },
   {
    "duration": 12,
    "start_time": "2024-03-27T20:45:55.747Z"
   },
   {
    "duration": 6,
    "start_time": "2024-03-27T20:45:55.761Z"
   },
   {
    "duration": 24,
    "start_time": "2024-03-27T20:45:55.769Z"
   },
   {
    "duration": 10,
    "start_time": "2024-03-27T20:45:55.796Z"
   },
   {
    "duration": 10,
    "start_time": "2024-03-27T20:45:55.809Z"
   },
   {
    "duration": 6,
    "start_time": "2024-03-27T20:45:55.821Z"
   },
   {
    "duration": 7,
    "start_time": "2024-03-27T20:45:55.828Z"
   },
   {
    "duration": 14,
    "start_time": "2024-03-27T20:45:55.836Z"
   },
   {
    "duration": 27,
    "start_time": "2024-03-27T20:45:55.851Z"
   },
   {
    "duration": 11,
    "start_time": "2024-03-27T20:45:55.881Z"
   },
   {
    "duration": 7,
    "start_time": "2024-03-27T20:45:55.894Z"
   },
   {
    "duration": 19,
    "start_time": "2024-03-27T20:45:55.902Z"
   },
   {
    "duration": 7,
    "start_time": "2024-03-27T20:45:55.923Z"
   },
   {
    "duration": 6,
    "start_time": "2024-03-27T20:45:55.932Z"
   },
   {
    "duration": 39,
    "start_time": "2024-03-27T20:45:55.940Z"
   },
   {
    "duration": 18,
    "start_time": "2024-03-27T20:45:55.982Z"
   },
   {
    "duration": 17,
    "start_time": "2024-03-27T20:45:56.002Z"
   },
   {
    "duration": 14,
    "start_time": "2024-03-27T20:45:56.021Z"
   },
   {
    "duration": 7,
    "start_time": "2024-03-27T20:45:56.037Z"
   },
   {
    "duration": 18,
    "start_time": "2024-03-27T20:45:56.045Z"
   },
   {
    "duration": 17,
    "start_time": "2024-03-27T20:45:56.065Z"
   },
   {
    "duration": 20,
    "start_time": "2024-03-27T20:45:56.084Z"
   },
   {
    "duration": 33,
    "start_time": "2024-03-27T20:45:56.106Z"
   },
   {
    "duration": 342,
    "start_time": "2024-03-27T20:45:56.141Z"
   },
   {
    "duration": 35,
    "start_time": "2024-03-27T20:45:56.485Z"
   },
   {
    "duration": 6,
    "start_time": "2024-03-27T20:45:56.522Z"
   },
   {
    "duration": 382,
    "start_time": "2024-03-27T20:45:56.530Z"
   },
   {
    "duration": 395,
    "start_time": "2024-03-27T20:45:56.914Z"
   },
   {
    "duration": 18,
    "start_time": "2024-03-27T20:45:57.311Z"
   },
   {
    "duration": 552,
    "start_time": "2024-03-27T20:45:57.331Z"
   },
   {
    "duration": 10,
    "start_time": "2024-03-27T20:45:57.885Z"
   },
   {
    "duration": 9,
    "start_time": "2024-03-27T20:45:57.901Z"
   },
   {
    "duration": 18,
    "start_time": "2024-03-27T20:45:57.912Z"
   },
   {
    "duration": 44,
    "start_time": "2024-03-27T20:45:57.932Z"
   },
   {
    "duration": 23,
    "start_time": "2024-03-27T20:45:57.978Z"
   },
   {
    "duration": 359,
    "start_time": "2024-03-27T20:45:58.003Z"
   },
   {
    "duration": 29,
    "start_time": "2024-03-27T20:45:58.364Z"
   },
   {
    "duration": 23,
    "start_time": "2024-03-27T20:45:58.395Z"
   },
   {
    "duration": 27,
    "start_time": "2024-03-27T20:45:58.419Z"
   },
   {
    "duration": 394,
    "start_time": "2024-03-27T20:45:58.448Z"
   },
   {
    "duration": 13,
    "start_time": "2024-03-27T20:45:58.844Z"
   },
   {
    "duration": 177,
    "start_time": "2024-03-27T20:45:58.859Z"
   },
   {
    "duration": 145,
    "start_time": "2024-03-27T20:45:59.038Z"
   },
   {
    "duration": 141,
    "start_time": "2024-03-27T20:45:59.185Z"
   },
   {
    "duration": 150,
    "start_time": "2024-03-27T20:45:59.327Z"
   },
   {
    "duration": 188,
    "start_time": "2024-03-27T20:45:59.479Z"
   },
   {
    "duration": 169,
    "start_time": "2024-03-27T20:45:59.672Z"
   },
   {
    "duration": 182,
    "start_time": "2024-03-27T20:45:59.843Z"
   },
   {
    "duration": 186,
    "start_time": "2024-03-27T20:46:00.027Z"
   },
   {
    "duration": 261,
    "start_time": "2024-03-27T20:46:00.215Z"
   },
   {
    "duration": 367,
    "start_time": "2024-03-27T20:46:00.478Z"
   },
   {
    "duration": 9,
    "start_time": "2024-03-27T20:46:00.847Z"
   },
   {
    "duration": 73,
    "start_time": "2024-03-27T20:46:00.857Z"
   },
   {
    "duration": 114,
    "start_time": "2024-03-27T20:46:00.931Z"
   },
   {
    "duration": 65,
    "start_time": "2024-03-27T20:46:01.046Z"
   },
   {
    "duration": 43,
    "start_time": "2024-03-27T20:46:01.113Z"
   },
   {
    "duration": 62,
    "start_time": "2024-03-27T20:46:01.158Z"
   },
   {
    "duration": 71,
    "start_time": "2024-03-27T20:46:01.222Z"
   },
   {
    "duration": 47,
    "start_time": "2024-03-27T20:46:01.296Z"
   },
   {
    "duration": 51,
    "start_time": "2024-03-27T20:46:01.345Z"
   },
   {
    "duration": 30,
    "start_time": "2024-03-27T20:46:01.398Z"
   },
   {
    "duration": 48,
    "start_time": "2024-03-27T20:46:01.430Z"
   },
   {
    "duration": 40,
    "start_time": "2024-03-27T20:46:01.480Z"
   },
   {
    "duration": 95,
    "start_time": "2024-03-27T20:46:01.522Z"
   },
   {
    "duration": 82,
    "start_time": "2024-03-27T20:46:01.619Z"
   },
   {
    "duration": 1122,
    "start_time": "2024-03-27T20:46:01.702Z"
   },
   {
    "duration": 2756,
    "start_time": "2024-03-27T20:46:02.825Z"
   },
   {
    "duration": 2808,
    "start_time": "2024-03-27T20:46:05.584Z"
   },
   {
    "duration": 2,
    "start_time": "2024-03-27T20:46:08.394Z"
   },
   {
    "duration": 23,
    "start_time": "2024-03-27T20:46:08.398Z"
   },
   {
    "duration": 5,
    "start_time": "2024-03-27T20:46:08.423Z"
   },
   {
    "duration": 26,
    "start_time": "2024-03-27T20:46:08.429Z"
   },
   {
    "duration": 17,
    "start_time": "2024-03-27T20:46:08.457Z"
   },
   {
    "duration": 33,
    "start_time": "2024-03-27T20:46:08.477Z"
   },
   {
    "duration": 18,
    "start_time": "2024-03-27T20:46:08.512Z"
   },
   {
    "duration": 3,
    "start_time": "2024-03-27T20:46:08.532Z"
   },
   {
    "duration": 13,
    "start_time": "2024-03-27T20:46:08.537Z"
   },
   {
    "duration": 16,
    "start_time": "2024-03-27T20:46:08.551Z"
   },
   {
    "duration": 9,
    "start_time": "2024-03-27T20:46:08.568Z"
   },
   {
    "duration": 11,
    "start_time": "2024-03-27T20:46:08.580Z"
   },
   {
    "duration": 4783,
    "start_time": "2024-03-27T20:46:08.593Z"
   },
   {
    "duration": 36,
    "start_time": "2024-03-27T20:46:13.378Z"
   },
   {
    "duration": 3522,
    "start_time": "2024-03-27T20:46:13.416Z"
   },
   {
    "duration": 37,
    "start_time": "2024-03-27T20:46:19.552Z"
   },
   {
    "duration": 4,
    "start_time": "2024-03-27T20:46:48.009Z"
   },
   {
    "duration": 33,
    "start_time": "2024-03-27T20:48:22.962Z"
   },
   {
    "duration": 3472,
    "start_time": "2024-03-27T20:48:42.800Z"
   },
   {
    "duration": 4,
    "start_time": "2024-03-27T20:48:48.432Z"
   },
   {
    "duration": 34,
    "start_time": "2024-03-27T20:48:51.914Z"
   },
   {
    "duration": 3239,
    "start_time": "2024-03-27T20:52:08.727Z"
   },
   {
    "duration": 4,
    "start_time": "2024-03-27T20:52:23.898Z"
   },
   {
    "duration": 36,
    "start_time": "2024-03-27T20:52:28.286Z"
   },
   {
    "duration": 23,
    "start_time": "2024-03-27T20:59:45.645Z"
   },
   {
    "duration": 29,
    "start_time": "2024-03-27T21:01:50.158Z"
   },
   {
    "duration": 37,
    "start_time": "2024-03-27T21:04:27.464Z"
   },
   {
    "duration": 16,
    "start_time": "2024-03-27T21:04:42.089Z"
   },
   {
    "duration": 6,
    "start_time": "2024-03-27T21:05:32.674Z"
   },
   {
    "duration": 3,
    "start_time": "2024-03-27T21:05:47.215Z"
   },
   {
    "duration": 10,
    "start_time": "2024-03-27T21:07:22.755Z"
   },
   {
    "duration": 11,
    "start_time": "2024-03-27T21:08:42.334Z"
   },
   {
    "duration": 12,
    "start_time": "2024-03-27T21:09:45.502Z"
   },
   {
    "duration": 4,
    "start_time": "2024-03-27T21:09:52.580Z"
   },
   {
    "duration": 3,
    "start_time": "2024-03-27T21:11:51.863Z"
   },
   {
    "duration": 5,
    "start_time": "2024-03-27T21:12:04.049Z"
   },
   {
    "duration": 3,
    "start_time": "2024-03-27T21:12:20.027Z"
   },
   {
    "duration": 3,
    "start_time": "2024-03-27T21:12:20.846Z"
   },
   {
    "duration": 4,
    "start_time": "2024-03-27T21:19:29.183Z"
   },
   {
    "duration": 10,
    "start_time": "2024-03-27T21:19:53.760Z"
   },
   {
    "duration": 3,
    "start_time": "2024-03-27T21:21:56.230Z"
   },
   {
    "duration": 3,
    "start_time": "2024-03-27T21:21:57.255Z"
   },
   {
    "duration": 5,
    "start_time": "2024-03-27T21:24:35.365Z"
   },
   {
    "duration": 11,
    "start_time": "2024-03-27T21:24:40.358Z"
   },
   {
    "duration": 12,
    "start_time": "2024-03-27T21:25:34.242Z"
   },
   {
    "duration": 11,
    "start_time": "2024-03-27T21:25:55.545Z"
   },
   {
    "duration": 11,
    "start_time": "2024-03-27T21:26:01.787Z"
   },
   {
    "duration": 10,
    "start_time": "2024-03-27T21:26:13.773Z"
   },
   {
    "duration": 4,
    "start_time": "2024-03-27T21:26:40.612Z"
   },
   {
    "duration": 16,
    "start_time": "2024-03-27T21:26:41.332Z"
   },
   {
    "duration": 3,
    "start_time": "2024-03-27T21:29:22.499Z"
   },
   {
    "duration": 3,
    "start_time": "2024-03-27T21:29:24.439Z"
   },
   {
    "duration": 23,
    "start_time": "2024-03-27T21:30:06.424Z"
   },
   {
    "duration": 24,
    "start_time": "2024-03-27T21:30:17.288Z"
   },
   {
    "duration": 28,
    "start_time": "2024-03-27T21:31:02.437Z"
   },
   {
    "duration": 26,
    "start_time": "2024-03-27T21:31:10.433Z"
   },
   {
    "duration": 28,
    "start_time": "2024-03-27T21:31:34.913Z"
   },
   {
    "duration": 2,
    "start_time": "2024-03-27T21:32:09.949Z"
   },
   {
    "duration": 4,
    "start_time": "2024-03-27T21:32:10.840Z"
   },
   {
    "duration": 3,
    "start_time": "2024-03-27T21:32:19.443Z"
   },
   {
    "duration": 3,
    "start_time": "2024-03-27T21:32:20.281Z"
   },
   {
    "duration": 3,
    "start_time": "2024-03-27T21:32:26.726Z"
   },
   {
    "duration": 4,
    "start_time": "2024-03-27T21:32:27.252Z"
   },
   {
    "duration": 3,
    "start_time": "2024-03-27T21:32:32.653Z"
   },
   {
    "duration": 3,
    "start_time": "2024-03-27T21:32:33.169Z"
   },
   {
    "duration": 20,
    "start_time": "2024-03-27T21:32:54.394Z"
   },
   {
    "duration": 740,
    "start_time": "2024-03-27T21:32:56.108Z"
   },
   {
    "duration": 140,
    "start_time": "2024-03-27T21:39:54.922Z"
   },
   {
    "duration": 6481,
    "start_time": "2024-03-27T21:41:18.788Z"
   },
   {
    "duration": 300,
    "start_time": "2024-03-27T21:41:30.260Z"
   },
   {
    "duration": 9756,
    "start_time": "2024-03-27T21:42:13.883Z"
   },
   {
    "duration": 152,
    "start_time": "2024-03-27T21:42:28.830Z"
   },
   {
    "duration": 140,
    "start_time": "2024-03-27T21:43:13.284Z"
   },
   {
    "duration": 157,
    "start_time": "2024-03-27T21:46:20.055Z"
   },
   {
    "duration": 3,
    "start_time": "2024-03-27T21:48:16.685Z"
   },
   {
    "duration": 138,
    "start_time": "2024-03-27T21:48:20.375Z"
   },
   {
    "duration": 144,
    "start_time": "2024-03-27T21:48:34.929Z"
   },
   {
    "duration": 34,
    "start_time": "2024-03-27T21:50:51.105Z"
   },
   {
    "duration": 14,
    "start_time": "2024-03-27T21:51:32.494Z"
   },
   {
    "duration": 90,
    "start_time": "2024-03-27T21:52:27.440Z"
   },
   {
    "duration": 5422,
    "start_time": "2024-03-27T22:00:04.105Z"
   },
   {
    "duration": 0,
    "start_time": "2024-03-27T22:00:12.813Z"
   },
   {
    "duration": 0,
    "start_time": "2024-03-27T22:00:12.816Z"
   },
   {
    "duration": 0,
    "start_time": "2024-03-27T22:00:12.817Z"
   },
   {
    "duration": 0,
    "start_time": "2024-03-27T22:00:12.818Z"
   },
   {
    "duration": 0,
    "start_time": "2024-03-27T22:00:12.819Z"
   },
   {
    "duration": 0,
    "start_time": "2024-03-27T22:00:12.820Z"
   },
   {
    "duration": 0,
    "start_time": "2024-03-27T22:00:12.821Z"
   },
   {
    "duration": 0,
    "start_time": "2024-03-27T22:00:12.822Z"
   },
   {
    "duration": 0,
    "start_time": "2024-03-27T22:00:12.823Z"
   },
   {
    "duration": 0,
    "start_time": "2024-03-27T22:00:12.824Z"
   },
   {
    "duration": 0,
    "start_time": "2024-03-27T22:00:12.825Z"
   },
   {
    "duration": 0,
    "start_time": "2024-03-27T22:00:12.826Z"
   },
   {
    "duration": 0,
    "start_time": "2024-03-27T22:00:12.827Z"
   },
   {
    "duration": 0,
    "start_time": "2024-03-27T22:00:12.828Z"
   },
   {
    "duration": 0,
    "start_time": "2024-03-27T22:00:12.829Z"
   },
   {
    "duration": 0,
    "start_time": "2024-03-27T22:00:12.830Z"
   },
   {
    "duration": 0,
    "start_time": "2024-03-27T22:00:12.831Z"
   },
   {
    "duration": 0,
    "start_time": "2024-03-27T22:00:12.832Z"
   },
   {
    "duration": 0,
    "start_time": "2024-03-27T22:00:12.833Z"
   },
   {
    "duration": 0,
    "start_time": "2024-03-27T22:00:12.834Z"
   },
   {
    "duration": 0,
    "start_time": "2024-03-27T22:00:12.835Z"
   },
   {
    "duration": 0,
    "start_time": "2024-03-27T22:00:12.836Z"
   },
   {
    "duration": 0,
    "start_time": "2024-03-27T22:00:12.837Z"
   },
   {
    "duration": 0,
    "start_time": "2024-03-27T22:00:12.838Z"
   },
   {
    "duration": 0,
    "start_time": "2024-03-27T22:00:12.839Z"
   },
   {
    "duration": 0,
    "start_time": "2024-03-27T22:00:12.873Z"
   },
   {
    "duration": 0,
    "start_time": "2024-03-27T22:00:12.874Z"
   },
   {
    "duration": 0,
    "start_time": "2024-03-27T22:00:12.875Z"
   },
   {
    "duration": 0,
    "start_time": "2024-03-27T22:00:12.876Z"
   },
   {
    "duration": 0,
    "start_time": "2024-03-27T22:00:12.877Z"
   },
   {
    "duration": 0,
    "start_time": "2024-03-27T22:00:12.878Z"
   },
   {
    "duration": 0,
    "start_time": "2024-03-27T22:00:12.879Z"
   },
   {
    "duration": 0,
    "start_time": "2024-03-27T22:00:12.880Z"
   },
   {
    "duration": 0,
    "start_time": "2024-03-27T22:00:12.881Z"
   },
   {
    "duration": 0,
    "start_time": "2024-03-27T22:00:12.882Z"
   },
   {
    "duration": 0,
    "start_time": "2024-03-27T22:00:12.883Z"
   },
   {
    "duration": 0,
    "start_time": "2024-03-27T22:00:12.884Z"
   },
   {
    "duration": 0,
    "start_time": "2024-03-27T22:00:12.885Z"
   },
   {
    "duration": 0,
    "start_time": "2024-03-27T22:00:12.886Z"
   },
   {
    "duration": 0,
    "start_time": "2024-03-27T22:00:12.887Z"
   },
   {
    "duration": 0,
    "start_time": "2024-03-27T22:00:12.888Z"
   },
   {
    "duration": 0,
    "start_time": "2024-03-27T22:00:12.889Z"
   },
   {
    "duration": 0,
    "start_time": "2024-03-27T22:00:12.890Z"
   },
   {
    "duration": 0,
    "start_time": "2024-03-27T22:00:12.891Z"
   },
   {
    "duration": 0,
    "start_time": "2024-03-27T22:00:12.892Z"
   },
   {
    "duration": 0,
    "start_time": "2024-03-27T22:00:12.893Z"
   },
   {
    "duration": 0,
    "start_time": "2024-03-27T22:00:12.894Z"
   },
   {
    "duration": 0,
    "start_time": "2024-03-27T22:00:12.895Z"
   },
   {
    "duration": 0,
    "start_time": "2024-03-27T22:00:12.895Z"
   },
   {
    "duration": 0,
    "start_time": "2024-03-27T22:00:12.896Z"
   },
   {
    "duration": 0,
    "start_time": "2024-03-27T22:00:12.897Z"
   },
   {
    "duration": 0,
    "start_time": "2024-03-27T22:00:12.898Z"
   },
   {
    "duration": 0,
    "start_time": "2024-03-27T22:00:12.899Z"
   },
   {
    "duration": 0,
    "start_time": "2024-03-27T22:00:12.900Z"
   },
   {
    "duration": 0,
    "start_time": "2024-03-27T22:00:12.901Z"
   },
   {
    "duration": 0,
    "start_time": "2024-03-27T22:00:12.902Z"
   },
   {
    "duration": 0,
    "start_time": "2024-03-27T22:00:12.903Z"
   },
   {
    "duration": 0,
    "start_time": "2024-03-27T22:00:12.904Z"
   },
   {
    "duration": 0,
    "start_time": "2024-03-27T22:00:12.905Z"
   },
   {
    "duration": 0,
    "start_time": "2024-03-27T22:00:12.906Z"
   },
   {
    "duration": 0,
    "start_time": "2024-03-27T22:00:12.907Z"
   },
   {
    "duration": 0,
    "start_time": "2024-03-27T22:00:12.908Z"
   },
   {
    "duration": 0,
    "start_time": "2024-03-27T22:00:12.909Z"
   },
   {
    "duration": 0,
    "start_time": "2024-03-27T22:00:12.973Z"
   },
   {
    "duration": 0,
    "start_time": "2024-03-27T22:00:12.974Z"
   },
   {
    "duration": 0,
    "start_time": "2024-03-27T22:00:12.976Z"
   },
   {
    "duration": 0,
    "start_time": "2024-03-27T22:00:12.977Z"
   },
   {
    "duration": 0,
    "start_time": "2024-03-27T22:00:12.979Z"
   },
   {
    "duration": 0,
    "start_time": "2024-03-27T22:00:12.980Z"
   },
   {
    "duration": 0,
    "start_time": "2024-03-27T22:00:12.982Z"
   },
   {
    "duration": 0,
    "start_time": "2024-03-27T22:00:12.983Z"
   },
   {
    "duration": 0,
    "start_time": "2024-03-27T22:00:12.984Z"
   },
   {
    "duration": 0,
    "start_time": "2024-03-27T22:00:12.986Z"
   },
   {
    "duration": 1,
    "start_time": "2024-03-27T22:00:12.987Z"
   },
   {
    "duration": 0,
    "start_time": "2024-03-27T22:00:12.989Z"
   },
   {
    "duration": 0,
    "start_time": "2024-03-27T22:00:12.990Z"
   },
   {
    "duration": 0,
    "start_time": "2024-03-27T22:00:12.992Z"
   },
   {
    "duration": 0,
    "start_time": "2024-03-27T22:00:12.993Z"
   },
   {
    "duration": 0,
    "start_time": "2024-03-27T22:00:12.995Z"
   },
   {
    "duration": 0,
    "start_time": "2024-03-27T22:00:12.996Z"
   },
   {
    "duration": 0,
    "start_time": "2024-03-27T22:00:12.998Z"
   },
   {
    "duration": 0,
    "start_time": "2024-03-27T22:00:12.999Z"
   },
   {
    "duration": 0,
    "start_time": "2024-03-27T22:00:13.000Z"
   },
   {
    "duration": 0,
    "start_time": "2024-03-27T22:00:13.002Z"
   },
   {
    "duration": 0,
    "start_time": "2024-03-27T22:00:13.003Z"
   },
   {
    "duration": 0,
    "start_time": "2024-03-27T22:00:13.004Z"
   },
   {
    "duration": 0,
    "start_time": "2024-03-27T22:00:13.005Z"
   },
   {
    "duration": 0,
    "start_time": "2024-03-27T22:00:13.006Z"
   },
   {
    "duration": 0,
    "start_time": "2024-03-27T22:00:13.007Z"
   },
   {
    "duration": 0,
    "start_time": "2024-03-27T22:00:13.073Z"
   },
   {
    "duration": 0,
    "start_time": "2024-03-27T22:00:13.073Z"
   },
   {
    "duration": 0,
    "start_time": "2024-03-27T22:00:13.075Z"
   },
   {
    "duration": 0,
    "start_time": "2024-03-27T22:00:13.076Z"
   },
   {
    "duration": 0,
    "start_time": "2024-03-27T22:00:13.077Z"
   },
   {
    "duration": 0,
    "start_time": "2024-03-27T22:00:13.078Z"
   },
   {
    "duration": 5373,
    "start_time": "2024-03-27T22:00:17.176Z"
   },
   {
    "duration": 5376,
    "start_time": "2024-03-27T22:00:33.978Z"
   },
   {
    "duration": 6,
    "start_time": "2024-03-27T22:00:39.357Z"
   },
   {
    "duration": 9,
    "start_time": "2024-03-27T22:00:39.364Z"
   },
   {
    "duration": 99,
    "start_time": "2024-03-27T22:00:39.374Z"
   },
   {
    "duration": 14,
    "start_time": "2024-03-27T22:00:39.475Z"
   },
   {
    "duration": 45,
    "start_time": "2024-03-27T22:00:39.490Z"
   },
   {
    "duration": 13,
    "start_time": "2024-03-27T22:00:39.536Z"
   },
   {
    "duration": 12,
    "start_time": "2024-03-27T22:00:39.550Z"
   },
   {
    "duration": 7,
    "start_time": "2024-03-27T22:00:39.563Z"
   },
   {
    "duration": 11,
    "start_time": "2024-03-27T22:00:39.571Z"
   },
   {
    "duration": 9,
    "start_time": "2024-03-27T22:00:39.583Z"
   },
   {
    "duration": 15,
    "start_time": "2024-03-27T22:00:39.593Z"
   },
   {
    "duration": 24,
    "start_time": "2024-03-27T22:00:39.609Z"
   },
   {
    "duration": 6,
    "start_time": "2024-03-27T22:00:39.636Z"
   },
   {
    "duration": 4,
    "start_time": "2024-03-27T22:00:39.643Z"
   },
   {
    "duration": 7,
    "start_time": "2024-03-27T22:00:39.649Z"
   },
   {
    "duration": 23,
    "start_time": "2024-03-27T22:00:39.657Z"
   },
   {
    "duration": 8,
    "start_time": "2024-03-27T22:00:39.681Z"
   },
   {
    "duration": 10,
    "start_time": "2024-03-27T22:00:39.690Z"
   },
   {
    "duration": 10,
    "start_time": "2024-03-27T22:00:39.701Z"
   },
   {
    "duration": 24,
    "start_time": "2024-03-27T22:00:39.713Z"
   },
   {
    "duration": 16,
    "start_time": "2024-03-27T22:00:39.739Z"
   },
   {
    "duration": 21,
    "start_time": "2024-03-27T22:00:39.756Z"
   },
   {
    "duration": 21,
    "start_time": "2024-03-27T22:00:39.779Z"
   },
   {
    "duration": 36,
    "start_time": "2024-03-27T22:00:39.802Z"
   },
   {
    "duration": 16,
    "start_time": "2024-03-27T22:00:39.839Z"
   },
   {
    "duration": 13,
    "start_time": "2024-03-27T22:00:39.857Z"
   },
   {
    "duration": 15,
    "start_time": "2024-03-27T22:00:39.872Z"
   },
   {
    "duration": 9,
    "start_time": "2024-03-27T22:00:39.888Z"
   },
   {
    "duration": 7,
    "start_time": "2024-03-27T22:00:39.898Z"
   },
   {
    "duration": 19,
    "start_time": "2024-03-27T22:00:39.906Z"
   },
   {
    "duration": 13,
    "start_time": "2024-03-27T22:00:39.927Z"
   },
   {
    "duration": 351,
    "start_time": "2024-03-27T22:00:39.941Z"
   },
   {
    "duration": 31,
    "start_time": "2024-03-27T22:00:40.294Z"
   },
   {
    "duration": 5,
    "start_time": "2024-03-27T22:00:40.327Z"
   },
   {
    "duration": 327,
    "start_time": "2024-03-27T22:00:40.334Z"
   },
   {
    "duration": 340,
    "start_time": "2024-03-27T22:00:40.663Z"
   },
   {
    "duration": 16,
    "start_time": "2024-03-27T22:00:41.005Z"
   },
   {
    "duration": 495,
    "start_time": "2024-03-27T22:00:41.022Z"
   },
   {
    "duration": 12,
    "start_time": "2024-03-27T22:00:41.518Z"
   },
   {
    "duration": 13,
    "start_time": "2024-03-27T22:00:41.535Z"
   },
   {
    "duration": 31,
    "start_time": "2024-03-27T22:00:41.550Z"
   },
   {
    "duration": 14,
    "start_time": "2024-03-27T22:00:41.582Z"
   },
   {
    "duration": 16,
    "start_time": "2024-03-27T22:00:41.598Z"
   },
   {
    "duration": 332,
    "start_time": "2024-03-27T22:00:41.616Z"
   },
   {
    "duration": 24,
    "start_time": "2024-03-27T22:00:41.950Z"
   },
   {
    "duration": 15,
    "start_time": "2024-03-27T22:00:41.976Z"
   },
   {
    "duration": 20,
    "start_time": "2024-03-27T22:00:41.993Z"
   },
   {
    "duration": 335,
    "start_time": "2024-03-27T22:00:42.015Z"
   },
   {
    "duration": 22,
    "start_time": "2024-03-27T22:00:42.351Z"
   },
   {
    "duration": 158,
    "start_time": "2024-03-27T22:00:42.375Z"
   },
   {
    "duration": 134,
    "start_time": "2024-03-27T22:00:42.534Z"
   },
   {
    "duration": 151,
    "start_time": "2024-03-27T22:00:42.673Z"
   },
   {
    "duration": 141,
    "start_time": "2024-03-27T22:00:42.826Z"
   },
   {
    "duration": 178,
    "start_time": "2024-03-27T22:00:42.969Z"
   },
   {
    "duration": 156,
    "start_time": "2024-03-27T22:00:43.149Z"
   },
   {
    "duration": 185,
    "start_time": "2024-03-27T22:00:43.307Z"
   },
   {
    "duration": 289,
    "start_time": "2024-03-27T22:00:43.493Z"
   },
   {
    "duration": 237,
    "start_time": "2024-03-27T22:00:43.783Z"
   },
   {
    "duration": 237,
    "start_time": "2024-03-27T22:00:44.021Z"
   },
   {
    "duration": 7,
    "start_time": "2024-03-27T22:00:44.260Z"
   },
   {
    "duration": 13,
    "start_time": "2024-03-27T22:00:44.273Z"
   },
   {
    "duration": 3,
    "start_time": "2024-03-27T22:00:44.288Z"
   },
   {
    "duration": 11,
    "start_time": "2024-03-27T22:00:44.292Z"
   },
   {
    "duration": 42,
    "start_time": "2024-03-27T22:00:44.305Z"
   },
   {
    "duration": 7,
    "start_time": "2024-03-27T22:00:44.349Z"
   },
   {
    "duration": 26,
    "start_time": "2024-03-27T22:00:44.357Z"
   },
   {
    "duration": 7,
    "start_time": "2024-03-27T22:00:44.385Z"
   },
   {
    "duration": 5,
    "start_time": "2024-03-27T22:00:44.395Z"
   },
   {
    "duration": 23,
    "start_time": "2024-03-27T22:00:44.402Z"
   },
   {
    "duration": 15,
    "start_time": "2024-03-27T22:00:44.426Z"
   },
   {
    "duration": 22,
    "start_time": "2024-03-27T22:00:44.443Z"
   },
   {
    "duration": 27,
    "start_time": "2024-03-27T22:00:44.467Z"
   },
   {
    "duration": 14,
    "start_time": "2024-03-27T22:00:44.496Z"
   },
   {
    "duration": 995,
    "start_time": "2024-03-27T22:00:44.512Z"
   },
   {
    "duration": 2668,
    "start_time": "2024-03-27T22:00:45.509Z"
   },
   {
    "duration": 2472,
    "start_time": "2024-03-27T22:00:48.178Z"
   },
   {
    "duration": 3,
    "start_time": "2024-03-27T22:00:50.651Z"
   },
   {
    "duration": 18,
    "start_time": "2024-03-27T22:00:50.656Z"
   },
   {
    "duration": 5,
    "start_time": "2024-03-27T22:00:50.675Z"
   },
   {
    "duration": 17,
    "start_time": "2024-03-27T22:00:50.682Z"
   },
   {
    "duration": 42,
    "start_time": "2024-03-27T22:00:50.701Z"
   },
   {
    "duration": 21,
    "start_time": "2024-03-27T22:00:50.746Z"
   },
   {
    "duration": 22,
    "start_time": "2024-03-27T22:00:50.768Z"
   },
   {
    "duration": 18,
    "start_time": "2024-03-27T22:00:50.791Z"
   },
   {
    "duration": 20,
    "start_time": "2024-03-27T22:00:50.810Z"
   },
   {
    "duration": 53,
    "start_time": "2024-03-27T22:00:50.832Z"
   },
   {
    "duration": 11,
    "start_time": "2024-03-27T22:00:50.887Z"
   },
   {
    "duration": 26,
    "start_time": "2024-03-27T22:00:50.899Z"
   },
   {
    "duration": 4916,
    "start_time": "2024-03-27T22:00:50.927Z"
   },
   {
    "duration": 36,
    "start_time": "2024-03-27T22:00:55.845Z"
   },
   {
    "duration": 3,
    "start_time": "2024-03-27T22:00:55.883Z"
   },
   {
    "duration": 5,
    "start_time": "2024-03-27T22:00:55.888Z"
   },
   {
    "duration": 26,
    "start_time": "2024-03-27T22:00:55.895Z"
   },
   {
    "duration": 21,
    "start_time": "2024-03-27T22:00:55.923Z"
   },
   {
    "duration": 868,
    "start_time": "2024-03-27T22:00:55.945Z"
   },
   {
    "duration": 15,
    "start_time": "2024-03-27T22:01:25.891Z"
   },
   {
    "duration": 3,
    "start_time": "2024-03-27T22:01:58.554Z"
   },
   {
    "duration": 11,
    "start_time": "2024-03-27T22:02:09.920Z"
   },
   {
    "duration": 5,
    "start_time": "2024-03-27T22:02:26.681Z"
   },
   {
    "duration": 5,
    "start_time": "2024-03-27T22:02:33.242Z"
   },
   {
    "duration": 5,
    "start_time": "2024-03-27T22:02:38.302Z"
   },
   {
    "duration": 317,
    "start_time": "2024-03-27T22:02:43.611Z"
   },
   {
    "duration": 305,
    "start_time": "2024-03-27T22:02:49.348Z"
   },
   {
    "duration": 1398,
    "start_time": "2024-03-27T22:03:37.273Z"
   },
   {
    "duration": 307,
    "start_time": "2024-03-27T22:03:58.466Z"
   },
   {
    "duration": 6,
    "start_time": "2024-03-27T22:13:56.391Z"
   },
   {
    "duration": 13,
    "start_time": "2024-03-27T22:16:09.200Z"
   },
   {
    "duration": 8,
    "start_time": "2024-03-27T22:16:23.228Z"
   },
   {
    "duration": 7152,
    "start_time": "2024-03-28T11:50:19.728Z"
   },
   {
    "duration": 2089,
    "start_time": "2024-03-28T11:50:26.883Z"
   },
   {
    "duration": 8,
    "start_time": "2024-03-28T11:50:28.974Z"
   },
   {
    "duration": 250,
    "start_time": "2024-03-28T11:50:28.985Z"
   },
   {
    "duration": 16,
    "start_time": "2024-03-28T11:50:29.237Z"
   },
   {
    "duration": 12,
    "start_time": "2024-03-28T11:50:29.255Z"
   },
   {
    "duration": 10,
    "start_time": "2024-03-28T11:50:29.268Z"
   },
   {
    "duration": 11,
    "start_time": "2024-03-28T11:50:29.280Z"
   },
   {
    "duration": 6,
    "start_time": "2024-03-28T11:50:29.293Z"
   },
   {
    "duration": 10,
    "start_time": "2024-03-28T11:50:29.301Z"
   },
   {
    "duration": 14,
    "start_time": "2024-03-28T11:50:29.312Z"
   },
   {
    "duration": 11,
    "start_time": "2024-03-28T11:50:29.327Z"
   },
   {
    "duration": 8,
    "start_time": "2024-03-28T11:50:29.339Z"
   },
   {
    "duration": 34,
    "start_time": "2024-03-28T11:50:29.349Z"
   },
   {
    "duration": 5,
    "start_time": "2024-03-28T11:50:29.385Z"
   },
   {
    "duration": 13,
    "start_time": "2024-03-28T11:50:29.391Z"
   },
   {
    "duration": 8,
    "start_time": "2024-03-28T11:50:29.406Z"
   },
   {
    "duration": 6,
    "start_time": "2024-03-28T11:50:29.415Z"
   },
   {
    "duration": 12,
    "start_time": "2024-03-28T11:50:29.422Z"
   },
   {
    "duration": 7,
    "start_time": "2024-03-28T11:50:29.435Z"
   },
   {
    "duration": 7,
    "start_time": "2024-03-28T11:50:29.443Z"
   },
   {
    "duration": 32,
    "start_time": "2024-03-28T11:50:29.451Z"
   },
   {
    "duration": 7,
    "start_time": "2024-03-28T11:50:29.484Z"
   },
   {
    "duration": 5,
    "start_time": "2024-03-28T11:50:29.493Z"
   },
   {
    "duration": 5,
    "start_time": "2024-03-28T11:50:29.500Z"
   },
   {
    "duration": 10,
    "start_time": "2024-03-28T11:50:29.507Z"
   },
   {
    "duration": 6,
    "start_time": "2024-03-28T11:50:29.518Z"
   },
   {
    "duration": 4,
    "start_time": "2024-03-28T11:50:29.528Z"
   },
   {
    "duration": 8,
    "start_time": "2024-03-28T11:50:29.533Z"
   },
   {
    "duration": 40,
    "start_time": "2024-03-28T11:50:29.543Z"
   },
   {
    "duration": 5,
    "start_time": "2024-03-28T11:50:29.585Z"
   },
   {
    "duration": 13,
    "start_time": "2024-03-28T11:50:29.591Z"
   },
   {
    "duration": 358,
    "start_time": "2024-03-28T11:50:29.606Z"
   },
   {
    "duration": 42,
    "start_time": "2024-03-28T11:50:29.966Z"
   },
   {
    "duration": 6,
    "start_time": "2024-03-28T11:50:30.010Z"
   },
   {
    "duration": 373,
    "start_time": "2024-03-28T11:50:30.017Z"
   },
   {
    "duration": 448,
    "start_time": "2024-03-28T11:50:30.392Z"
   },
   {
    "duration": 15,
    "start_time": "2024-03-28T11:50:30.842Z"
   },
   {
    "duration": 349,
    "start_time": "2024-03-28T11:50:30.858Z"
   },
   {
    "duration": 10,
    "start_time": "2024-03-28T11:50:31.209Z"
   },
   {
    "duration": 67,
    "start_time": "2024-03-28T11:50:31.221Z"
   },
   {
    "duration": 81,
    "start_time": "2024-03-28T11:50:31.289Z"
   },
   {
    "duration": 41,
    "start_time": "2024-03-28T11:50:31.372Z"
   },
   {
    "duration": 28,
    "start_time": "2024-03-28T11:50:31.416Z"
   },
   {
    "duration": 405,
    "start_time": "2024-03-28T11:50:31.447Z"
   },
   {
    "duration": 14,
    "start_time": "2024-03-28T11:50:31.854Z"
   },
   {
    "duration": 15,
    "start_time": "2024-03-28T11:50:31.881Z"
   },
   {
    "duration": 21,
    "start_time": "2024-03-28T11:50:31.898Z"
   },
   {
    "duration": 317,
    "start_time": "2024-03-28T11:50:31.921Z"
   },
   {
    "duration": 13,
    "start_time": "2024-03-28T11:50:32.239Z"
   },
   {
    "duration": 147,
    "start_time": "2024-03-28T11:50:32.253Z"
   },
   {
    "duration": 145,
    "start_time": "2024-03-28T11:50:32.402Z"
   },
   {
    "duration": 140,
    "start_time": "2024-03-28T11:50:32.549Z"
   },
   {
    "duration": 156,
    "start_time": "2024-03-28T11:50:32.691Z"
   },
   {
    "duration": 181,
    "start_time": "2024-03-28T11:50:32.849Z"
   },
   {
    "duration": 300,
    "start_time": "2024-03-28T11:50:33.031Z"
   },
   {
    "duration": 163,
    "start_time": "2024-03-28T11:50:33.333Z"
   },
   {
    "duration": 166,
    "start_time": "2024-03-28T11:50:33.497Z"
   },
   {
    "duration": 247,
    "start_time": "2024-03-28T11:50:33.665Z"
   },
   {
    "duration": 199,
    "start_time": "2024-03-28T11:50:33.914Z"
   },
   {
    "duration": 8,
    "start_time": "2024-03-28T11:50:34.114Z"
   },
   {
    "duration": 14,
    "start_time": "2024-03-28T11:50:34.124Z"
   },
   {
    "duration": 3,
    "start_time": "2024-03-28T11:50:34.139Z"
   },
   {
    "duration": 6,
    "start_time": "2024-03-28T11:50:34.144Z"
   },
   {
    "duration": 35,
    "start_time": "2024-03-28T11:50:34.151Z"
   },
   {
    "duration": 8,
    "start_time": "2024-03-28T11:50:34.188Z"
   },
   {
    "duration": 17,
    "start_time": "2024-03-28T11:50:34.197Z"
   },
   {
    "duration": 10,
    "start_time": "2024-03-28T11:50:34.216Z"
   },
   {
    "duration": 5,
    "start_time": "2024-03-28T11:50:34.228Z"
   },
   {
    "duration": 12,
    "start_time": "2024-03-28T11:50:34.234Z"
   },
   {
    "duration": 39,
    "start_time": "2024-03-28T11:50:34.248Z"
   },
   {
    "duration": 9,
    "start_time": "2024-03-28T11:50:34.290Z"
   },
   {
    "duration": 15,
    "start_time": "2024-03-28T11:50:34.301Z"
   },
   {
    "duration": 18,
    "start_time": "2024-03-28T11:50:34.318Z"
   },
   {
    "duration": 963,
    "start_time": "2024-03-28T11:50:34.338Z"
   },
   {
    "duration": 2581,
    "start_time": "2024-03-28T11:50:35.303Z"
   },
   {
    "duration": 2599,
    "start_time": "2024-03-28T11:50:37.886Z"
   },
   {
    "duration": 3,
    "start_time": "2024-03-28T11:50:40.487Z"
   },
   {
    "duration": 11,
    "start_time": "2024-03-28T11:50:40.491Z"
   },
   {
    "duration": 4,
    "start_time": "2024-03-28T11:50:40.503Z"
   },
   {
    "duration": 16,
    "start_time": "2024-03-28T11:50:40.508Z"
   },
   {
    "duration": 3,
    "start_time": "2024-03-28T11:50:40.530Z"
   },
   {
    "duration": 10,
    "start_time": "2024-03-28T11:50:40.535Z"
   },
   {
    "duration": 15,
    "start_time": "2024-03-28T11:50:40.547Z"
   },
   {
    "duration": 5,
    "start_time": "2024-03-28T11:50:40.583Z"
   },
   {
    "duration": 13,
    "start_time": "2024-03-28T11:50:40.590Z"
   },
   {
    "duration": 16,
    "start_time": "2024-03-28T11:50:40.605Z"
   },
   {
    "duration": 5,
    "start_time": "2024-03-28T11:50:40.623Z"
   },
   {
    "duration": 4,
    "start_time": "2024-03-28T11:50:40.630Z"
   },
   {
    "duration": 4818,
    "start_time": "2024-03-28T11:50:40.636Z"
   },
   {
    "duration": 29,
    "start_time": "2024-03-28T11:50:45.456Z"
   },
   {
    "duration": 53,
    "start_time": "2024-03-28T11:50:45.487Z"
   },
   {
    "duration": 38,
    "start_time": "2024-03-28T11:50:45.541Z"
   },
   {
    "duration": 56,
    "start_time": "2024-03-28T11:50:45.580Z"
   },
   {
    "duration": 19,
    "start_time": "2024-03-28T11:50:45.638Z"
   },
   {
    "duration": 601,
    "start_time": "2024-03-28T11:50:45.659Z"
   },
   {
    "duration": 306,
    "start_time": "2024-03-28T11:50:46.262Z"
   },
   {
    "duration": 13,
    "start_time": "2024-03-28T11:50:46.570Z"
   },
   {
    "duration": 12,
    "start_time": "2024-03-28T12:11:24.113Z"
   },
   {
    "duration": 1089,
    "start_time": "2024-03-28T12:12:58.609Z"
   },
   {
    "duration": 4,
    "start_time": "2024-03-28T12:14:50.580Z"
   },
   {
    "duration": 19,
    "start_time": "2024-03-28T12:15:57.777Z"
   },
   {
    "duration": 4,
    "start_time": "2024-03-28T12:17:36.672Z"
   },
   {
    "duration": 6691,
    "start_time": "2024-03-28T20:54:28.518Z"
   },
   {
    "duration": 1977,
    "start_time": "2024-03-28T20:54:35.212Z"
   },
   {
    "duration": 3,
    "start_time": "2024-03-28T20:54:37.190Z"
   },
   {
    "duration": 278,
    "start_time": "2024-03-28T20:54:37.195Z"
   },
   {
    "duration": 16,
    "start_time": "2024-03-28T20:54:37.475Z"
   },
   {
    "duration": 28,
    "start_time": "2024-03-28T20:54:37.492Z"
   },
   {
    "duration": 29,
    "start_time": "2024-03-28T20:54:37.522Z"
   },
   {
    "duration": 27,
    "start_time": "2024-03-28T20:54:37.553Z"
   },
   {
    "duration": 6,
    "start_time": "2024-03-28T20:54:37.582Z"
   },
   {
    "duration": 15,
    "start_time": "2024-03-28T20:54:37.590Z"
   },
   {
    "duration": 10,
    "start_time": "2024-03-28T20:54:37.606Z"
   },
   {
    "duration": 14,
    "start_time": "2024-03-28T20:54:37.617Z"
   },
   {
    "duration": 7,
    "start_time": "2024-03-28T20:54:37.633Z"
   },
   {
    "duration": 6,
    "start_time": "2024-03-28T20:54:37.643Z"
   },
   {
    "duration": 4,
    "start_time": "2024-03-28T20:54:37.651Z"
   },
   {
    "duration": 16,
    "start_time": "2024-03-28T20:54:37.657Z"
   },
   {
    "duration": 6,
    "start_time": "2024-03-28T20:54:37.675Z"
   },
   {
    "duration": 4,
    "start_time": "2024-03-28T20:54:37.683Z"
   },
   {
    "duration": 29,
    "start_time": "2024-03-28T20:54:37.689Z"
   },
   {
    "duration": 5,
    "start_time": "2024-03-28T20:54:37.719Z"
   },
   {
    "duration": 6,
    "start_time": "2024-03-28T20:54:37.726Z"
   },
   {
    "duration": 6,
    "start_time": "2024-03-28T20:54:37.734Z"
   },
   {
    "duration": 14,
    "start_time": "2024-03-28T20:54:37.742Z"
   },
   {
    "duration": 5,
    "start_time": "2024-03-28T20:54:37.757Z"
   },
   {
    "duration": 5,
    "start_time": "2024-03-28T20:54:37.763Z"
   },
   {
    "duration": 4,
    "start_time": "2024-03-28T20:54:37.770Z"
   },
   {
    "duration": 5,
    "start_time": "2024-03-28T20:54:37.775Z"
   },
   {
    "duration": 38,
    "start_time": "2024-03-28T20:54:37.781Z"
   },
   {
    "duration": 6,
    "start_time": "2024-03-28T20:54:37.821Z"
   },
   {
    "duration": 6,
    "start_time": "2024-03-28T20:54:37.829Z"
   },
   {
    "duration": 10,
    "start_time": "2024-03-28T20:54:37.837Z"
   },
   {
    "duration": 10,
    "start_time": "2024-03-28T20:54:37.848Z"
   },
   {
    "duration": 321,
    "start_time": "2024-03-28T20:54:37.859Z"
   },
   {
    "duration": 37,
    "start_time": "2024-03-28T20:54:38.181Z"
   },
   {
    "duration": 5,
    "start_time": "2024-03-28T20:54:38.220Z"
   },
   {
    "duration": 296,
    "start_time": "2024-03-28T20:54:38.226Z"
   },
   {
    "duration": 403,
    "start_time": "2024-03-28T20:54:38.523Z"
   },
   {
    "duration": 14,
    "start_time": "2024-03-28T20:54:38.927Z"
   },
   {
    "duration": 315,
    "start_time": "2024-03-28T20:54:38.943Z"
   },
   {
    "duration": 10,
    "start_time": "2024-03-28T20:54:39.259Z"
   },
   {
    "duration": 7,
    "start_time": "2024-03-28T20:54:39.273Z"
   },
   {
    "duration": 16,
    "start_time": "2024-03-28T20:54:39.282Z"
   },
   {
    "duration": 30,
    "start_time": "2024-03-28T20:54:39.299Z"
   },
   {
    "duration": 5,
    "start_time": "2024-03-28T20:54:39.331Z"
   },
   {
    "duration": 334,
    "start_time": "2024-03-28T20:54:39.338Z"
   },
   {
    "duration": 13,
    "start_time": "2024-03-28T20:54:39.674Z"
   },
   {
    "duration": 14,
    "start_time": "2024-03-28T20:54:39.688Z"
   },
   {
    "duration": 14,
    "start_time": "2024-03-28T20:54:39.717Z"
   },
   {
    "duration": 305,
    "start_time": "2024-03-28T20:54:39.732Z"
   },
   {
    "duration": 11,
    "start_time": "2024-03-28T20:54:40.039Z"
   },
   {
    "duration": 139,
    "start_time": "2024-03-28T20:54:40.052Z"
   },
   {
    "duration": 126,
    "start_time": "2024-03-28T20:54:40.192Z"
   },
   {
    "duration": 130,
    "start_time": "2024-03-28T20:54:40.319Z"
   },
   {
    "duration": 129,
    "start_time": "2024-03-28T20:54:40.451Z"
   },
   {
    "duration": 166,
    "start_time": "2024-03-28T20:54:40.582Z"
   },
   {
    "duration": 249,
    "start_time": "2024-03-28T20:54:40.750Z"
   },
   {
    "duration": 148,
    "start_time": "2024-03-28T20:54:41.001Z"
   },
   {
    "duration": 147,
    "start_time": "2024-03-28T20:54:41.151Z"
   },
   {
    "duration": 209,
    "start_time": "2024-03-28T20:54:41.299Z"
   },
   {
    "duration": 196,
    "start_time": "2024-03-28T20:54:41.518Z"
   },
   {
    "duration": 7,
    "start_time": "2024-03-28T20:54:41.717Z"
   },
   {
    "duration": 17,
    "start_time": "2024-03-28T20:54:41.726Z"
   },
   {
    "duration": 4,
    "start_time": "2024-03-28T20:54:41.745Z"
   },
   {
    "duration": 5,
    "start_time": "2024-03-28T20:54:41.751Z"
   },
   {
    "duration": 10,
    "start_time": "2024-03-28T20:54:41.758Z"
   },
   {
    "duration": 6,
    "start_time": "2024-03-28T20:54:41.770Z"
   },
   {
    "duration": 15,
    "start_time": "2024-03-28T20:54:41.777Z"
   },
   {
    "duration": 28,
    "start_time": "2024-03-28T20:54:41.793Z"
   },
   {
    "duration": 3,
    "start_time": "2024-03-28T20:54:41.823Z"
   },
   {
    "duration": 7,
    "start_time": "2024-03-28T20:54:41.828Z"
   },
   {
    "duration": 9,
    "start_time": "2024-03-28T20:54:41.836Z"
   },
   {
    "duration": 5,
    "start_time": "2024-03-28T20:54:41.847Z"
   },
   {
    "duration": 14,
    "start_time": "2024-03-28T20:54:41.853Z"
   },
   {
    "duration": 14,
    "start_time": "2024-03-28T20:54:41.868Z"
   },
   {
    "duration": 915,
    "start_time": "2024-03-28T20:54:41.883Z"
   },
   {
    "duration": 2320,
    "start_time": "2024-03-28T20:54:42.799Z"
   },
   {
    "duration": 2319,
    "start_time": "2024-03-28T20:54:45.120Z"
   },
   {
    "duration": 3,
    "start_time": "2024-03-28T20:54:47.441Z"
   },
   {
    "duration": 12,
    "start_time": "2024-03-28T20:54:47.445Z"
   },
   {
    "duration": 4,
    "start_time": "2024-03-28T20:54:47.459Z"
   },
   {
    "duration": 11,
    "start_time": "2024-03-28T20:54:47.465Z"
   },
   {
    "duration": 4,
    "start_time": "2024-03-28T20:54:47.478Z"
   },
   {
    "duration": 34,
    "start_time": "2024-03-28T20:54:47.484Z"
   },
   {
    "duration": 6,
    "start_time": "2024-03-28T20:54:47.519Z"
   },
   {
    "duration": 4,
    "start_time": "2024-03-28T20:54:47.527Z"
   },
   {
    "duration": 11,
    "start_time": "2024-03-28T20:54:47.533Z"
   },
   {
    "duration": 15,
    "start_time": "2024-03-28T20:54:47.546Z"
   },
   {
    "duration": 9,
    "start_time": "2024-03-28T20:54:47.563Z"
   },
   {
    "duration": 4,
    "start_time": "2024-03-28T20:54:47.573Z"
   },
   {
    "duration": 4874,
    "start_time": "2024-03-28T20:54:47.579Z"
   },
   {
    "duration": 22,
    "start_time": "2024-03-28T20:54:52.455Z"
   },
   {
    "duration": 15,
    "start_time": "2024-03-28T20:54:52.479Z"
   },
   {
    "duration": 19,
    "start_time": "2024-03-28T20:54:52.496Z"
   },
   {
    "duration": 33,
    "start_time": "2024-03-28T20:54:52.517Z"
   },
   {
    "duration": 17,
    "start_time": "2024-03-28T20:54:52.552Z"
   },
   {
    "duration": 572,
    "start_time": "2024-03-28T20:54:52.571Z"
   },
   {
    "duration": 303,
    "start_time": "2024-03-28T20:54:53.145Z"
   },
   {
    "duration": 5,
    "start_time": "2024-03-28T20:54:53.450Z"
   },
   {
    "duration": 31,
    "start_time": "2024-03-28T20:54:53.456Z"
   },
   {
    "duration": 9,
    "start_time": "2024-03-28T20:54:53.489Z"
   },
   {
    "duration": 15,
    "start_time": "2024-03-28T20:54:53.500Z"
   },
   {
    "duration": 15,
    "start_time": "2024-03-28T20:54:53.517Z"
   },
   {
    "duration": 16,
    "start_time": "2024-03-28T20:54:53.533Z"
   },
   {
    "duration": 148,
    "start_time": "2024-03-28T20:57:40.313Z"
   },
   {
    "duration": 15,
    "start_time": "2024-03-28T21:03:14.463Z"
   },
   {
    "duration": 5,
    "start_time": "2024-03-28T21:05:33.852Z"
   },
   {
    "duration": 6,
    "start_time": "2024-03-28T21:05:41.328Z"
   },
   {
    "duration": 1165,
    "start_time": "2024-03-28T21:06:13.156Z"
   },
   {
    "duration": 4,
    "start_time": "2024-03-28T21:06:22.146Z"
   },
   {
    "duration": 7,
    "start_time": "2024-03-28T21:06:24.919Z"
   },
   {
    "duration": 227,
    "start_time": "2024-03-28T21:10:35.281Z"
   },
   {
    "duration": 97,
    "start_time": "2024-03-28T21:14:33.466Z"
   },
   {
    "duration": 215,
    "start_time": "2024-03-28T21:14:55.685Z"
   },
   {
    "duration": 257,
    "start_time": "2024-03-28T21:15:02.668Z"
   },
   {
    "duration": 188,
    "start_time": "2024-03-28T21:15:10.228Z"
   },
   {
    "duration": 133,
    "start_time": "2024-03-28T21:16:40.237Z"
   },
   {
    "duration": 250,
    "start_time": "2024-03-28T21:16:59.693Z"
   },
   {
    "duration": 157,
    "start_time": "2024-03-28T21:17:20.276Z"
   },
   {
    "duration": 143,
    "start_time": "2024-03-28T21:17:29.392Z"
   },
   {
    "duration": 145,
    "start_time": "2024-03-28T21:17:40.775Z"
   },
   {
    "duration": 213,
    "start_time": "2024-03-28T21:21:42.516Z"
   },
   {
    "duration": 152,
    "start_time": "2024-03-28T21:21:55.021Z"
   },
   {
    "duration": 6,
    "start_time": "2024-03-28T21:25:11.728Z"
   },
   {
    "duration": 42,
    "start_time": "2024-03-28T21:25:21.149Z"
   },
   {
    "duration": 132,
    "start_time": "2024-03-28T21:27:49.440Z"
   },
   {
    "duration": 17,
    "start_time": "2024-03-28T21:30:54.565Z"
   },
   {
    "duration": 89,
    "start_time": "2024-03-28T21:31:14.025Z"
   },
   {
    "duration": 72,
    "start_time": "2024-03-28T21:41:28.734Z"
   },
   {
    "duration": 73,
    "start_time": "2024-03-28T21:41:46.858Z"
   }
  ],
  "colab": {
   "provenance": []
  },
  "kernelspec": {
   "display_name": "Python 3 (ipykernel)",
   "language": "python",
   "name": "python3"
  },
  "language_info": {
   "codemirror_mode": {
    "name": "ipython",
    "version": 3
   },
   "file_extension": ".py",
   "mimetype": "text/x-python",
   "name": "python",
   "nbconvert_exporter": "python",
   "pygments_lexer": "ipython3",
   "version": "3.9.7"
  },
  "toc": {
   "base_numbering": 1,
   "nav_menu": {},
   "number_sections": true,
   "sideBar": true,
   "skip_h1_title": true,
   "title_cell": "Table of Contents",
   "title_sidebar": "Contents",
   "toc_cell": false,
   "toc_position": {},
   "toc_section_display": true,
   "toc_window_display": false
  }
 },
 "nbformat": 4,
 "nbformat_minor": 1
}
